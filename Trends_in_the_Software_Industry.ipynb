{
  "nbformat": 4,
  "nbformat_minor": 0,
  "metadata": {
    "colab": {
      "provenance": [],
      "mount_file_id": "1DZHpMLuRh-Pvgt1TZX_X5XdWy2RTQHX6",
      "authorship_tag": "ABX9TyPaCXxeZJQTxD4FhnnBZ5ZD",
      "include_colab_link": true
    },
    "kernelspec": {
      "name": "python3",
      "display_name": "Python 3"
    },
    "language_info": {
      "name": "python"
    }
  },
  "cells": [
    {
      "cell_type": "markdown",
      "metadata": {
        "id": "view-in-github",
        "colab_type": "text"
      },
      "source": [
        "<a href=\"https://colab.research.google.com/github/AminaZahid/Analyzing-Job-Trends-in-Software-Industry-using-LDA/blob/main/Trends_in_the_Software_Industry.ipynb\" target=\"_parent\"><img src=\"https://colab.research.google.com/assets/colab-badge.svg\" alt=\"Open In Colab\"/></a>"
      ]
    },
    {
      "cell_type": "code",
      "execution_count": 2,
      "metadata": {
        "id": "_BRudRTGhtMc"
      },
      "outputs": [],
      "source": [
        "import pandas as pd\n",
        "import numpy as np\n",
        "import os"
      ]
    },
    {
      "cell_type": "code",
      "source": [
        "data1=pd.read_excel('/content/drive/MyDrive/All 10 freelane-webs.xlsx')\n",
        "data1"
      ],
      "metadata": {
        "colab": {
          "base_uri": "https://localhost:8080/",
          "height": 424
        },
        "id": "qirT1rdv-ThU",
        "outputId": "cde4d53f-20f3-4c99-9ba5-b97dd3224645"
      },
      "execution_count": 3,
      "outputs": [
        {
          "output_type": "execute_result",
          "data": {
            "text/plain": [
              "                                      Jobs                   Job Type   Salary\n",
              "0                         Microsoft Office                        NaN  $16/ Hr\n",
              "1                              Logo Design                        NaN     $150\n",
              "2                                    mysql                        NaN     $125\n",
              "3                   iPhone App Development                        NaN     $351\n",
              "4                                 Articles                        NaN       $6\n",
              "...                                    ...                        ...      ...\n",
              "4548     UX/UI Product Designer*in (m/f/d)  Full-time-Remote Friendly      NaN\n",
              "4549                       Senior Designer  Full-time-Remote Friendly      NaN\n",
              "4550  Graphic Designer (Freelance-to-Hire)  Full-time-Remote Friendly      NaN\n",
              "4551    Digital Marketing Graphic Designer  Full-time-Remote Friendly      NaN\n",
              "4552                 Senior UI/UX Designer  Full-time-Remote Friendly      NaN\n",
              "\n",
              "[4553 rows x 3 columns]"
            ],
            "text/html": [
              "\n",
              "  <div id=\"df-3fc123b6-8f95-4f35-a2b0-e831dce3673a\">\n",
              "    <div class=\"colab-df-container\">\n",
              "      <div>\n",
              "<style scoped>\n",
              "    .dataframe tbody tr th:only-of-type {\n",
              "        vertical-align: middle;\n",
              "    }\n",
              "\n",
              "    .dataframe tbody tr th {\n",
              "        vertical-align: top;\n",
              "    }\n",
              "\n",
              "    .dataframe thead th {\n",
              "        text-align: right;\n",
              "    }\n",
              "</style>\n",
              "<table border=\"1\" class=\"dataframe\">\n",
              "  <thead>\n",
              "    <tr style=\"text-align: right;\">\n",
              "      <th></th>\n",
              "      <th>Jobs</th>\n",
              "      <th>Job Type</th>\n",
              "      <th>Salary</th>\n",
              "    </tr>\n",
              "  </thead>\n",
              "  <tbody>\n",
              "    <tr>\n",
              "      <th>0</th>\n",
              "      <td>Microsoft Office</td>\n",
              "      <td>NaN</td>\n",
              "      <td>$16/ Hr</td>\n",
              "    </tr>\n",
              "    <tr>\n",
              "      <th>1</th>\n",
              "      <td>Logo Design</td>\n",
              "      <td>NaN</td>\n",
              "      <td>$150</td>\n",
              "    </tr>\n",
              "    <tr>\n",
              "      <th>2</th>\n",
              "      <td>mysql</td>\n",
              "      <td>NaN</td>\n",
              "      <td>$125</td>\n",
              "    </tr>\n",
              "    <tr>\n",
              "      <th>3</th>\n",
              "      <td>iPhone App Development</td>\n",
              "      <td>NaN</td>\n",
              "      <td>$351</td>\n",
              "    </tr>\n",
              "    <tr>\n",
              "      <th>4</th>\n",
              "      <td>Articles</td>\n",
              "      <td>NaN</td>\n",
              "      <td>$6</td>\n",
              "    </tr>\n",
              "    <tr>\n",
              "      <th>...</th>\n",
              "      <td>...</td>\n",
              "      <td>...</td>\n",
              "      <td>...</td>\n",
              "    </tr>\n",
              "    <tr>\n",
              "      <th>4548</th>\n",
              "      <td>UX/UI Product Designer*in (m/f/d)</td>\n",
              "      <td>Full-time-Remote Friendly</td>\n",
              "      <td>NaN</td>\n",
              "    </tr>\n",
              "    <tr>\n",
              "      <th>4549</th>\n",
              "      <td>Senior Designer</td>\n",
              "      <td>Full-time-Remote Friendly</td>\n",
              "      <td>NaN</td>\n",
              "    </tr>\n",
              "    <tr>\n",
              "      <th>4550</th>\n",
              "      <td>Graphic Designer (Freelance-to-Hire)</td>\n",
              "      <td>Full-time-Remote Friendly</td>\n",
              "      <td>NaN</td>\n",
              "    </tr>\n",
              "    <tr>\n",
              "      <th>4551</th>\n",
              "      <td>Digital Marketing Graphic Designer</td>\n",
              "      <td>Full-time-Remote Friendly</td>\n",
              "      <td>NaN</td>\n",
              "    </tr>\n",
              "    <tr>\n",
              "      <th>4552</th>\n",
              "      <td>Senior UI/UX Designer</td>\n",
              "      <td>Full-time-Remote Friendly</td>\n",
              "      <td>NaN</td>\n",
              "    </tr>\n",
              "  </tbody>\n",
              "</table>\n",
              "<p>4553 rows × 3 columns</p>\n",
              "</div>\n",
              "      <button class=\"colab-df-convert\" onclick=\"convertToInteractive('df-3fc123b6-8f95-4f35-a2b0-e831dce3673a')\"\n",
              "              title=\"Convert this dataframe to an interactive table.\"\n",
              "              style=\"display:none;\">\n",
              "        \n",
              "  <svg xmlns=\"http://www.w3.org/2000/svg\" height=\"24px\"viewBox=\"0 0 24 24\"\n",
              "       width=\"24px\">\n",
              "    <path d=\"M0 0h24v24H0V0z\" fill=\"none\"/>\n",
              "    <path d=\"M18.56 5.44l.94 2.06.94-2.06 2.06-.94-2.06-.94-.94-2.06-.94 2.06-2.06.94zm-11 1L8.5 8.5l.94-2.06 2.06-.94-2.06-.94L8.5 2.5l-.94 2.06-2.06.94zm10 10l.94 2.06.94-2.06 2.06-.94-2.06-.94-.94-2.06-.94 2.06-2.06.94z\"/><path d=\"M17.41 7.96l-1.37-1.37c-.4-.4-.92-.59-1.43-.59-.52 0-1.04.2-1.43.59L10.3 9.45l-7.72 7.72c-.78.78-.78 2.05 0 2.83L4 21.41c.39.39.9.59 1.41.59.51 0 1.02-.2 1.41-.59l7.78-7.78 2.81-2.81c.8-.78.8-2.07 0-2.86zM5.41 20L4 18.59l7.72-7.72 1.47 1.35L5.41 20z\"/>\n",
              "  </svg>\n",
              "      </button>\n",
              "      \n",
              "  <style>\n",
              "    .colab-df-container {\n",
              "      display:flex;\n",
              "      flex-wrap:wrap;\n",
              "      gap: 12px;\n",
              "    }\n",
              "\n",
              "    .colab-df-convert {\n",
              "      background-color: #E8F0FE;\n",
              "      border: none;\n",
              "      border-radius: 50%;\n",
              "      cursor: pointer;\n",
              "      display: none;\n",
              "      fill: #1967D2;\n",
              "      height: 32px;\n",
              "      padding: 0 0 0 0;\n",
              "      width: 32px;\n",
              "    }\n",
              "\n",
              "    .colab-df-convert:hover {\n",
              "      background-color: #E2EBFA;\n",
              "      box-shadow: 0px 1px 2px rgba(60, 64, 67, 0.3), 0px 1px 3px 1px rgba(60, 64, 67, 0.15);\n",
              "      fill: #174EA6;\n",
              "    }\n",
              "\n",
              "    [theme=dark] .colab-df-convert {\n",
              "      background-color: #3B4455;\n",
              "      fill: #D2E3FC;\n",
              "    }\n",
              "\n",
              "    [theme=dark] .colab-df-convert:hover {\n",
              "      background-color: #434B5C;\n",
              "      box-shadow: 0px 1px 3px 1px rgba(0, 0, 0, 0.15);\n",
              "      filter: drop-shadow(0px 1px 2px rgba(0, 0, 0, 0.3));\n",
              "      fill: #FFFFFF;\n",
              "    }\n",
              "  </style>\n",
              "\n",
              "      <script>\n",
              "        const buttonEl =\n",
              "          document.querySelector('#df-3fc123b6-8f95-4f35-a2b0-e831dce3673a button.colab-df-convert');\n",
              "        buttonEl.style.display =\n",
              "          google.colab.kernel.accessAllowed ? 'block' : 'none';\n",
              "\n",
              "        async function convertToInteractive(key) {\n",
              "          const element = document.querySelector('#df-3fc123b6-8f95-4f35-a2b0-e831dce3673a');\n",
              "          const dataTable =\n",
              "            await google.colab.kernel.invokeFunction('convertToInteractive',\n",
              "                                                     [key], {});\n",
              "          if (!dataTable) return;\n",
              "\n",
              "          const docLinkHtml = 'Like what you see? Visit the ' +\n",
              "            '<a target=\"_blank\" href=https://colab.research.google.com/notebooks/data_table.ipynb>data table notebook</a>'\n",
              "            + ' to learn more about interactive tables.';\n",
              "          element.innerHTML = '';\n",
              "          dataTable['output_type'] = 'display_data';\n",
              "          await google.colab.output.renderOutput(dataTable, element);\n",
              "          const docLink = document.createElement('div');\n",
              "          docLink.innerHTML = docLinkHtml;\n",
              "          element.appendChild(docLink);\n",
              "        }\n",
              "      </script>\n",
              "    </div>\n",
              "  </div>\n",
              "  "
            ]
          },
          "metadata": {},
          "execution_count": 3
        }
      ]
    },
    {
      "cell_type": "code",
      "source": [
        "df=data1.copy()"
      ],
      "metadata": {
        "id": "uHXdNQ0KKngI"
      },
      "execution_count": 4,
      "outputs": []
    },
    {
      "cell_type": "code",
      "source": [
        "df.info()"
      ],
      "metadata": {
        "colab": {
          "base_uri": "https://localhost:8080/"
        },
        "id": "JsBIOx1LMXUz",
        "outputId": "3f5f70f0-f120-4117-e72f-66fb6832a6a8"
      },
      "execution_count": 5,
      "outputs": [
        {
          "output_type": "stream",
          "name": "stdout",
          "text": [
            "<class 'pandas.core.frame.DataFrame'>\n",
            "RangeIndex: 4553 entries, 0 to 4552\n",
            "Data columns (total 3 columns):\n",
            " #   Column    Non-Null Count  Dtype \n",
            "---  ------    --------------  ----- \n",
            " 0   Jobs      4547 non-null   object\n",
            " 1   Job Type  1997 non-null   object\n",
            " 2   Salary    768 non-null    object\n",
            "dtypes: object(3)\n",
            "memory usage: 106.8+ KB\n"
          ]
        }
      ]
    },
    {
      "cell_type": "code",
      "source": [
        "df.describe()"
      ],
      "metadata": {
        "colab": {
          "base_uri": "https://localhost:8080/",
          "height": 175
        },
        "id": "pwcu8FX8Me8r",
        "outputId": "a1d5c6cc-b455-4a73-d256-f4655cc8109f"
      },
      "execution_count": 6,
      "outputs": [
        {
          "output_type": "execute_result",
          "data": {
            "text/plain": [
              "                   Jobs   Job Type Salary\n",
              "count              4547       1997    768\n",
              "unique             2309        146    345\n",
              "top     graphics design  Full-Time     $6\n",
              "freq                103        799     31"
            ],
            "text/html": [
              "\n",
              "  <div id=\"df-821fcd37-145a-45bc-9435-b79371ff6862\">\n",
              "    <div class=\"colab-df-container\">\n",
              "      <div>\n",
              "<style scoped>\n",
              "    .dataframe tbody tr th:only-of-type {\n",
              "        vertical-align: middle;\n",
              "    }\n",
              "\n",
              "    .dataframe tbody tr th {\n",
              "        vertical-align: top;\n",
              "    }\n",
              "\n",
              "    .dataframe thead th {\n",
              "        text-align: right;\n",
              "    }\n",
              "</style>\n",
              "<table border=\"1\" class=\"dataframe\">\n",
              "  <thead>\n",
              "    <tr style=\"text-align: right;\">\n",
              "      <th></th>\n",
              "      <th>Jobs</th>\n",
              "      <th>Job Type</th>\n",
              "      <th>Salary</th>\n",
              "    </tr>\n",
              "  </thead>\n",
              "  <tbody>\n",
              "    <tr>\n",
              "      <th>count</th>\n",
              "      <td>4547</td>\n",
              "      <td>1997</td>\n",
              "      <td>768</td>\n",
              "    </tr>\n",
              "    <tr>\n",
              "      <th>unique</th>\n",
              "      <td>2309</td>\n",
              "      <td>146</td>\n",
              "      <td>345</td>\n",
              "    </tr>\n",
              "    <tr>\n",
              "      <th>top</th>\n",
              "      <td>graphics design</td>\n",
              "      <td>Full-Time</td>\n",
              "      <td>$6</td>\n",
              "    </tr>\n",
              "    <tr>\n",
              "      <th>freq</th>\n",
              "      <td>103</td>\n",
              "      <td>799</td>\n",
              "      <td>31</td>\n",
              "    </tr>\n",
              "  </tbody>\n",
              "</table>\n",
              "</div>\n",
              "      <button class=\"colab-df-convert\" onclick=\"convertToInteractive('df-821fcd37-145a-45bc-9435-b79371ff6862')\"\n",
              "              title=\"Convert this dataframe to an interactive table.\"\n",
              "              style=\"display:none;\">\n",
              "        \n",
              "  <svg xmlns=\"http://www.w3.org/2000/svg\" height=\"24px\"viewBox=\"0 0 24 24\"\n",
              "       width=\"24px\">\n",
              "    <path d=\"M0 0h24v24H0V0z\" fill=\"none\"/>\n",
              "    <path d=\"M18.56 5.44l.94 2.06.94-2.06 2.06-.94-2.06-.94-.94-2.06-.94 2.06-2.06.94zm-11 1L8.5 8.5l.94-2.06 2.06-.94-2.06-.94L8.5 2.5l-.94 2.06-2.06.94zm10 10l.94 2.06.94-2.06 2.06-.94-2.06-.94-.94-2.06-.94 2.06-2.06.94z\"/><path d=\"M17.41 7.96l-1.37-1.37c-.4-.4-.92-.59-1.43-.59-.52 0-1.04.2-1.43.59L10.3 9.45l-7.72 7.72c-.78.78-.78 2.05 0 2.83L4 21.41c.39.39.9.59 1.41.59.51 0 1.02-.2 1.41-.59l7.78-7.78 2.81-2.81c.8-.78.8-2.07 0-2.86zM5.41 20L4 18.59l7.72-7.72 1.47 1.35L5.41 20z\"/>\n",
              "  </svg>\n",
              "      </button>\n",
              "      \n",
              "  <style>\n",
              "    .colab-df-container {\n",
              "      display:flex;\n",
              "      flex-wrap:wrap;\n",
              "      gap: 12px;\n",
              "    }\n",
              "\n",
              "    .colab-df-convert {\n",
              "      background-color: #E8F0FE;\n",
              "      border: none;\n",
              "      border-radius: 50%;\n",
              "      cursor: pointer;\n",
              "      display: none;\n",
              "      fill: #1967D2;\n",
              "      height: 32px;\n",
              "      padding: 0 0 0 0;\n",
              "      width: 32px;\n",
              "    }\n",
              "\n",
              "    .colab-df-convert:hover {\n",
              "      background-color: #E2EBFA;\n",
              "      box-shadow: 0px 1px 2px rgba(60, 64, 67, 0.3), 0px 1px 3px 1px rgba(60, 64, 67, 0.15);\n",
              "      fill: #174EA6;\n",
              "    }\n",
              "\n",
              "    [theme=dark] .colab-df-convert {\n",
              "      background-color: #3B4455;\n",
              "      fill: #D2E3FC;\n",
              "    }\n",
              "\n",
              "    [theme=dark] .colab-df-convert:hover {\n",
              "      background-color: #434B5C;\n",
              "      box-shadow: 0px 1px 3px 1px rgba(0, 0, 0, 0.15);\n",
              "      filter: drop-shadow(0px 1px 2px rgba(0, 0, 0, 0.3));\n",
              "      fill: #FFFFFF;\n",
              "    }\n",
              "  </style>\n",
              "\n",
              "      <script>\n",
              "        const buttonEl =\n",
              "          document.querySelector('#df-821fcd37-145a-45bc-9435-b79371ff6862 button.colab-df-convert');\n",
              "        buttonEl.style.display =\n",
              "          google.colab.kernel.accessAllowed ? 'block' : 'none';\n",
              "\n",
              "        async function convertToInteractive(key) {\n",
              "          const element = document.querySelector('#df-821fcd37-145a-45bc-9435-b79371ff6862');\n",
              "          const dataTable =\n",
              "            await google.colab.kernel.invokeFunction('convertToInteractive',\n",
              "                                                     [key], {});\n",
              "          if (!dataTable) return;\n",
              "\n",
              "          const docLinkHtml = 'Like what you see? Visit the ' +\n",
              "            '<a target=\"_blank\" href=https://colab.research.google.com/notebooks/data_table.ipynb>data table notebook</a>'\n",
              "            + ' to learn more about interactive tables.';\n",
              "          element.innerHTML = '';\n",
              "          dataTable['output_type'] = 'display_data';\n",
              "          await google.colab.output.renderOutput(dataTable, element);\n",
              "          const docLink = document.createElement('div');\n",
              "          docLink.innerHTML = docLinkHtml;\n",
              "          element.appendChild(docLink);\n",
              "        }\n",
              "      </script>\n",
              "    </div>\n",
              "  </div>\n",
              "  "
            ]
          },
          "metadata": {},
          "execution_count": 6
        }
      ]
    },
    {
      "cell_type": "code",
      "source": [
        "df.isna().sum()"
      ],
      "metadata": {
        "colab": {
          "base_uri": "https://localhost:8080/"
        },
        "id": "xlUSbVsBMjDM",
        "outputId": "e4c27912-9e60-43a1-ca5d-1d31775fb7ae"
      },
      "execution_count": 7,
      "outputs": [
        {
          "output_type": "execute_result",
          "data": {
            "text/plain": [
              "Jobs           6\n",
              "Job Type    2556\n",
              "Salary      3785\n",
              "dtype: int64"
            ]
          },
          "metadata": {},
          "execution_count": 7
        }
      ]
    },
    {
      "cell_type": "code",
      "source": [
        "df['Jobs'].count()"
      ],
      "metadata": {
        "colab": {
          "base_uri": "https://localhost:8080/"
        },
        "id": "nUMxj5ekMoAX",
        "outputId": "de97282f-b7be-465e-93dd-d220921ec33b"
      },
      "execution_count": 8,
      "outputs": [
        {
          "output_type": "execute_result",
          "data": {
            "text/plain": [
              "4547"
            ]
          },
          "metadata": {},
          "execution_count": 8
        }
      ]
    },
    {
      "cell_type": "code",
      "source": [
        "df['Jobs'].unique()"
      ],
      "metadata": {
        "colab": {
          "base_uri": "https://localhost:8080/"
        },
        "id": "quS2trDoMvVX",
        "outputId": "2d08ee73-525d-4cfd-eaa8-6658ee52e311"
      },
      "execution_count": 9,
      "outputs": [
        {
          "output_type": "execute_result",
          "data": {
            "text/plain": [
              "array(['Microsoft Office', 'Logo Design', 'mysql', ...,\n",
              "       'Graphic Designer (Freelance-to-Hire)',\n",
              "       'Digital Marketing Graphic Designer', 'Senior UI/UX Designer'],\n",
              "      dtype=object)"
            ]
          },
          "metadata": {},
          "execution_count": 9
        }
      ]
    },
    {
      "cell_type": "code",
      "source": [
        "a = df['Jobs'].unique()\n",
        "a"
      ],
      "metadata": {
        "colab": {
          "base_uri": "https://localhost:8080/"
        },
        "id": "F6yZi0XGNG3Z",
        "outputId": "4789b965-2082-48cf-fadd-9f1e2fd0e4a0"
      },
      "execution_count": 10,
      "outputs": [
        {
          "output_type": "execute_result",
          "data": {
            "text/plain": [
              "array(['Microsoft Office', 'Logo Design', 'mysql', ...,\n",
              "       'Graphic Designer (Freelance-to-Hire)',\n",
              "       'Digital Marketing Graphic Designer', 'Senior UI/UX Designer'],\n",
              "      dtype=object)"
            ]
          },
          "metadata": {},
          "execution_count": 10
        }
      ]
    },
    {
      "cell_type": "code",
      "source": [
        "import matplotlib.pyplot as plt\n",
        "import seaborn as sns"
      ],
      "metadata": {
        "id": "Qmbod3x8NdZb"
      },
      "execution_count": 11,
      "outputs": []
    },
    {
      "cell_type": "code",
      "source": [
        "sns.countplot(x = a, data = df)\n",
        "plt.xlabel('Jobs')"
      ],
      "metadata": {
        "colab": {
          "base_uri": "https://localhost:8080/",
          "height": 491
        },
        "id": "dUCv5FJPNUHX",
        "outputId": "963a26ec-7170-4ee4-924f-ba86435b877a"
      },
      "execution_count": 12,
      "outputs": [
        {
          "output_type": "execute_result",
          "data": {
            "text/plain": [
              "Text(0.5, 0, 'Jobs')"
            ]
          },
          "metadata": {},
          "execution_count": 12
        },
        {
          "output_type": "stream",
          "name": "stderr",
          "text": [
            "/usr/local/lib/python3.8/dist-packages/matplotlib/backends/backend_agg.py:214: RuntimeWarning: Glyph 11088 missing from current font.\n",
            "  font.set_text(s, 0.0, flags=flags)\n",
            "/usr/local/lib/python3.8/dist-packages/matplotlib/backends/backend_agg.py:214: RuntimeWarning: Glyph 9989 missing from current font.\n",
            "  font.set_text(s, 0.0, flags=flags)\n",
            "/usr/local/lib/python3.8/dist-packages/matplotlib/backends/backend_agg.py:214: RuntimeWarning: Glyph 12321 missing from current font.\n",
            "  font.set_text(s, 0.0, flags=flags)\n",
            "/usr/local/lib/python3.8/dist-packages/matplotlib/backends/backend_agg.py:183: RuntimeWarning: Glyph 11088 missing from current font.\n",
            "  font.set_text(s, 0, flags=flags)\n",
            "/usr/local/lib/python3.8/dist-packages/matplotlib/backends/backend_agg.py:183: RuntimeWarning: Glyph 9989 missing from current font.\n",
            "  font.set_text(s, 0, flags=flags)\n",
            "/usr/local/lib/python3.8/dist-packages/matplotlib/backends/backend_agg.py:183: RuntimeWarning: Glyph 12321 missing from current font.\n",
            "  font.set_text(s, 0, flags=flags)\n"
          ]
        },
        {
          "output_type": "display_data",
          "data": {
            "text/plain": [
              "<Figure size 432x288 with 1 Axes>"
            ],
            "image/png": "[encoded data removed]"
          },
          "metadata": {
            "needs_background": "light"
          }
        }
      ]
    },
    {
      "cell_type": "code",
      "source": [
        "c = df['Job Type'].unique()\n",
        "sns.countplot(x = c, data = df)\n",
        "plt.xlabel('Job Type')"
      ],
      "metadata": {
        "colab": {
          "base_uri": "https://localhost:8080/",
          "height": 296
        },
        "id": "y1jbiAF9Nb4X",
        "outputId": "f89c064a-488e-497d-810b-35366f56d654"
      },
      "execution_count": 13,
      "outputs": [
        {
          "output_type": "execute_result",
          "data": {
            "text/plain": [
              "Text(0.5, 0, 'Job Type')"
            ]
          },
          "metadata": {},
          "execution_count": 13
        },
        {
          "output_type": "display_data",
          "data": {
            "text/plain": [
              "<Figure size 432x288 with 1 Axes>"
            ],
            "image/png": "[encoded data removed]"
          },
          "metadata": {
            "needs_background": "light"
          }
        }
      ]
    },
    {
      "cell_type": "code",
      "source": [
        "df1 = len(df['Job Type'].dropna())\n",
        "df1"
      ],
      "metadata": {
        "colab": {
          "base_uri": "https://localhost:8080/"
        },
        "id": "jBMq7YbzO9z5",
        "outputId": "a6a04440-4014-4137-9cbd-da8562014aa7"
      },
      "execution_count": 14,
      "outputs": [
        {
          "output_type": "execute_result",
          "data": {
            "text/plain": [
              "1997"
            ]
          },
          "metadata": {},
          "execution_count": 14
        }
      ]
    },
    {
      "cell_type": "code",
      "source": [
        "df2 = len(df['Jobs'].dropna())\n",
        "df2"
      ],
      "metadata": {
        "colab": {
          "base_uri": "https://localhost:8080/"
        },
        "id": "gBSibRXvPyYR",
        "outputId": "f77c0fb4-9486-42aa-d1a4-d6452aba1842"
      },
      "execution_count": 15,
      "outputs": [
        {
          "output_type": "execute_result",
          "data": {
            "text/plain": [
              "4547"
            ]
          },
          "metadata": {},
          "execution_count": 15
        }
      ]
    },
    {
      "cell_type": "code",
      "source": [
        "df3 = len(df['Salary'].dropna())\n",
        "df3"
      ],
      "metadata": {
        "colab": {
          "base_uri": "https://localhost:8080/"
        },
        "id": "dxqhL8WfQi0k",
        "outputId": "96b32433-987e-4599-df2e-6730cee22641"
      },
      "execution_count": 16,
      "outputs": [
        {
          "output_type": "execute_result",
          "data": {
            "text/plain": [
              "768"
            ]
          },
          "metadata": {},
          "execution_count": 16
        }
      ]
    },
    {
      "cell_type": "code",
      "source": [
        "country_data=df.groupby('Jobs').size().sort_values(ascending=False).head(10)\n",
        "country = country_data.index.tolist()\n",
        "values = country_data.values.tolist()\n",
        "\n",
        "_ = plt.figure(figsize=(15,5))\n",
        "_ = plt.title('Number of Jobs')\n",
        "g = sns.barplot(x=country,y=values)\n",
        "for i in g.patches:\n",
        "    _ = g.text(i.get_x()+.24,i.get_height()+.38,str(int(round(i.get_height(),0))))\n",
        "_ = plt.xlabel('Jobs')\n",
        "_ = plt.ylabel('Count')"
      ],
      "metadata": {
        "colab": {
          "base_uri": "https://localhost:8080/",
          "height": 350
        },
        "id": "MXlMQp3NQ6da",
        "outputId": "1f470c7e-1baf-4e9a-f2de-29470119dc60"
      },
      "execution_count": 17,
      "outputs": [
        {
          "output_type": "display_data",
          "data": {
            "text/plain": [
              "<Figure size 1080x360 with 1 Axes>"
            ],
            "image/png": "[encoded data removed]"
          },
          "metadata": {
            "needs_background": "light"
          }
        }
      ]
    },
    {
      "cell_type": "code",
      "source": [
        "country_data=df.groupby('Job Type').size().sort_values(ascending=False).head(10)\n",
        "country = country_data.index.tolist()\n",
        "values = country_data.values.tolist()\n",
        "\n",
        "_ = plt.figure(figsize=(19,8))\n",
        "_ = plt.title('List of Job Type')\n",
        "g = sns.barplot(x=country,y=values)\n",
        "for i in g.patches:\n",
        "    _ = g.text(i.get_x()+.24,i.get_height()+.38,str(int(round(i.get_height(),0))))\n",
        "_ = plt.xlabel('Job Type')\n",
        "_ = plt.ylabel('Count')"
      ],
      "metadata": {
        "colab": {
          "base_uri": "https://localhost:8080/",
          "height": 513
        },
        "id": "1fVIXzZSRIKD",
        "outputId": "208322eb-84ce-4981-9ec3-cc61935b0baf"
      },
      "execution_count": 18,
      "outputs": [
        {
          "output_type": "display_data",
          "data": {
            "text/plain": [
              "<Figure size 1368x576 with 1 Axes>"
            ],
            "image/png": "[encoded data removed]"
          },
          "metadata": {
            "needs_background": "light"
          }
        }
      ]
    },
    {
      "cell_type": "code",
      "source": [
        "country_data=df.groupby('Salary').size().sort_values(ascending=False).head(10)\n",
        "country = country_data.index.tolist()\n",
        "values = country_data.values.tolist()\n",
        "\n",
        "_ = plt.figure(figsize=(19,8))\n",
        "_ = plt.title('List acc. to Salary')\n",
        "g = sns.barplot(x=country,y=values)\n",
        "for i in g.patches:\n",
        "    _ = g.text(i.get_x()+.24,i.get_height()+.38,str(int(round(i.get_height(),0))))\n",
        "_ = plt.xlabel('Salary')\n",
        "_ = plt.ylabel('Count')"
      ],
      "metadata": {
        "colab": {
          "base_uri": "https://localhost:8080/",
          "height": 617
        },
        "id": "xcxusLbzR0ds",
        "outputId": "1fcc48eb-460b-4fc5-b7d6-f3c974136503"
      },
      "execution_count": 19,
      "outputs": [
        {
          "output_type": "stream",
          "name": "stderr",
          "text": [
            "/usr/local/lib/python3.8/dist-packages/matplotlib/backends/backend_agg.py:214: RuntimeWarning: Glyph 9 missing from current font.\n",
            "  font.set_text(s, 0.0, flags=flags)\n",
            "/usr/local/lib/python3.8/dist-packages/matplotlib/backends/backend_agg.py:183: RuntimeWarning: Glyph 9 missing from current font.\n",
            "  font.set_text(s, 0, flags=flags)\n"
          ]
        },
        {
          "output_type": "display_data",
          "data": {
            "text/plain": [
              "<Figure size 1368x576 with 1 Axes>"
            ],
            "image/png": "[encoded data removed]"
          },
          "metadata": {
            "needs_background": "light"
          }
        }
      ]
    },
    {
      "cell_type": "code",
      "source": [
        "import plotly.express as px"
      ],
      "metadata": {
        "id": "bKyLYTkiqvG1"
      },
      "execution_count": 26,
      "outputs": []
    },
    {
      "cell_type": "code",
      "source": [
        "sns.countplot(y=df.Jobs,order=df.Jobs.value_counts().iloc[:15].index)\n",
        "# plt.xticks(rotation=90)\n",
        "plt.show()"
      ],
      "metadata": {
        "colab": {
          "base_uri": "https://localhost:8080/",
          "height": 279
        },
        "id": "dcEsrGynSN4C",
        "outputId": "1778afd0-ff74-4fdd-b197-00f79a78e9db"
      },
      "execution_count": 39,
      "outputs": [
        {
          "output_type": "display_data",
          "data": {
            "text/plain": [
              "<Figure size 432x288 with 1 Axes>"
            ],
            "image/png": "[encoded data removed]"
          },
          "metadata": {
            "needs_background": "light"
          }
        }
      ]
    },
    {
      "cell_type": "code",
      "source": [],
      "metadata": {
        "id": "8FQpZ5tTuwUA"
      },
      "execution_count": null,
      "outputs": []
    },
    {
      "cell_type": "code",
      "source": [
        "import gensim\n",
        "from gensim.utils import simple_preprocess\n",
        "import nltk\n",
        "nltk.download('stopwords')\n",
        "from nltk.corpus import stopwords\n",
        "stop_words = stopwords.words('english')\n",
        "stop_words.extend(['from', 'subject', 're', 'edu', 'use'])\n",
        "def sent_to_words(sentences):\n",
        "    for sentence in sentences:\n",
        "        # deacc=True removes punctuations\n",
        "        yield(gensim.utils.simple_preprocess(str(sentence), deacc=True))\n",
        "def remove_stopwords(texts):\n",
        "    return [[word for word in simple_preprocess(str(doc)) \n",
        "             if word not in stop_words] for doc in texts]\n",
        "data = df.Jobs.values.tolist()\n",
        "data_words = list(sent_to_words(data))\n",
        "# remove stop words\n",
        "data_words = remove_stopwords(data_words)\n",
        "print(data_words[:1][0][:30])\n"
      ],
      "metadata": {
        "colab": {
          "base_uri": "https://localhost:8080/"
        },
        "id": "sGlcUsqsrj64",
        "outputId": "e542caac-6ce5-4c56-b842-1ec205f58ba9"
      },
      "execution_count": 42,
      "outputs": [
        {
          "output_type": "stream",
          "name": "stderr",
          "text": [
            "[nltk_data] Downloading package stopwords to /root/nltk_data...\n",
            "[nltk_data]   Package stopwords is already up-to-date!\n"
          ]
        },
        {
          "output_type": "stream",
          "name": "stdout",
          "text": [
            "['microsoft', 'office']\n"
          ]
        }
      ]
    },
    {
      "cell_type": "code",
      "source": [
        "import gensim.corpora as corpora\n",
        "# Create Dictionary\n",
        "id2word = corpora.Dictionary(data_words)\n",
        "# Create Corpus\n",
        "texts = data_words\n",
        "# Term Document Frequency\n",
        "corpus = [id2word.doc2bow(text) for text in texts]\n",
        "# View\n",
        "print(corpus[:1][0][:30])"
      ],
      "metadata": {
        "colab": {
          "base_uri": "https://localhost:8080/"
        },
        "id": "MC8_NACwsWt8",
        "outputId": "c27ea358-6787-437f-dadf-f62e4bff07c1"
      },
      "execution_count": 43,
      "outputs": [
        {
          "output_type": "stream",
          "name": "stdout",
          "text": [
            "[(0, 1), (1, 1)]\n"
          ]
        }
      ]
    },
    {
      "cell_type": "code",
      "source": [
        "from pprint import pprint\n",
        "# number of topics\n",
        "num_topics = 10\n",
        "# Build LDA model\n",
        "lda_model = gensim.models.LdaMulticore(corpus=corpus,\n",
        "                                       id2word=id2word,\n",
        "                                       num_topics=num_topics)\n",
        "# Print the Keyword in the 10 topics\n",
        "pprint(lda_model.print_topics())\n",
        "doc_lda = lda_model[corpus]"
      ],
      "metadata": {
        "colab": {
          "base_uri": "https://localhost:8080/"
        },
        "id": "Igg74_QCv1gx",
        "outputId": "c72c28d9-f9a7-4ea0-b720-c363a7c0a682"
      },
      "execution_count": 44,
      "outputs": [
        {
          "output_type": "stream",
          "name": "stderr",
          "text": [
            "WARNING:gensim.models.ldamulticore:too few updates, training might not converge; consider increasing the number of passes or iterations to improve accuracy\n"
          ]
        },
        {
          "output_type": "stream",
          "name": "stdout",
          "text": [
            "[(0,\n",
            "  '0.048*\"designer\" + 0.040*\"product\" + 0.031*\"html\" + 0.027*\"developer\" + '\n",
            "  '0.026*\"senior\" + 0.020*\"software\" + 0.016*\"specialist\" + 0.016*\"ui\" + '\n",
            "  '0.016*\"ux\" + 0.014*\"design\"'),\n",
            " (1,\n",
            "  '0.043*\"editing\" + 0.031*\"software\" + 0.030*\"design\" + 0.025*\"engineer\" + '\n",
            "  '0.022*\"rendering\" + 0.019*\"proofreading\" + 0.018*\"development\" + '\n",
            "  '0.018*\"image\" + 0.017*\"web\" + 0.017*\"testing\"'),\n",
            " (2,\n",
            "  '0.046*\"designer\" + 0.035*\"developer\" + 0.032*\"design\" + 0.029*\"wordpress\" + '\n",
            "  '0.027*\"animation\" + 0.026*\"web\" + 0.017*\"software\" + 0.014*\"building\" + '\n",
            "  '0.014*\"link\" + 0.013*\"amazon\"'),\n",
            " (3,\n",
            "  '0.110*\"software\" + 0.049*\"web\" + 0.047*\"engineer\" + 0.034*\"design\" + '\n",
            "  '0.033*\"development\" + 0.032*\"developer\" + 0.028*\"develop\" + 0.020*\"mobile\" '\n",
            "  '+ 0.018*\"js\" + 0.015*\"application\"'),\n",
            " (4,\n",
            "  '0.044*\"graphics\" + 0.041*\"development\" + 0.040*\"software\" + '\n",
            "  '0.040*\"marketing\" + 0.038*\"design\" + 0.022*\"designer\" + 0.018*\"adobe\" + '\n",
            "  '0.018*\"web\" + 0.018*\"engineer\" + 0.016*\"wordpress\"'),\n",
            " (5,\n",
            "  '0.035*\"web\" + 0.031*\"marketing\" + 0.030*\"developer\" + 0.022*\"microsoft\" + '\n",
            "  '0.018*\"development\" + 0.015*\"proofreading\" + 0.014*\"consultant\" + '\n",
            "  '0.013*\"data\" + 0.013*\"modeling\" + 0.011*\"software\"'),\n",
            " (6,\n",
            "  '0.044*\"software\" + 0.033*\"developer\" + 0.032*\"design\" + 0.025*\"development\" '\n",
            "  '+ 0.025*\"google\" + 0.025*\"business\" + 0.016*\"adobe\" + 0.016*\"ranking\" + '\n",
            "  '0.015*\"marketing\" + 0.015*\"android\"'),\n",
            " (7,\n",
            "  '0.067*\"developer\" + 0.046*\"data\" + 0.032*\"software\" + 0.031*\"web\" + '\n",
            "  '0.029*\"research\" + 0.021*\"media\" + 0.021*\"social\" + 0.021*\"designer\" + '\n",
            "  '0.018*\"writing\" + 0.018*\"entry\"'),\n",
            " (8,\n",
            "  '0.061*\"design\" + 0.031*\"engineer\" + 0.022*\"senior\" + 0.021*\"designer\" + '\n",
            "  '0.019*\"development\" + 0.015*\"marketing\" + 0.014*\"translator\" + '\n",
            "  '0.014*\"expert\" + 0.014*\"brand\" + 0.013*\"graphic\"'),\n",
            " (9,\n",
            "  '0.052*\"software\" + 0.050*\"developer\" + 0.037*\"design\" + 0.028*\"full\" + '\n",
            "  '0.028*\"stack\" + 0.027*\"development\" + 0.021*\"engineer\" + 0.021*\"graphics\" + '\n",
            "  '0.020*\"designer\" + 0.017*\"experienced\"')]\n"
          ]
        }
      ]
    },
    {
      "cell_type": "code",
      "source": [
        "pip install pyLDAvis"
      ],
      "metadata": {
        "colab": {
          "base_uri": "https://localhost:8080/",
          "height": 659
        },
        "id": "pOmq5cE3wEI-",
        "outputId": "1ea5a5ef-ee3e-46c7-d32e-feac05be9b57"
      },
      "execution_count": 46,
      "outputs": [
        {
          "output_type": "stream",
          "name": "stdout",
          "text": [
            "Looking in indexes: https://pypi.org/simple, https://us-python.pkg.dev/colab-wheels/public/simple/\n",
            "Collecting pyLDAvis\n",
            "  Downloading pyLDAvis-3.4.0-py3-none-any.whl (2.6 MB)\n",
            "\u001b[2K     \u001b[90m━━━━━━━━━━━━━━━━━━━━━━━━━━━━━━━━━━━━━━━━\u001b[0m \u001b[32m2.6/2.6 MB\u001b[0m \u001b[31m41.2 MB/s\u001b[0m eta \u001b[36m0:00:00\u001b[0m\n",
            "\u001b[?25hRequirement already satisfied: joblib>=1.2.0 in /usr/local/lib/python3.8/dist-packages (from pyLDAvis) (1.2.0)\n",
            "Requirement already satisfied: gensim in /usr/local/lib/python3.8/dist-packages (from pyLDAvis) (3.6.0)\n",
            "Requirement already satisfied: numexpr in /usr/local/lib/python3.8/dist-packages (from pyLDAvis) (2.8.4)\n",
            "Collecting numpy>=1.22.0\n",
            "  Downloading numpy-1.24.2-cp38-cp38-manylinux_2_17_x86_64.manylinux2014_x86_64.whl (17.3 MB)\n",
            "\u001b[2K     \u001b[90m━━━━━━━━━━━━━━━━━━━━━━━━━━━━━━━━━━━━━━━━\u001b[0m \u001b[32m17.3/17.3 MB\u001b[0m \u001b[31m71.4 MB/s\u001b[0m eta \u001b[36m0:00:00\u001b[0m\n",
            "\u001b[?25hRequirement already satisfied: pandas>=1.3.4 in /usr/local/lib/python3.8/dist-packages (from pyLDAvis) (1.3.5)\n",
            "Requirement already satisfied: scipy in /usr/local/lib/python3.8/dist-packages (from pyLDAvis) (1.7.3)\n",
            "Requirement already satisfied: scikit-learn>=1.0.0 in /usr/local/lib/python3.8/dist-packages (from pyLDAvis) (1.0.2)\n",
            "Collecting funcy\n",
            "  Downloading funcy-1.18-py2.py3-none-any.whl (33 kB)\n",
            "Requirement already satisfied: setuptools in /usr/local/lib/python3.8/dist-packages (from pyLDAvis) (57.4.0)\n",
            "Requirement already satisfied: jinja2 in /usr/local/lib/python3.8/dist-packages (from pyLDAvis) (2.11.3)\n",
            "Requirement already satisfied: python-dateutil>=2.7.3 in /usr/local/lib/python3.8/dist-packages (from pandas>=1.3.4->pyLDAvis) (2.8.2)\n",
            "Requirement already satisfied: pytz>=2017.3 in /usr/local/lib/python3.8/dist-packages (from pandas>=1.3.4->pyLDAvis) (2022.7.1)\n",
            "Requirement already satisfied: threadpoolctl>=2.0.0 in /usr/local/lib/python3.8/dist-packages (from scikit-learn>=1.0.0->pyLDAvis) (3.1.0)\n",
            "Collecting numpy>=1.22.0\n",
            "  Downloading numpy-1.22.4-cp38-cp38-manylinux_2_17_x86_64.manylinux2014_x86_64.whl (16.9 MB)\n",
            "\u001b[2K     \u001b[90m━━━━━━━━━━━━━━━━━━━━━━━━━━━━━━━━━━━━━━━━\u001b[0m \u001b[32m16.9/16.9 MB\u001b[0m \u001b[31m69.1 MB/s\u001b[0m eta \u001b[36m0:00:00\u001b[0m\n",
            "\u001b[?25hRequirement already satisfied: smart-open>=1.2.1 in /usr/local/lib/python3.8/dist-packages (from gensim->pyLDAvis) (6.3.0)\n",
            "Requirement already satisfied: six>=1.5.0 in /usr/local/lib/python3.8/dist-packages (from gensim->pyLDAvis) (1.15.0)\n",
            "Requirement already satisfied: MarkupSafe>=0.23 in /usr/local/lib/python3.8/dist-packages (from jinja2->pyLDAvis) (2.0.1)\n",
            "Installing collected packages: funcy, numpy, pyLDAvis\n",
            "  Attempting uninstall: numpy\n",
            "    Found existing installation: numpy 1.21.6\n",
            "    Uninstalling numpy-1.21.6:\n",
            "      Successfully uninstalled numpy-1.21.6\n",
            "Successfully installed funcy-1.18 numpy-1.22.4 pyLDAvis-3.4.0\n"
          ]
        },
        {
          "output_type": "display_data",
          "data": {
            "application/vnd.colab-display-data+json": {
              "pip_warning": {
                "packages": [
                  "numpy"
                ]
              }
            }
          },
          "metadata": {}
        }
      ]
    },
    {
      "cell_type": "code",
      "source": [
        "import pyLDAvis.gensim\n",
        "import pickle \n",
        "import pyLDAvis\n",
        "# Visualize the topics\n",
        "pyLDAvis.enable_notebook()\n",
        "LDAvis_data_filepath = os.path.join('/content/drive/MyDrive/LDAdataprep'+str(num_topics))\n",
        "# # this is a bit time consuming - make the if statement True\n",
        "# # if you want to execute visualization prep yourself\n",
        "if 1 == 1:\n",
        "    LDAvis_prepared = pyLDAvis.gensim.prepare(lda_model, corpus, id2word)\n",
        "    with open(LDAvis_data_filepath, 'wb') as f:\n",
        "        pickle.dump(LDAvis_prepared, f)\n",
        "# load the pre-prepared pyLDAvis data from disk\n",
        "with open(LDAvis_data_filepath, 'rb') as f:\n",
        "    LDAvis_prepared = pickle.load(f)\n",
        "pyLDAvis.save_html(LDAvis_prepared, '/content/drive/MyDrive/LDA_Results'+ str(num_topics) +'.html')\n",
        "LDAvis_prepared"
      ],
      "metadata": {
        "colab": {
          "base_uri": "https://localhost:8080/",
          "height": 931
        },
        "id": "YxZN76uAv5-o",
        "outputId": "65f96f82-e2c8-42ba-ec20-8a9aa0df1852"
      },
      "execution_count": 50,
      "outputs": [
        {
          "output_type": "stream",
          "name": "stderr",
          "text": [
            "/usr/local/lib/python3.8/dist-packages/pyLDAvis/_prepare.py:243: FutureWarning:\n",
            "\n",
            "In a future version of pandas all arguments of DataFrame.drop except for the argument 'labels' will be keyword-only\n",
            "\n"
          ]
        },
        {
          "output_type": "execute_result",
          "data": {
            "text/plain": [
              "PreparedData(topic_coordinates=              x         y  topics  cluster       Freq\n",
              "topic                                                \n",
              "7      0.050279 -0.052529       1        1  12.890818\n",
              "3      0.082588 -0.125484       2        1  11.753881\n",
              "2      0.015404  0.062685       3        1  11.158256\n",
              "8     -0.106586  0.102570       4        1  10.555966\n",
              "6      0.040132 -0.019929       5        1   9.646510\n",
              "0      0.150659  0.096422       6        1   9.406957\n",
              "4     -0.071505  0.008813       7        1   9.252630\n",
              "9      0.001420  0.076615       8        1   9.187921\n",
              "1     -0.111045 -0.035289       9        1   8.232016\n",
              "5     -0.051347 -0.113874      10        1   7.915045, topic_info=            Term        Freq       Total Category  logprob  loglift\n",
              "676     graphics  112.000000  112.000000  Default  30.0000  30.0000\n",
              "148     software  598.000000  598.000000  Default  29.0000  29.0000\n",
              "77       editing   77.000000   77.000000  Default  28.0000  28.0000\n",
              "559     designer  305.000000  305.000000  Default  27.0000  27.0000\n",
              "2         design  437.000000  437.000000  Default  26.0000  26.0000\n",
              "..           ...         ...         ...      ...      ...      ...\n",
              "144        video    7.076747   35.936281  Topic10  -5.1638   0.9115\n",
              "897  woocommerce    6.530509   25.577075  Topic10  -5.2441   1.1712\n",
              "154       python    6.966761   60.370083  Topic10  -5.1795   0.3771\n",
              "33       english    6.541430   38.981217  Topic10  -5.2425   0.7515\n",
              "44        mobile    6.532138   79.601364  Topic10  -5.2439   0.0361\n",
              "\n",
              "[664 rows x 6 columns], token_table=      Topic      Freq        Term\n",
              "term                             \n",
              "1797      1  0.864380        abap\n",
              "651       1  0.227966  accounting\n",
              "651       2  0.136780  accounting\n",
              "651       3  0.091186  accounting\n",
              "651       5  0.045593  accounting\n",
              "...     ...       ...         ...\n",
              "868       4  0.066847       years\n",
              "868       8  0.601622       years\n",
              "868      10  0.066847       years\n",
              "1896      2  0.806920         yii\n",
              "1825     10  0.805119      zapier\n",
              "\n",
              "[1471 rows x 3 columns], R=30, lambda_step=0.01, plot_opts={'xlab': 'PC1', 'ylab': 'PC2'}, topic_order=[8, 4, 3, 9, 7, 1, 5, 10, 2, 6])"
            ],
            "text/html": [
              "\n",
              "<link rel=\"stylesheet\" type=\"text/css\" href=\"https://cdn.jsdelivr.net/gh/bmabey/pyLDAvis@3.4.0/pyLDAvis/js/ldavis.v1.0.0.css\">\n",
              "\n",
              "\n",
              "<div id=\"ldavis_el1351402005182006723129891062\" style=\"background-color:white;\"></div>\n",
              "<script type=\"text/javascript\">\n",
              "\n",
              "var ldavis_el1351402005182006723129891062_data = {\"mdsDat\": {\"x\": [0.050279485797202816, 0.0825883035194067, 0.015404394118890176, -0.10658592707695191, 0.0401321211307304, 0.15065918042554516, -0.07150541667730127, 0.001419774279528769, -0.11104503847267307, -0.0513468770443777], \"y\": [-0.05252897837530814, -0.12548364129280398, 0.06268451240663445, 0.10256979734447004, -0.01992919685762344, 0.09642241618101371, 0.008812999092352952, 0.076615423836682, -0.03528917903583021, -0.11387415329958742], \"topics\": [1, 2, 3, 4, 5, 6, 7, 8, 9, 10], \"cluster\": [1, 1, 1, 1, 1, 1, 1, 1, 1, 1], \"Freq\": [12.890818028142895, 11.75388073102658, 11.158255983431744, 10.555966255851102, 9.646510041281225, 9.406957063437249, 9.252629896877426, 9.18792099307545, 8.232015840251492, 7.915045166624838]}, \"tinfo\": {\"Term\": [\"graphics\", \"software\", \"editing\", \"designer\", \"design\", \"product\", \"marketing\", \"web\", \"data\", \"html\", \"development\", \"research\", \"developer\", \"proofreading\", \"stack\", \"rendering\", \"animation\", \"engineer\", \"google\", \"full\", \"adobe\", \"develop\", \"microsoft\", \"media\", \"social\", \"ux\", \"business\", \"js\", \"customer\", \"ranking\", \"keyword\", \"ur\", \"csr\", \"criativos\", \"sage\", \"maintainable\", \"ou\", \"easily\", \"escrita\", \"tematicos\", \"flash\", \"textos\", \"powerapps\", \"riva\", \"specialis\", \"plsql\", \"abap\", \"promotor\", \"devlopment\", \"mystic\", \"grant\", \"tvos\", \"jobs\", \"perfect\", \"pixel\", \"central\", \"asp\", \"core\", \"mvc\", \"plus\", \"word\", \"research\", \"data\", \"python\", \"media\", \"social\", \"generation\", \"market\", \"lead\", \"entry\", \"developer\", \"writing\", \"saas\", \"trainee\", \"django\", \"web\", \"software\", \"expert\", \"designer\", \"business\", \"specialist\", \"manager\", \"shift\", \"pdf\", \"complete\", \"analyst\", \"java\", \"net\", \"mobile\", \"stack\", \"full\", \"marketing\", \"engineer\", \"management\", \"product\", \"development\", \"senior\", \"intern\", \"evening\", \"angular\", \"ai\", \"graduate\", \"mern\", \"ebook\", \"yii\", \"desk\", \"portal\", \"lahore\", \"erpnext\", \"ml\", \"modern\", \"pucit\", \"customize\", \"modeller\", \"webgl\", \"offering\", \"requirement\", \"hrm\", \"key\", \"assist\", \"rf\", \"three\", \"properly\", \"broadband\", \"fresh\", \"jasper\", \"specification\", \"react\", \"node\", \"js\", \"hr\", \"develop\", \"next\", \"transcription\", \"mobile\", \"software\", \"pos\", \"mysql\", \"planning\", \"engineer\", \"web\", \"desktop\", \"applications\", \"java\", \"application\", \"development\", \"computer\", \"security\", \"custom\", \"crm\", \"design\", \"page\", \"developer\", \"system\", \"website\", \"management\", \"engineering\", \"app\", \"php\", \"senior\", \"business\", \"expert\", \"writing\", \"miner\", \"bitcoin\", \"bot\", \"money\", \"everyday\", \"profitable\", \"kind\", \"convert\", \"plains\", \"independent\", \"creativity\", \"elearning\", \"budget\", \"webs\", \"site\", \"ex\", \"great\", \"oracle\", \"passionate\", \"coder\", \"making\", \"mining\", \"freelancer\", \"japanese\", \"high\", \"javascript\", \"amazon\", \"stat\", \"ec\", \"solidworks\", \"experience\", \"animation\", \"services\", \"link\", \"building\", \"wordpress\", \"jquery\", \"designer\", \"developer\", \"design\", \"ux\", \"web\", \"psd\", \"google\", \"graphic\", \"internet\", \"application\", \"responsive\", \"data\", \"html\", \"php\", \"content\", \"research\", \"writing\", \"software\", \"develop\", \"senior\", \"ui\", \"expert\", \"product\", \"telemarketing\", \"outstanding\", \"hands\", \"jr\", \"genius\", \"mql\", \"skills\", \"print\", \"flow\", \"leaflet\", \"icon\", \"information\", \"representative\", \"ph\", \"guest\", \"posting\", \"dutch\", \"communication\", \"brands\", \"package\", \"blogging\", \"professional\", \"contract\", \"proofreader\", \"turkish\", \"ea\", \"trader\", \"robot\", \"childrens\", \"esignal\", \"solution\", \"authority\", \"beauty\", \"home\", \"platform\", \"power\", \"ad\", \"tech\", \"brand\", \"translator\", \"architect\", \"mechanical\", \"design\", \"graphic\", \"customer\", \"senior\", \"engineer\", \"ios\", \"writer\", \"service\", \"digital\", \"brochure\", \"designer\", \"development\", \"expert\", \"stack\", \"marketing\", \"full\", \"support\", \"logo\", \"writing\", \"entry\", \"software\", \"media\", \"wordpress\", \"social\", \"resource\", \"diagram\", \"documentation\", \"workflow\", \"bulk\", \"heavy\", \"qlikview\", \"flask\", \"dw\", \"devolpment\", \"book\", \"ranking\", \"azure\", \"today\", \"administrative\", \"one\", \"modelling\", \"coach\", \"human\", \"suite\", \"apps\", \"fuel\", \"description\", \"community\", \"google\", \"bi\", \"buyer\", \"allocation\", \"manipulation\", \"supplies\", \"android\", \"owner\", \"tableau\", \"logo\", \"adobe\", \"sap\", \"business\", \"consultant\", \"analytics\", \"management\", \"illustrator\", \"software\", \"design\", \"development\", \"developer\", \"product\", \"website\", \"ios\", \"shopify\", \"tasks\", \"marketing\", \"finance\", \"erp\", \"image\", \"junior\", \"automation\", \"animation\", \"system\", \"manager\", \"engineer\", \"senior\", \"expert\", \"associate\", \"online\", \"best\", \"drafting\", \"frontend\", \"mba\", \"expect\", \"bsn\", \"healthcare\", \"win\", \"licensed\", \"tracer\", \"recovery\", \"mvvm\", \"caller\", \"penguin\", \"skip\", \"wpf\", \"pinescript\", \"sme\", \"panda\", \"tradingview\", \"gts\", \"vicidial\", \"twilio\", \"asterisk\", \"sd\", \"please\", \"tender\", \"storage\", \"basketball\", \"addicted\", \"html\", \"product\", \"dev\", \"civil\", \"sr\", \"designer\", \"ux\", \"senior\", \"specialist\", \"ui\", \"desktop\", \"art\", \"modeling\", \"implementation\", \"spreadsheets\", \"article\", \"developer\", \"language\", \"laravel\", \"sap\", \"digital\", \"php\", \"software\", \"shopify\", \"interior\", \"architect\", \"design\", \"director\", \"develop\", \"expert\", \"programming\", \"engineer\", \"app\", \"js\", \"manager\", \"designed\", \"themes\", \"sdlc\", \"acf\", \"bubble\", \"africa\", \"earning\", \"south\", \"coding\", \"troubleshooting\", \"io\", \"simplified\", \"motion\", \"experts\", \"relationship\", \"affiliate\", \"russian\", \"us\", \"copywriting\", \"devops\", \"learning\", \"consultancy\", \"graphics\", \"linkedin\", \"shop\", \"arduino\", \"effects\", \"fixes\", \"gurus\", \"professionals\", \"bigcommerce\", \"email\", \"sketchup\", \"based\", \"valuation\", \"release\", \"adobe\", \"woo\", \"marketing\", \"commerce\", \"illustrator\", \"strategy\", \"development\", \"jquery\", \"design\", \"photo\", \"junior\", \"software\", \"website\", \"wordpress\", \"ui\", \"designer\", \"engineer\", \"web\", \"ux\", \"scraping\", \"technical\", \"business\", \"content\", \"social\", \"developer\", \"online\", \"writer\", \"media\", \"data\", \"expert\", \"hrs\", \"assessments\", \"every\", \"thing\", \"smaller\", \"perfectly\", \"ask\", \"highly\", \"vision\", \"house\", \"architecture\", \"hire\", \"dashboard\", \"nft\", \"blockchain\", \"bookkeeper\", \"experienced\", \"credit\", \"orchestration\", \"cpso\", \"resizing\", \"sql\", \"markets\", \"webflow\", \"years\", \"api\", \"partnership\", \"structured\", \"query\", \"repair\", \"dart\", \"sales\", \"customer\", \"flyer\", \"stack\", \"full\", \"associate\", \"service\", \"graphics\", \"developer\", \"software\", \"freelance\", \"design\", \"development\", \"graphic\", \"engineer\", \"rendering\", \"designer\", \"tasks\", \"video\", \"lead\", \"engineering\", \"director\", \"senior\", \"solutions\", \"landing\", \"brochure\", \"web\", \"expert\", \"data\", \"product\", \"wordpress\", \"manual\", \"testing\", \"robotics\", \"ind\", \"mechatronics\", \"meng\", \"matlab\", \"posts\", \"mckinsey\", \"everything\", \"unqiue\", \"almost\", \"deal\", \"recruiter\", \"talent\", \"articles\", \"studio\", \"photography\", \"editing\", \"moodle\", \"vba\", \"rendering\", \"correction\", \"color\", \"podcast\", \"distinguished\", \"comics\", \"legal\", \"usability\", \"joomla\", \"proofreading\", \"front\", \"cartoon\", \"administration\", \"image\", \"quality\", \"end\", \"online\", \"engineer\", \"excel\", \"design\", \"software\", \"marketing\", \"development\", \"web\", \"database\", \"support\", \"developer\", \"english\", \"brand\", \"entry\", \"application\", \"editor\", \"expert\", \"wordpress\", \"console\", \"pc\", \"airtable\", \"zapier\", \"operation\", \"outsourcing\", \"paginas\", \"programacion\", \"bpo\", \"active\", \"diseno\", \"mensah\", \"gideon\", \"analyser\", \"appilication\", \"antivirus\", \"writter\", \"antispam\", \"perfection\", \"reviewer\", \"call\", \"ready\", \"engine\", \"vfx\", \"illustration\", \"leader\", \"sqlserver\", \"center\", \"rails\", \"elements\", \"microsoft\", \"modeling\", \"artwork\", \"proofreading\", \"freelance\", \"marketing\", \"web\", \"consultant\", \"finance\", \"developer\", \"automation\", \"development\", \"excel\", \"app\", \"crm\", \"email\", \"data\", \"search\", \"article\", \"business\", \"mysql\", \"expert\", \"accounting\", \"facebook\", \"sheets\", \"software\", \"dynamics\", \"team\", \"video\", \"woocommerce\", \"python\", \"english\", \"mobile\"], \"Freq\": [112.0, 598.0, 77.0, 305.0, 437.0, 113.0, 195.0, 313.0, 172.0, 72.0, 290.0, 86.0, 494.0, 45.0, 90.0, 42.0, 81.0, 288.0, 73.0, 95.0, 65.0, 108.0, 48.0, 74.0, 74.0, 67.0, 123.0, 50.0, 44.0, 30.0, 9.648598259689999, 4.865880886356131, 4.865863058834244, 4.865828811226408, 4.865831156952972, 4.8658283420810955, 4.865811921995148, 4.865808637977958, 4.865787057293568, 4.86574577250604, 4.865717623787271, 4.8657105866075785, 4.865707302590389, 4.865685721905999, 4.865642091391907, 4.865613004382512, 4.865555768654348, 4.865525743354327, 4.865375616854225, 4.8653451224088915, 4.865325418305753, 4.864049812200197, 4.865029387613364, 4.865826934645157, 4.8658414781498545, 4.865801131652953, 5.14837955134228, 4.865858367381116, 4.865814267721712, 4.865896368151454, 6.1127480883396945, 58.183315373138676, 92.10278796452728, 35.834354866005256, 42.960394433708494, 42.70645545878555, 14.461817115536828, 13.887862863252181, 35.126617259735745, 36.99105327715553, 134.61209730337856, 37.26251576780291, 9.631454751668949, 14.961684878311642, 9.6306881682278, 61.84499078653249, 65.38265795767934, 29.521599340468402, 42.40930257080817, 25.826241170195402, 19.950582702868743, 17.04323665505117, 9.363194646926873, 7.5255069495174896, 9.631007187040519, 11.326767636979804, 10.19636669719431, 9.914127000420839, 14.863721707251173, 15.245163118710956, 15.244970769132701, 19.22873320558962, 19.079132148237733, 12.436196842991638, 11.161475545495355, 11.728969666822477, 10.84639286195264, 8.153248319253054, 5.454660029271944, 5.2606193803042265, 8.926058070387434, 3.0757227936796023, 5.510677518016222, 2.9156881949280655, 2.755756260470578, 2.755749202300362, 2.7557427857819836, 2.755742358014092, 2.755734872075984, 2.7557316638167952, 2.755726102834201, 2.755721611271336, 2.7557205418516064, 2.7557169058245257, 2.755711130957985, 2.7557100615382555, 2.755708992118526, 2.7557070671630126, 2.75570193394831, 2.755698939573067, 2.7556946618941485, 2.755695517429932, 2.7556918814028513, 2.755689528679446, 2.755688459259716, 2.7556869620720947, 2.755681828857392, 24.257577574381667, 6.293671994888176, 33.39610282344709, 5.614442458851222, 51.3368353607021, 3.3020502937060683, 12.014067427341322, 37.12159841447752, 201.4718464738858, 13.551632915741921, 13.74670448532905, 6.480569347829528, 86.96081154145043, 89.30450733315486, 19.068106260925113, 13.71150688765006, 12.838631960177478, 27.69587664709569, 59.774341432854406, 8.473101493970733, 6.160724300701794, 16.636848092826103, 16.41063245410336, 61.692000937113406, 10.574021040786505, 58.69019964340843, 11.652774665866461, 16.447974879992195, 15.819659133981599, 12.22782218737384, 12.978880796742327, 11.808565165478793, 16.431954116905818, 14.80904037871897, 12.678894018458955, 10.802689500601238, 16.555806553063093, 22.035885874684716, 5.595441615658448, 5.595433493841069, 5.595396133481131, 5.595328316306024, 5.5952503468591965, 5.595233291042702, 5.595180093138876, 5.595134204870691, 5.595029433426515, 5.59474720027263, 5.594691565823591, 5.593907404355747, 6.245057462909652, 5.595154103323267, 5.595207301227092, 7.029376900101603, 5.595144763233282, 5.920064970984135, 5.5954058796619845, 11.400430992759201, 6.377705420872031, 7.028935885417979, 5.917971166464092, 7.614425517470475, 23.32598296118211, 2.064587500298515, 8.941235655061552, 5.919661722751319, 6.3790032872890325, 46.79561488196508, 20.923443797149776, 24.61550014991872, 24.617387660277362, 49.85230633434509, 18.32047929695408, 79.43546735260088, 60.22289900539383, 56.197817277221674, 20.100435676786947, 45.29578485658916, 9.247900047801052, 18.32016254607634, 16.702691244707335, 9.572396702775643, 17.849719269364662, 9.392683625289608, 22.884290917988483, 15.11324021329236, 13.40079562823221, 12.709752420990274, 15.511262868808064, 15.981746754606627, 30.12090004939793, 16.556347466100465, 18.1698764373142, 13.31241482370677, 12.345122617624133, 11.400102059155392, 16.033351584553444, 6.990464401288186, 6.990240045259348, 6.990056411386429, 6.989668398391349, 6.988399096474772, 6.990463632945621, 9.355512710942422, 6.990309196090154, 4.062793791227011, 6.989881229281719, 7.396361337899401, 7.801931728920696, 2.173544111761424, 8.360316235913059, 4.37097791471, 2.341435029704667, 6.990362211727105, 1.5298584053423547, 1.5298067343048913, 1.529747475884603, 14.731181509751485, 6.989863557402736, 7.801773450352406, 1.7676026112814678, 1.1239698244565297, 1.123965310443963, 1.1239648302298604, 1.1239604122601143, 1.1239581072324207, 13.836429689838477, 2.34166361161761, 1.5298573488713285, 1.5298551398864557, 7.802166073402873, 6.990422910789702, 6.4289185488141305, 7.802154548264405, 22.892800516768393, 23.401629233377292, 15.222780912693723, 6.989397173466076, 100.32763961714953, 22.070322071843833, 15.471743880502947, 36.8661027510494, 51.77878367807551, 17.71088619913796, 18.676685119306452, 15.0547336370386, 13.717344275764447, 13.67956640855242, 35.12743572866189, 32.07289908354713, 22.981155301632118, 18.302072018551993, 24.458450623793503, 18.301872249485218, 12.348139385578895, 13.188889016687598, 15.38858923811585, 14.360849613766495, 20.338178277829044, 10.725487480377616, 10.869629313823014, 10.125698529268721, 4.940997571779287, 4.670361554885586, 4.670348565193732, 4.670346809829969, 4.670335926574632, 4.670317319718734, 4.6702636055875555, 4.67025904164177, 4.670217263984187, 4.6701596880527285, 10.553064391218731, 24.543364144618952, 5.212636252454973, 4.669808966372685, 4.66966643083505, 4.941511893362133, 4.670170220235312, 4.669884447014536, 4.940956145194457, 4.024159141378727, 6.475824102835496, 1.4055750597776744, 2.060015219892517, 4.940823088621147, 38.14200994358188, 5.324989714459551, 1.1809308022548948, 0.9097607159360026, 2.9859029015691485, 1.180917285953912, 22.148083222624997, 4.670309947190924, 4.670233062258062, 20.09823542072621, 24.581007569464756, 9.24441683222415, 37.98751827227745, 20.78665257739303, 12.02624008937468, 19.269653169651054, 16.07791596204481, 66.3493912143605, 48.01988840804117, 38.17055917983926, 49.205969447579584, 20.664442747853702, 15.459141809495652, 13.57134638170551, 12.047853532327817, 9.24459377289156, 23.00161410780485, 9.244226550792135, 9.244560772052797, 12.57273397928717, 10.057826421068963, 9.515728664166984, 13.611047092882702, 9.898730079538858, 11.688696978325854, 16.531938693161823, 13.312379672041997, 12.279798874354121, 10.365447601396978, 9.907214805828433, 7.643639807273903, 7.643429601598824, 12.322153966757668, 4.085852268071109, 4.0856167281615745, 3.8616792132988214, 3.8616579873186017, 3.8616487437465707, 3.86164977081013, 3.8616384731109807, 3.861637103692902, 3.861626490702792, 3.861623409512115, 3.8616182741943197, 3.8616114271039264, 3.861603552949974, 3.8616018411773756, 3.8615840387423526, 3.8615768492974394, 3.861575479879361, 3.861570002207046, 3.861564524534731, 3.8615706869160853, 3.8615614433440544, 3.861549118581346, 3.8615059819118676, 3.861491603022041, 3.8614597640517117, 3.861456682861035, 3.86144059219861, 44.936755848946895, 59.16461255527883, 11.650039465483058, 4.850996132394313, 15.879925415298038, 70.78511093396841, 23.44421018374809, 37.510798739461336, 23.99583095769697, 23.668909779771635, 15.432028474883271, 8.184731125615743, 11.458264103616385, 4.0856396659143925, 4.402639752214148, 9.399940403881315, 39.56670610099656, 7.781866129300575, 8.497012539570857, 7.643676781562028, 9.847403238765137, 10.972400046969979, 28.78943785960412, 9.694344749528188, 5.616757261916485, 8.316115150212248, 20.886276893401778, 8.995466341323688, 11.425949260504531, 12.313748478590677, 7.557730048816412, 11.904888169927009, 8.316671133952195, 7.868038816029174, 7.67351845562377, 5.543251895836844, 5.543241456959647, 5.543216875087537, 5.543198017760987, 5.543145823375, 5.543080159470049, 5.543055240859966, 5.54304985305238, 5.54265216550496, 5.542590205717724, 5.865083153305699, 5.542658226788494, 17.841230488718438, 6.320220219536033, 2.7671350419267493, 2.7670612963104197, 5.543037730485312, 5.865077092022165, 12.844483447102222, 10.971536059506107, 7.4188783707549515, 1.2131274270003287, 63.39664008941707, 4.9647205663748855, 5.6502732852914574, 1.2127831966062983, 1.5348915894278432, 0.8912576130334385, 0.8912553400521134, 0.8912552558676198, 1.88620947596833, 18.984975834242388, 6.650812725615194, 5.902843602770117, 5.542755880800985, 3.22204598860747, 26.37852544806099, 5.543267049045679, 57.259964963951376, 8.903660487362952, 17.973533491793027, 10.071492026698799, 59.834173223480185, 11.746473853221433, 54.8675305567491, 7.930189392349801, 11.293625931739076, 57.94664104074957, 16.6099992705697, 22.5965431376597, 17.744804896357063, 31.23007107524244, 25.693589633112982, 26.18853788307004, 13.2727104348698, 9.171485035068642, 9.993851698960935, 14.912332080207449, 10.792736276966878, 11.948050592329233, 19.9443450163759, 9.908619950334812, 10.693164204975451, 10.98203554953875, 10.593801584003918, 9.952517112639349, 4.454484124550749, 4.454482787018853, 4.454475096210453, 4.454463392806367, 4.454413235360279, 4.454412566594331, 4.454361405999323, 4.454331645914643, 4.4542005677888685, 4.454197892725078, 4.971731784177775, 4.454367090509879, 4.454530938167098, 4.454491146593202, 4.45446539910421, 4.453840102942988, 23.71512800150037, 4.454448011189567, 3.7099607045318392, 3.709671128876428, 4.453793289326639, 6.5862625228369645, 2.674968157795574, 8.816802938767044, 8.816957423700993, 4.454540635273341, 3.7105345057150787, 1.9650276280879542, 1.9649794769397102, 4.4543717718715135, 4.454243034426556, 11.982343688828488, 22.58164997183967, 7.2309763033547325, 39.87713848640531, 40.61339094356441, 21.42164333456039, 18.942327336164563, 29.991900356531758, 71.87081047849672, 74.80897214382735, 10.368594737562315, 53.232972278379854, 38.68527183937133, 17.832728263437136, 30.147639895398974, 11.793093625847332, 28.40656927668679, 8.817131971613378, 10.211716290285942, 13.699836295283925, 9.852005812393902, 10.535950740943363, 13.473053749778567, 5.596172593752978, 6.327452776089954, 7.8304413798422186, 12.473193818962708, 10.383886070959482, 10.629249609559391, 9.076710130434446, 8.504425039598729, 10.698479920432272, 21.348818681312096, 5.718874235316064, 5.405062709749943, 5.405020766590919, 5.404984216123769, 5.404912912753427, 5.404891341985929, 5.404872167970375, 5.404831423187322, 5.4047595206289945, 5.4046648489271965, 5.404660654611294, 5.404761917380939, 6.346210874590964, 5.718687887852397, 6.162211029453994, 5.403413744412291, 55.68552110448697, 5.403096773967663, 5.718556665683449, 28.497704178788368, 8.143978556702772, 8.277683760665376, 2.3841881705702384, 1.6804961074490299, 7.677473559895632, 6.47598360780102, 1.6265608000713285, 2.6980266595957314, 24.265764064308737, 16.61976345256918, 7.677229091197317, 10.274100235797482, 22.82029015698012, 14.506816897907054, 18.13504635540235, 14.809864610491493, 32.68183628223581, 14.310996272180983, 38.248556315498305, 39.68107338181624, 20.214718802822286, 23.443004660130512, 21.656101454582046, 7.991391740923271, 9.581317887932562, 19.39524414718367, 8.48904792193797, 8.759426707146146, 9.764520813048065, 9.507659109617542, 7.871301286380049, 9.453890975687953, 8.245442653511162, 5.300617267801561, 5.300584429162313, 5.300580396346967, 5.300575211298665, 5.300515871301427, 5.300512414602559, 5.300495131108218, 5.300477271497399, 5.3004628685854485, 5.3004288777132444, 5.30042426878142, 5.300416203150728, 5.3004018002387765, 5.30038912567626, 5.300269293448829, 5.300190941607816, 5.300037694624659, 5.299853913468166, 5.299333680288501, 5.3004357911109805, 6.043455517297614, 5.300389701792738, 4.853214428823842, 5.607672947681845, 8.787329500046498, 5.3004018002387765, 3.823888145771565, 5.300514719068471, 5.3003545586875775, 1.5952263435523872, 26.69974485101774, 15.68085697912963, 9.013193660793897, 18.320505153720866, 12.030281089270378, 38.40425626885185, 43.69986362776043, 17.529534100834486, 10.491864583413108, 37.182942338135305, 10.799827646746296, 22.202551969891744, 11.551202214097382, 12.031160243015858, 11.543129670007167, 10.066357627299556, 16.372074616077338, 6.647144353854065, 8.281054470411418, 13.219649361279929, 8.143608057780884, 13.226803575704158, 7.5296758702449855, 7.156442842765868, 6.043643907385932, 13.576316159433173, 6.0434843231215165, 6.223741951234772, 7.07674749812644, 6.53050899675956, 6.966761101304928, 6.5414298607171775, 6.532138254159442], \"Total\": [112.0, 598.0, 77.0, 305.0, 437.0, 113.0, 195.0, 313.0, 172.0, 72.0, 290.0, 86.0, 494.0, 45.0, 90.0, 42.0, 81.0, 288.0, 73.0, 95.0, 65.0, 108.0, 48.0, 74.0, 74.0, 67.0, 123.0, 50.0, 44.0, 30.0, 11.29902489215628, 5.784477328372745, 5.784478452738673, 5.784475960223848, 5.784482723377365, 5.78448258411496, 5.7844813393186865, 5.784481149590844, 5.784476416726137, 5.784481157115877, 5.784479698601371, 5.7844821584506745, 5.784482846626189, 5.784483698253151, 5.7844767861289785, 5.7844783359419605, 5.784491096114663, 5.784483877940704, 5.784474663127979, 5.78449187121447, 5.784503117123028, 5.7844791365401065, 6.043138775889766, 6.092258059758249, 6.109380006829373, 6.1093769815845365, 6.79690132970661, 6.48463983401639, 6.5118306922723965, 6.568849057553174, 8.309131827768601, 86.43561318145852, 172.59400263536614, 60.370082503080326, 74.58152047149247, 74.21047775784726, 21.844540805608915, 21.08720489119999, 71.69760815806826, 85.3429721748754, 494.3242210285485, 97.64968557233567, 15.537621817577044, 31.95114483724713, 16.469082420918504, 313.75266884926253, 598.465414558583, 145.13741636611937, 305.47864677450616, 123.79498071046132, 80.19477986538737, 63.08746601812845, 22.12068546880205, 14.1957295870636, 23.941495034299365, 38.595533162712236, 30.48919437831112, 29.256358419783904, 79.60136418792484, 90.1502041360551, 95.53342094006531, 195.71988977177938, 288.2562455504233, 64.67830028101133, 113.82603129312812, 290.75361730180055, 158.3611954750107, 9.116445440474102, 6.417001502867611, 6.223522781799895, 11.286630501493581, 4.037917954358088, 7.261948386370035, 3.877923069801088, 3.717840751292592, 3.717844515181557, 3.717851542091081, 3.717851948290566, 3.7178582213203217, 3.717861498750551, 3.7178672262550916, 3.717870304318722, 3.7178700828419355, 3.7178774326200656, 3.7178765174092496, 3.717879521728526, 3.717880758048344, 3.7178823227297846, 3.7178902240898566, 3.7178911887096944, 3.7178894330210404, 3.7178916259774266, 3.717896221017786, 3.717896651866054, 3.7179021562098877, 3.71790207658555, 3.717905278156602, 33.19431136405409, 8.744179706761111, 50.42885132691822, 8.04086490255734, 108.42646632783084, 4.578025792168521, 20.6628584884528, 79.60136418792484, 598.465414558583, 25.019117880982666, 26.28333549646647, 10.699703098163873, 288.2562455504233, 313.75266884926253, 45.810838171152874, 33.00876290505666, 30.48919437831112, 87.58225151011311, 290.75361730180055, 18.779728541324292, 11.943485886078312, 54.07367642599247, 54.97618692950931, 437.15882538866504, 29.146368475054324, 494.3242210285485, 36.627176167322304, 69.18880376810318, 64.67830028101133, 40.32195498392451, 61.42994512019568, 56.0547181862977, 158.3611954750107, 123.79498071046132, 145.13741636611937, 97.64968557233567, 17.459491299262552, 23.494497310175824, 6.498984633045936, 6.4989852290849575, 6.498978274368431, 6.498974884085152, 6.498964991571517, 6.498959387940824, 6.4989480180822135, 6.4989531342001285, 6.498929826523495, 6.49890590268956, 6.498874075143168, 6.498788264894492, 7.419952014880855, 6.770136642049393, 6.820825960800476, 8.615231115017211, 7.055678650185833, 7.8037846097709105, 7.47889672202092, 15.30009289080947, 8.730491674232779, 10.136734606432144, 8.57244843001039, 11.350023522020722, 35.654440676344755, 3.226768262867284, 14.13191372912206, 9.413794904549219, 10.245710834670307, 81.6063925945824, 35.296036528632044, 44.76068118574428, 45.430455356970405, 125.3687294062139, 34.81144860449006, 305.47864677450616, 494.3242210285485, 437.15882538866504, 67.47368577958298, 313.75266884926253, 17.29829986305071, 73.74681391148864, 71.22751224401318, 21.170068899045415, 87.58225151011311, 21.365086018973695, 172.59400263536614, 72.2228894722544, 56.0547181862977, 51.127378786040936, 86.43561318145852, 97.64968557233567, 598.465414558583, 108.42646632783084, 158.3611954750107, 82.43527197456336, 145.13741636611937, 113.82603129312812, 16.909268220301147, 7.865363655459861, 7.865296156919763, 8.025247823928256, 8.147647644239294, 8.17851609413962, 8.347252433855484, 11.325833876811569, 8.49300239218324, 4.938202797261044, 8.519871500906762, 9.188983683825006, 10.796734003420639, 3.0482716940687635, 12.359035196796153, 6.50819568336126, 3.498862950247194, 10.555240305407962, 2.4045863948972834, 2.404570167885486, 2.4045513339185995, 24.319038542219552, 11.972309149525323, 13.63689986673787, 3.0908163630824554, 1.9986847042150377, 1.9986831919071495, 1.998683449412412, 1.9986821763251725, 1.9986807700635567, 25.07022087022346, 4.185031459111384, 2.7294747803521355, 2.7294809899301975, 14.553396381811039, 13.165440159777578, 12.235880430390273, 15.154076262610609, 49.203528550537186, 54.35561991751132, 33.77695116195544, 14.902862926511045, 437.15882538866504, 71.22751224401318, 44.69994384996426, 158.3611954750107, 288.2562455504233, 56.2073094410712, 63.82285515731016, 44.612660567219834, 41.9319579073356, 41.88435985464081, 305.47864677450616, 290.75361730180055, 145.13741636611937, 90.1502041360551, 195.71988977177938, 95.53342094006531, 38.42842876899119, 48.12517564729991, 97.64968557233567, 85.3429721748754, 598.465414558583, 74.58152047149247, 125.3687294062139, 74.21047775784726, 5.864221837846763, 5.593017930735715, 5.593018372151435, 5.5930197396834265, 5.593020237683917, 5.593025526793947, 5.593028130677207, 5.593024894839356, 5.593024953523771, 5.593028778072181, 12.943236358394445, 30.1059580518837, 6.455423908402931, 5.851715289573403, 5.875625113810231, 6.270110023280947, 6.238004269784523, 6.36862169759396, 6.796471871098292, 5.6290752124826176, 9.657746690540344, 2.3281445438138424, 3.664978872092412, 9.228380313545484, 73.74681391148864, 10.610584362485795, 2.362140679647226, 1.8323005164849782, 6.021373310736655, 2.386024249748591, 45.992638764124706, 9.689108815424687, 9.955891815531086, 48.12517564729991, 65.62907811543239, 22.497572340439888, 123.79498071046132, 60.61997915131363, 31.143769681949905, 64.67830028101133, 54.4375019729154, 598.465414558583, 437.15882538866504, 290.75361730180055, 494.3242210285485, 113.82603129312812, 69.18880376810318, 56.2073094410712, 44.053274415967266, 25.502860518417364, 195.71988977177938, 25.63026732410733, 26.812615191858647, 55.00886167582342, 34.16403050775119, 31.408743885657067, 81.6063925945824, 36.627176167322304, 63.08746601812845, 288.2562455504233, 158.3611954750107, 145.13741636611937, 50.75137221797212, 41.08266324668257, 8.583235088052152, 8.908197972976161, 15.12984070825493, 5.025207332845067, 5.025274383216535, 4.800962921306445, 4.800968694936293, 4.80097238172757, 4.800974869549177, 4.8009784335240715, 4.800976783064539, 4.80098256670306, 4.800982482944616, 4.8009813907670225, 4.800982309050101, 4.800984428371493, 4.800985289487, 4.800995648752239, 4.800995348590104, 4.800997768352519, 4.800996191907405, 4.800998184072727, 4.801006232931897, 4.800998974725976, 4.800999934903438, 4.801013887533688, 4.801025158028932, 4.801031291405915, 4.801031324759069, 4.801037443802467, 72.2228894722544, 113.82603129312812, 17.272555474483728, 6.42964377688302, 31.790537876740913, 305.47864677450616, 67.47368577958298, 158.3611954750107, 80.19477986538737, 82.43527197456336, 45.810838171152874, 17.020191196747678, 31.26875425379584, 5.307823406317093, 6.1000906074438355, 25.642264960327026, 494.3242210285485, 22.00263040081744, 27.852943768875598, 22.497572340439888, 41.9319579073356, 56.0547181862977, 598.465414558583, 44.053274415967266, 11.743209244889309, 33.77695116195544, 437.15882538866504, 49.263464062717595, 108.42646632783084, 145.13741636611937, 36.672255509440355, 288.2562455504233, 61.42994512019568, 50.42885132691822, 63.08746601812845, 6.447889937821682, 6.447887274669707, 6.447882087628838, 6.44788656224833, 6.447873326376242, 6.447871340804524, 6.447867945509054, 6.447863469356633, 6.447818140581999, 6.447813756417868, 6.993989860964965, 6.755598364522802, 21.96031146923595, 8.165298789753209, 3.6717729929741982, 3.6717658969734583, 7.737402230209446, 8.31112840578289, 19.64269750555205, 18.708172296474036, 12.70761266634058, 2.1176663259093917, 112.03243715706651, 9.066633636905431, 10.744401640068908, 2.400160808119218, 3.0550847342414604, 1.7957981100103089, 1.7957974265118115, 1.7957976580596804, 3.821540079677963, 40.50107434120271, 14.100638019599394, 12.661492401998585, 11.868286519909867, 6.761812111227487, 65.62907811543239, 12.376810413555882, 195.71988977177938, 21.636067689628362, 54.4375019729154, 25.54705976137998, 290.75361730180055, 34.81144860449006, 437.15882538866504, 18.87787698922152, 34.16403050775119, 598.465414558583, 69.18880376810318, 125.3687294062139, 82.43527197456336, 305.47864677450616, 288.2562455504233, 313.75266884926253, 67.47368577958298, 27.97742541438669, 36.256120601275825, 123.79498071046132, 51.127378786040936, 74.21047775784726, 494.3242210285485, 41.08266324668257, 63.82285515731016, 74.58152047149247, 172.59400263536614, 145.13741636611937, 5.381600141953906, 5.381599375880679, 5.381597205150621, 5.381600127401409, 5.381606687483195, 5.381611404744113, 5.381611669839113, 5.381613768607767, 5.381623112992067, 5.381624226867267, 6.304787435484794, 5.695452087598722, 5.706491495802003, 5.70649523191778, 5.977686867216265, 6.109425338148731, 33.47667560204706, 6.4659448943421225, 5.4681229027334215, 5.468084783891112, 6.840840307018131, 10.180713115681964, 4.150926498783371, 14.81805026529981, 14.959551063322024, 7.682944343237348, 6.5706485743451, 3.5467767727249067, 3.546780776988327, 8.08094640865336, 8.21230311541805, 23.08420351807903, 44.69994384996426, 13.700718670325324, 90.1502041360551, 95.53342094006531, 50.75137221797212, 44.612660567219834, 112.03243715706651, 494.3242210285485, 598.465414558583, 25.225880966439888, 437.15882538866504, 290.75361730180055, 71.22751224401318, 288.2562455504233, 42.54490917980579, 305.47864677450616, 25.502860518417364, 35.93628065794701, 71.69760815806826, 40.32195498392451, 49.263464062717595, 158.3611954750107, 11.22704218752031, 18.059632173201475, 41.88435985464081, 313.75266884926253, 145.13741636611937, 172.59400263536614, 113.82603129312812, 125.3687294062139, 12.012284749764067, 24.54839707285315, 6.626419529380141, 6.3125754312745075, 6.312571362823019, 6.3125656188632036, 6.312565968688641, 6.312561711015082, 6.312558833590632, 6.312553631842339, 6.312554018574339, 6.312539311905604, 6.3125427928851385, 6.637439659890951, 7.8191533039191805, 7.192829708318417, 8.106319950055227, 7.277043405488507, 77.72283985651515, 7.708179635600436, 8.204131174241693, 42.54490917980579, 12.90880346731403, 13.534306443049946, 3.922672040724697, 2.846616444586387, 13.23875098308113, 11.170475656505817, 2.816646601531557, 4.718842190926152, 45.26677283564459, 31.583476559097317, 14.228210919377984, 21.41190323461012, 55.00886167582342, 32.44722715789042, 48.01411311169757, 41.08266324668257, 288.2562455504233, 51.817944443213044, 437.15882538866504, 598.465414558583, 195.71988977177938, 290.75361730180055, 313.75266884926253, 20.638014526538253, 38.42842876899119, 494.3242210285485, 38.98121710050382, 49.203528550537186, 85.3429721748754, 87.58225151011311, 33.82094178492751, 145.13741636611937, 125.3687294062139, 6.210268194744346, 6.210264818303155, 6.2102637825381475, 6.210262293948807, 6.210251429490486, 6.210256832637515, 6.2102589761674505, 6.210256269093534, 6.210250598444562, 6.210247628713741, 6.2102567774687625, 6.210247391005903, 6.2102514114288745, 6.210248587799688, 6.210240672330462, 6.210236655930276, 6.210228262898379, 6.210223008712253, 6.210189973838788, 6.705671799311947, 7.710989402786997, 6.848987416079115, 6.467224157886239, 7.508828842116058, 12.21520759619402, 7.410733879592044, 5.416043009458813, 7.656384699042957, 7.917239534970843, 2.5048296392608274, 48.0150655606066, 31.26875425379584, 15.921713773006289, 45.26677283564459, 25.225880966439888, 195.71988977177938, 313.75266884926253, 60.61997915131363, 25.63026732410733, 494.3242210285485, 31.408743885657067, 290.75361730180055, 51.817944443213044, 61.42994512019568, 54.97618692950931, 40.50107434120271, 172.59400263536614, 12.520084379872849, 25.642264960327026, 123.79498071046132, 26.28333549646647, 145.13741636611937, 21.93310264581239, 19.76339231566496, 11.060479429247998, 598.465414558583, 12.032884674018678, 14.759399467568084, 35.93628065794701, 25.577074745630373, 60.370082503080326, 38.98121710050382, 79.60136418792484], \"Category\": [\"Default\", \"Default\", \"Default\", \"Default\", \"Default\", \"Default\", \"Default\", \"Default\", \"Default\", \"Default\", \"Default\", \"Default\", \"Default\", \"Default\", \"Default\", \"Default\", \"Default\", \"Default\", \"Default\", \"Default\", \"Default\", \"Default\", \"Default\", \"Default\", \"Default\", \"Default\", \"Default\", \"Default\", \"Default\", \"Default\", \"Topic1\", \"Topic1\", \"Topic1\", \"Topic1\", \"Topic1\", \"Topic1\", \"Topic1\", \"Topic1\", \"Topic1\", \"Topic1\", \"Topic1\", \"Topic1\", \"Topic1\", \"Topic1\", \"Topic1\", \"Topic1\", \"Topic1\", \"Topic1\", \"Topic1\", \"Topic1\", \"Topic1\", \"Topic1\", \"Topic1\", \"Topic1\", \"Topic1\", \"Topic1\", \"Topic1\", \"Topic1\", \"Topic1\", \"Topic1\", \"Topic1\", \"Topic1\", \"Topic1\", \"Topic1\", \"Topic1\", \"Topic1\", \"Topic1\", \"Topic1\", \"Topic1\", \"Topic1\", \"Topic1\", \"Topic1\", \"Topic1\", \"Topic1\", \"Topic1\", \"Topic1\", \"Topic1\", \"Topic1\", \"Topic1\", \"Topic1\", \"Topic1\", \"Topic1\", \"Topic1\", \"Topic1\", \"Topic1\", \"Topic1\", \"Topic1\", \"Topic1\", \"Topic1\", \"Topic1\", \"Topic1\", \"Topic1\", \"Topic1\", \"Topic1\", \"Topic1\", \"Topic1\", \"Topic1\", \"Topic2\", \"Topic2\", \"Topic2\", \"Topic2\", \"Topic2\", \"Topic2\", \"Topic2\", \"Topic2\", \"Topic2\", \"Topic2\", \"Topic2\", \"Topic2\", \"Topic2\", \"Topic2\", \"Topic2\", \"Topic2\", \"Topic2\", \"Topic2\", \"Topic2\", \"Topic2\", \"Topic2\", \"Topic2\", \"Topic2\", \"Topic2\", \"Topic2\", \"Topic2\", \"Topic2\", \"Topic2\", \"Topic2\", \"Topic2\", \"Topic2\", \"Topic2\", \"Topic2\", \"Topic2\", \"Topic2\", \"Topic2\", \"Topic2\", \"Topic2\", \"Topic2\", \"Topic2\", \"Topic2\", \"Topic2\", \"Topic2\", \"Topic2\", \"Topic2\", \"Topic2\", \"Topic2\", \"Topic2\", \"Topic2\", \"Topic2\", \"Topic2\", \"Topic2\", \"Topic2\", \"Topic2\", \"Topic2\", \"Topic2\", \"Topic2\", \"Topic2\", \"Topic2\", \"Topic2\", \"Topic2\", \"Topic2\", \"Topic2\", \"Topic2\", \"Topic2\", \"Topic2\", \"Topic3\", \"Topic3\", \"Topic3\", \"Topic3\", \"Topic3\", \"Topic3\", \"Topic3\", \"Topic3\", \"Topic3\", \"Topic3\", \"Topic3\", \"Topic3\", \"Topic3\", \"Topic3\", \"Topic3\", \"Topic3\", \"Topic3\", \"Topic3\", \"Topic3\", \"Topic3\", \"Topic3\", \"Topic3\", \"Topic3\", \"Topic3\", \"Topic3\", \"Topic3\", \"Topic3\", \"Topic3\", \"Topic3\", \"Topic3\", \"Topic3\", \"Topic3\", \"Topic3\", \"Topic3\", \"Topic3\", \"Topic3\", \"Topic3\", \"Topic3\", \"Topic3\", \"Topic3\", \"Topic3\", \"Topic3\", \"Topic3\", \"Topic3\", \"Topic3\", \"Topic3\", \"Topic3\", \"Topic3\", \"Topic3\", \"Topic3\", \"Topic3\", \"Topic3\", \"Topic3\", \"Topic3\", \"Topic3\", \"Topic3\", \"Topic3\", \"Topic3\", \"Topic3\", \"Topic3\", \"Topic4\", \"Topic4\", \"Topic4\", \"Topic4\", \"Topic4\", \"Topic4\", \"Topic4\", \"Topic4\", \"Topic4\", \"Topic4\", \"Topic4\", \"Topic4\", \"Topic4\", \"Topic4\", \"Topic4\", \"Topic4\", \"Topic4\", \"Topic4\", \"Topic4\", \"Topic4\", \"Topic4\", \"Topic4\", \"Topic4\", \"Topic4\", \"Topic4\", \"Topic4\", \"Topic4\", \"Topic4\", \"Topic4\", \"Topic4\", \"Topic4\", \"Topic4\", \"Topic4\", \"Topic4\", \"Topic4\", \"Topic4\", \"Topic4\", \"Topic4\", \"Topic4\", \"Topic4\", \"Topic4\", \"Topic4\", \"Topic4\", \"Topic4\", \"Topic4\", \"Topic4\", \"Topic4\", \"Topic4\", \"Topic4\", \"Topic4\", \"Topic4\", \"Topic4\", \"Topic4\", \"Topic4\", \"Topic4\", \"Topic4\", \"Topic4\", \"Topic4\", \"Topic4\", \"Topic4\", \"Topic4\", \"Topic4\", \"Topic4\", \"Topic4\", \"Topic4\", \"Topic4\", \"Topic5\", \"Topic5\", \"Topic5\", \"Topic5\", \"Topic5\", \"Topic5\", \"Topic5\", \"Topic5\", \"Topic5\", \"Topic5\", \"Topic5\", \"Topic5\", \"Topic5\", \"Topic5\", \"Topic5\", \"Topic5\", \"Topic5\", \"Topic5\", \"Topic5\", \"Topic5\", \"Topic5\", \"Topic5\", \"Topic5\", \"Topic5\", \"Topic5\", \"Topic5\", \"Topic5\", \"Topic5\", \"Topic5\", \"Topic5\", \"Topic5\", \"Topic5\", \"Topic5\", \"Topic5\", \"Topic5\", \"Topic5\", \"Topic5\", \"Topic5\", \"Topic5\", \"Topic5\", \"Topic5\", \"Topic5\", \"Topic5\", \"Topic5\", \"Topic5\", \"Topic5\", \"Topic5\", \"Topic5\", \"Topic5\", \"Topic5\", \"Topic5\", \"Topic5\", \"Topic5\", \"Topic5\", \"Topic5\", \"Topic5\", \"Topic5\", \"Topic5\", \"Topic5\", \"Topic5\", \"Topic5\", \"Topic5\", \"Topic5\", \"Topic5\", \"Topic6\", \"Topic6\", \"Topic6\", \"Topic6\", \"Topic6\", \"Topic6\", \"Topic6\", \"Topic6\", \"Topic6\", \"Topic6\", \"Topic6\", \"Topic6\", \"Topic6\", \"Topic6\", \"Topic6\", \"Topic6\", \"Topic6\", \"Topic6\", \"Topic6\", \"Topic6\", \"Topic6\", \"Topic6\", \"Topic6\", \"Topic6\", \"Topic6\", \"Topic6\", \"Topic6\", \"Topic6\", \"Topic6\", \"Topic6\", \"Topic6\", \"Topic6\", \"Topic6\", \"Topic6\", \"Topic6\", \"Topic6\", \"Topic6\", \"Topic6\", \"Topic6\", \"Topic6\", \"Topic6\", \"Topic6\", \"Topic6\", \"Topic6\", \"Topic6\", \"Topic6\", \"Topic6\", \"Topic6\", \"Topic6\", \"Topic6\", \"Topic6\", \"Topic6\", \"Topic6\", \"Topic6\", \"Topic6\", \"Topic6\", \"Topic6\", \"Topic6\", \"Topic6\", \"Topic6\", \"Topic6\", \"Topic6\", \"Topic6\", \"Topic6\", \"Topic6\", \"Topic7\", \"Topic7\", \"Topic7\", \"Topic7\", \"Topic7\", \"Topic7\", \"Topic7\", \"Topic7\", \"Topic7\", \"Topic7\", \"Topic7\", \"Topic7\", \"Topic7\", \"Topic7\", \"Topic7\", \"Topic7\", \"Topic7\", \"Topic7\", \"Topic7\", \"Topic7\", \"Topic7\", \"Topic7\", \"Topic7\", \"Topic7\", \"Topic7\", \"Topic7\", \"Topic7\", \"Topic7\", \"Topic7\", \"Topic7\", \"Topic7\", \"Topic7\", \"Topic7\", \"Topic7\", \"Topic7\", \"Topic7\", \"Topic7\", \"Topic7\", \"Topic7\", \"Topic7\", \"Topic7\", \"Topic7\", \"Topic7\", \"Topic7\", \"Topic7\", \"Topic7\", \"Topic7\", \"Topic7\", \"Topic7\", \"Topic7\", \"Topic7\", \"Topic7\", \"Topic7\", \"Topic7\", \"Topic7\", \"Topic7\", \"Topic7\", \"Topic7\", \"Topic7\", \"Topic7\", \"Topic7\", \"Topic7\", \"Topic7\", \"Topic7\", \"Topic7\", \"Topic7\", \"Topic8\", \"Topic8\", \"Topic8\", \"Topic8\", \"Topic8\", \"Topic8\", \"Topic8\", \"Topic8\", \"Topic8\", \"Topic8\", \"Topic8\", \"Topic8\", \"Topic8\", \"Topic8\", \"Topic8\", \"Topic8\", \"Topic8\", \"Topic8\", \"Topic8\", \"Topic8\", \"Topic8\", \"Topic8\", \"Topic8\", \"Topic8\", \"Topic8\", \"Topic8\", \"Topic8\", \"Topic8\", \"Topic8\", \"Topic8\", \"Topic8\", \"Topic8\", \"Topic8\", \"Topic8\", \"Topic8\", \"Topic8\", \"Topic8\", \"Topic8\", \"Topic8\", \"Topic8\", \"Topic8\", \"Topic8\", \"Topic8\", \"Topic8\", \"Topic8\", \"Topic8\", \"Topic8\", \"Topic8\", \"Topic8\", \"Topic8\", \"Topic8\", \"Topic8\", \"Topic8\", \"Topic8\", \"Topic8\", \"Topic8\", \"Topic8\", \"Topic8\", \"Topic8\", \"Topic8\", \"Topic8\", \"Topic8\", \"Topic9\", \"Topic9\", \"Topic9\", \"Topic9\", \"Topic9\", \"Topic9\", \"Topic9\", \"Topic9\", \"Topic9\", \"Topic9\", \"Topic9\", \"Topic9\", \"Topic9\", \"Topic9\", \"Topic9\", \"Topic9\", \"Topic9\", \"Topic9\", \"Topic9\", \"Topic9\", \"Topic9\", \"Topic9\", \"Topic9\", \"Topic9\", \"Topic9\", \"Topic9\", \"Topic9\", \"Topic9\", \"Topic9\", \"Topic9\", \"Topic9\", \"Topic9\", \"Topic9\", \"Topic9\", \"Topic9\", \"Topic9\", \"Topic9\", \"Topic9\", \"Topic9\", \"Topic9\", \"Topic9\", \"Topic9\", \"Topic9\", \"Topic9\", \"Topic9\", \"Topic9\", \"Topic9\", \"Topic9\", \"Topic9\", \"Topic9\", \"Topic9\", \"Topic9\", \"Topic9\", \"Topic9\", \"Topic9\", \"Topic10\", \"Topic10\", \"Topic10\", \"Topic10\", \"Topic10\", \"Topic10\", \"Topic10\", \"Topic10\", \"Topic10\", \"Topic10\", \"Topic10\", \"Topic10\", \"Topic10\", \"Topic10\", \"Topic10\", \"Topic10\", \"Topic10\", \"Topic10\", \"Topic10\", \"Topic10\", \"Topic10\", \"Topic10\", \"Topic10\", \"Topic10\", \"Topic10\", \"Topic10\", \"Topic10\", \"Topic10\", \"Topic10\", \"Topic10\", \"Topic10\", \"Topic10\", \"Topic10\", \"Topic10\", \"Topic10\", \"Topic10\", \"Topic10\", \"Topic10\", \"Topic10\", \"Topic10\", \"Topic10\", \"Topic10\", \"Topic10\", \"Topic10\", \"Topic10\", \"Topic10\", \"Topic10\", \"Topic10\", \"Topic10\", \"Topic10\", \"Topic10\", \"Topic10\", \"Topic10\", \"Topic10\", \"Topic10\", \"Topic10\", \"Topic10\", \"Topic10\", \"Topic10\", \"Topic10\", \"Topic10\", \"Topic10\", \"Topic10\"], \"logprob\": [30.0, 29.0, 28.0, 27.0, 26.0, 25.0, 24.0, 23.0, 22.0, 21.0, 20.0, 19.0, 18.0, 17.0, 16.0, 15.0, 14.0, 13.0, 12.0, 11.0, 10.0, 9.0, 8.0, 7.0, 6.0, 5.0, 4.0, 3.0, 2.0, 1.0, -5.3415, -6.0261, -6.0261, -6.0261, -6.0261, -6.0261, -6.0261, -6.0261, -6.0261, -6.0261, -6.0261, -6.0261, -6.0261, -6.0261, -6.0262, -6.0262, -6.0262, -6.0262, -6.0262, -6.0262, -6.0262, -6.0265, -6.0263, -6.0261, -6.0261, -6.0261, -5.9697, -6.0261, -6.0261, -6.0261, -5.798, -3.5448, -3.0855, -4.0294, -3.8481, -3.854, -4.9368, -4.9773, -4.0494, -3.9977, -2.706, -3.9904, -5.3433, -4.9029, -5.3434, -3.4837, -3.4281, -4.2232, -3.861, -4.357, -4.6151, -4.7726, -5.3716, -5.5901, -5.3434, -5.1812, -5.2863, -5.3144, -4.9094, -4.8841, -4.8841, -4.652, -4.6598, -5.0877, -5.1959, -5.1463, -5.2245, -5.4176, -5.8196, -5.8558, -5.327, -6.3925, -5.8093, -6.4459, -6.5023, -6.5023, -6.5023, -6.5023, -6.5023, -6.5023, -6.5023, -6.5023, -6.5023, -6.5023, -6.5023, -6.5023, -6.5023, -6.5024, -6.5024, -6.5024, -6.5024, -6.5024, -6.5024, -6.5024, -6.5024, -6.5024, -6.5024, -4.3273, -5.6765, -4.0076, -5.7907, -3.5776, -6.3215, -5.0299, -3.9018, -2.2104, -4.9095, -4.8952, -5.6472, -3.0506, -3.024, -4.568, -4.8978, -4.9636, -4.1947, -3.4254, -5.3791, -5.6978, -4.7044, -4.7181, -3.3939, -5.1576, -3.4438, -5.0605, -4.7158, -4.7548, -5.0123, -4.9527, -5.0472, -4.7168, -4.8208, -4.9761, -5.1362, -4.6573, -4.3713, -5.7421, -5.7421, -5.7421, -5.7421, -5.7421, -5.7421, -5.7421, -5.7421, -5.7421, -5.7422, -5.7422, -5.7423, -5.6322, -5.7421, -5.7421, -5.5139, -5.7421, -5.6857, -5.7421, -5.0304, -5.6112, -5.514, -5.686, -5.434, -4.3145, -6.7391, -5.2733, -5.6857, -5.611, -3.6182, -4.4232, -4.2606, -4.2606, -3.555, -4.556, -3.0891, -3.366, -3.4351, -4.4633, -3.6508, -5.2396, -4.556, -4.6485, -5.2051, -4.582, -5.2241, -4.3336, -4.7484, -4.8687, -4.9217, -4.7225, -4.6926, -4.0588, -4.6573, -4.5643, -4.8753, -4.9508, -5.0304, -4.6339, -5.464, -5.464, -5.464, -5.4641, -5.4643, -5.464, -5.1726, -5.464, -6.0067, -5.4641, -5.4075, -5.3542, -6.6322, -5.285, -5.9335, -6.5578, -5.464, -6.9834, -6.9834, -6.9834, -4.7186, -5.4641, -5.3542, -6.8389, -7.2917, -7.2917, -7.2917, -7.2917, -7.2917, -4.7812, -6.5577, -6.9834, -6.9834, -5.3541, -5.464, -5.5477, -5.3541, -4.2777, -4.2557, -4.6857, -5.4641, -2.8001, -4.3143, -4.6695, -3.8012, -3.4616, -4.5344, -4.4813, -4.6968, -4.7899, -4.7926, -3.8495, -3.9405, -4.2739, -4.5015, -4.2116, -4.5015, -4.895, -4.8292, -4.6749, -4.744, -4.396, -5.0359, -5.0226, -5.0935, -5.7209, -5.7772, -5.7772, -5.7772, -5.7772, -5.7772, -5.7772, -5.7772, -5.7772, -5.7772, -4.962, -4.118, -5.6674, -5.7773, -5.7773, -5.7208, -5.7772, -5.7773, -5.7209, -5.9261, -5.4504, -6.978, -6.5957, -5.7209, -3.6771, -5.646, -7.1521, -7.413, -6.2245, -7.1521, -4.2207, -5.7772, -5.7772, -4.3178, -4.1165, -5.0944, -3.6812, -4.2841, -4.8313, -4.3599, -4.541, -3.1235, -3.4468, -3.6764, -3.4224, -4.29, -4.5802, -4.7105, -4.8296, -5.0944, -4.1829, -5.0944, -5.0944, -4.7869, -5.0101, -5.0655, -4.7076, -5.026, -4.8598, -4.5131, -4.7297, -4.8105, -4.98, -5.0252, -5.2594, -5.2594, -4.7819, -5.8858, -5.8858, -5.9422, -5.9422, -5.9422, -5.9422, -5.9422, -5.9422, -5.9422, -5.9422, -5.9422, -5.9422, -5.9422, -5.9422, -5.9422, -5.9422, -5.9422, -5.9422, -5.9422, -5.9422, -5.9422, -5.9422, -5.9422, -5.9422, -5.9422, -5.9422, -5.9423, -3.488, -3.213, -4.838, -5.7141, -4.5282, -3.0336, -4.1387, -3.6687, -4.1154, -4.1291, -4.5568, -5.191, -4.8546, -5.8858, -5.8111, -5.0526, -3.6153, -5.2415, -5.1536, -5.2594, -5.0061, -4.8979, -3.9333, -5.0217, -5.5675, -5.1751, -4.2542, -5.0966, -4.8574, -4.7826, -5.2707, -4.8163, -5.175, -5.2305, -5.2555, -5.5642, -5.5642, -5.5642, -5.5642, -5.5642, -5.5642, -5.5642, -5.5642, -5.5643, -5.5643, -5.5077, -5.5643, -4.3952, -5.433, -6.2589, -6.259, -5.5642, -5.5077, -4.7238, -4.8814, -5.2727, -7.0835, -3.1273, -5.6744, -5.545, -7.0838, -6.8483, -7.3919, -7.3919, -7.3919, -6.6422, -4.3331, -5.382, -5.5013, -5.5643, -6.1067, -4.0042, -5.5642, -3.2291, -5.0903, -4.3878, -4.967, -3.1852, -4.8132, -3.2718, -5.2061, -4.8525, -3.2172, -4.4667, -4.159, -4.4007, -3.8354, -4.0305, -4.0114, -4.691, -5.0606, -4.9748, -4.5746, -4.8979, -4.7962, -4.2838, -4.9833, -4.9071, -4.8805, -4.9165, -4.9789, -5.7758, -5.7758, -5.7758, -5.7758, -5.7758, -5.7758, -5.7758, -5.7759, -5.7759, -5.7759, -5.666, -5.7758, -5.7758, -5.7758, -5.7758, -5.776, -4.1036, -5.7758, -5.9587, -5.9588, -5.776, -5.3847, -6.2858, -5.0931, -5.0931, -5.7758, -5.9586, -6.5942, -6.5942, -5.7758, -5.7759, -4.7863, -4.1526, -5.2914, -3.5839, -3.5656, -4.2053, -4.3283, -3.8688, -2.9949, -2.9548, -4.9309, -3.2951, -3.6143, -4.3887, -3.8636, -4.8022, -3.9231, -5.093, -4.9462, -4.6523, -4.9821, -4.9149, -4.669, -5.5476, -5.4248, -5.2117, -4.7461, -4.9295, -4.9061, -5.064, -5.1291, -4.7898, -4.0989, -5.4161, -5.4725, -5.4725, -5.4726, -5.4726, -5.4726, -5.4726, -5.4726, -5.4726, -5.4726, -5.4726, -5.4726, -5.312, -5.4161, -5.3414, -5.4728, -3.1402, -5.4729, -5.4162, -3.81, -5.0626, -5.0463, -6.291, -6.6408, -5.1216, -5.2918, -6.6734, -6.1674, -3.9708, -4.3493, -5.1216, -4.8302, -4.0322, -4.4853, -4.262, -4.4646, -3.6731, -4.4988, -3.5158, -3.479, -4.1535, -4.0053, -4.0846, -5.0815, -4.9001, -4.1948, -5.0211, -4.9897, -4.8811, -4.9078, -5.0966, -4.9134, -5.0502, -5.4528, -5.4528, -5.4528, -5.4528, -5.4528, -5.4528, -5.4528, -5.4528, -5.4528, -5.4528, -5.4528, -5.4528, -5.4528, -5.4528, -5.4528, -5.4529, -5.4529, -5.4529, -5.453, -5.4528, -5.3216, -5.4528, -5.541, -5.3965, -4.9473, -5.4528, -5.7793, -5.4528, -5.4528, -6.6536, -3.836, -4.3682, -4.9219, -4.2126, -4.6332, -3.4724, -3.3433, -4.2567, -4.77, -3.5048, -4.7411, -4.0204, -4.6738, -4.6331, -4.6745, -4.8114, -4.325, -5.2264, -5.0066, -4.5389, -5.0234, -4.5384, -5.1018, -5.1526, -5.3216, -4.5123, -5.3216, -5.2922, -5.1638, -5.2441, -5.1795, -5.2425, -5.2439], \"loglift\": [30.0, 29.0, 28.0, 27.0, 26.0, 25.0, 24.0, 23.0, 22.0, 21.0, 20.0, 19.0, 18.0, 17.0, 16.0, 15.0, 14.0, 13.0, 12.0, 11.0, 10.0, 9.0, 8.0, 7.0, 6.0, 5.0, 4.0, 3.0, 2.0, 1.0, 1.8908, 1.8757, 1.8757, 1.8757, 1.8757, 1.8757, 1.8757, 1.8757, 1.8757, 1.8757, 1.8757, 1.8757, 1.8757, 1.8757, 1.8757, 1.8757, 1.8757, 1.8757, 1.8756, 1.8756, 1.8756, 1.8753, 1.8318, 1.8239, 1.8211, 1.8211, 1.7709, 1.7615, 1.7573, 1.7486, 1.7417, 1.6529, 1.4206, 1.5271, 1.497, 1.4961, 1.6362, 1.631, 1.3352, 1.2127, 0.7479, 1.0853, 1.5704, 1.2899, 1.5121, 0.4247, -0.1655, 0.4561, 0.0741, 0.4814, 0.6575, 0.7399, 1.1889, 1.414, 1.138, 0.8227, 0.9533, 0.9665, 0.3705, 0.2714, 0.2134, -0.2716, -0.6666, 0.3998, -0.2735, -1.1618, -0.6324, 2.0293, 1.9785, 1.9729, 1.9063, 1.8688, 1.865, 1.8558, 1.8415, 1.8415, 1.8415, 1.8415, 1.8415, 1.8415, 1.8415, 1.8415, 1.8415, 1.8415, 1.8415, 1.8415, 1.8415, 1.8415, 1.8415, 1.8415, 1.8415, 1.8415, 1.8415, 1.8415, 1.8415, 1.8415, 1.8415, 1.8273, 1.8121, 1.7289, 1.7818, 1.3933, 1.8143, 1.5987, 1.3782, 1.0523, 1.5279, 1.4929, 1.6396, 0.9426, 0.8844, 1.2645, 1.2624, 1.2761, 0.9897, 0.5591, 1.3451, 1.479, 0.9623, 0.932, 0.1828, 1.1271, 0.0101, 0.9957, 0.7044, 0.7328, 0.9478, 0.5864, 0.5835, -0.1247, 0.0176, -0.2968, -0.0606, 2.1398, 2.1289, 2.0433, 2.0433, 2.0433, 2.0433, 2.0433, 2.0433, 2.0433, 2.0432, 2.0432, 2.0432, 2.0432, 2.0431, 2.0206, 2.0024, 1.9949, 1.9896, 1.9611, 1.9167, 1.9029, 1.8988, 1.879, 1.8269, 1.8224, 1.7938, 1.7687, 1.7464, 1.7352, 1.7291, 1.7191, 1.6369, 1.6701, 1.595, 1.5803, 1.2708, 1.5511, 0.8461, 0.0879, 0.1416, 0.982, 0.2576, 1.5668, 0.8004, 0.7427, 1.3993, 0.6024, 1.3712, 0.1725, 0.6288, 0.762, 0.801, 0.4752, 0.3831, -0.7962, 0.3137, 0.0279, 0.3697, -0.2714, -0.1081, 2.1953, 2.1306, 2.1305, 2.1104, 2.0952, 2.0912, 2.0711, 2.0574, 2.0538, 2.0533, 2.0505, 2.0315, 1.9236, 1.9103, 1.8576, 1.8504, 1.8468, 1.8364, 1.7963, 1.7962, 1.7962, 1.7472, 1.7103, 1.6901, 1.6897, 1.6729, 1.6729, 1.6729, 1.6728, 1.6728, 1.6541, 1.6678, 1.6695, 1.6695, 1.6251, 1.6154, 1.6049, 1.5846, 1.4833, 1.4057, 1.4515, 1.4913, 0.7766, 1.0768, 1.1875, 0.7909, 0.5316, 1.0936, 1.0196, 1.1622, 1.1311, 1.1295, 0.0856, 0.044, 0.4055, 0.654, 0.1688, 0.596, 1.1132, 0.954, 0.4007, 0.4663, -1.1334, 0.3092, -0.1968, 0.2567, 2.1673, 2.1583, 2.1583, 2.1583, 2.1583, 2.1583, 2.1583, 2.1583, 2.1583, 2.1582, 2.1344, 2.1343, 2.1247, 2.113, 2.1088, 2.1005, 2.0491, 2.0283, 2.0197, 2.0029, 1.9389, 1.8339, 1.7625, 1.7138, 1.6793, 1.6491, 1.6453, 1.6384, 1.6372, 1.6352, 1.6078, 1.6088, 1.5816, 1.4654, 1.3565, 1.4492, 1.1572, 1.2683, 1.3871, 1.1277, 1.119, 0.1391, 0.1299, 0.3082, 0.0314, 0.6323, 0.8399, 0.9175, 1.0421, 1.3238, 0.1975, 1.3188, 1.2737, 0.8626, 1.1158, 1.1444, 0.5475, 1.0302, 0.6527, -0.52, -0.1376, -0.1312, 0.7501, 0.9163, 2.2478, 2.2106, 2.1585, 2.1568, 2.1567, 2.146, 2.146, 2.146, 2.146, 2.146, 2.146, 2.146, 2.146, 2.146, 2.146, 2.146, 2.146, 2.146, 2.146, 2.146, 2.146, 2.146, 2.146, 2.146, 2.146, 2.146, 2.1459, 2.1459, 2.1459, 2.1459, 1.8892, 1.7094, 1.9699, 2.082, 1.6696, 0.9015, 1.3066, 0.9235, 1.1571, 1.1159, 1.2756, 1.6316, 1.3598, 2.102, 2.0376, 1.3602, -0.1615, 1.3244, 1.1765, 1.2842, 0.9149, 0.7328, -0.6706, 0.8499, 1.6262, 0.9621, -0.6775, 0.6633, 0.1135, -0.1032, 0.7843, -0.8232, 0.3641, 0.506, 0.257, 2.2291, 2.2291, 2.2291, 2.2291, 2.2291, 2.2291, 2.2291, 2.2291, 2.229, 2.229, 2.2042, 2.1824, 2.1725, 2.1241, 2.0974, 2.0974, 2.0467, 2.0317, 1.9555, 1.8466, 1.8421, 1.8231, 1.8109, 1.778, 1.7376, 1.6976, 1.6919, 1.6797, 1.6797, 1.6797, 1.6742, 1.6226, 1.6288, 1.6171, 1.6189, 1.639, 1.4688, 1.577, 1.1512, 1.4924, 1.2721, 1.4494, 0.7994, 1.2939, 0.3049, 1.5129, 1.2733, 0.0454, 0.9534, 0.6668, 0.8443, 0.0998, -0.0373, -0.103, 0.7542, 1.265, 1.0916, 0.2638, 0.8248, 0.5539, -0.83, 0.9581, 0.5938, 0.4646, -0.4104, -0.2996, 2.1982, 2.1982, 2.1982, 2.1982, 2.1982, 2.1982, 2.1982, 2.1982, 2.1981, 2.1981, 2.1497, 2.1415, 2.1396, 2.1396, 2.0932, 2.0712, 2.0425, 2.0146, 1.9994, 1.9993, 1.9581, 1.9518, 1.9479, 1.8681, 1.8586, 1.8422, 1.8158, 1.7967, 1.7967, 1.7917, 1.7755, 1.7316, 1.7044, 1.7482, 1.5716, 1.5319, 1.5247, 1.5307, 1.0694, 0.459, 0.3078, 1.4982, 0.2817, 0.3703, 1.0024, 0.1295, 1.1042, 0.012, 1.3252, 1.1291, 0.7322, 0.9781, 0.8449, -0.0769, 1.691, 1.3385, 0.7104, -0.8377, -0.2501, -0.4001, -0.1417, -0.3034, 2.3813, 2.3575, 2.3498, 2.3419, 2.3419, 2.3419, 2.3419, 2.3419, 2.3419, 2.3419, 2.3419, 2.3419, 2.3419, 2.2917, 2.2884, 2.2678, 2.2229, 2.1994, 2.1637, 2.1418, 2.1362, 2.0964, 2.0365, 2.0055, 1.9992, 1.9701, 1.9523, 1.952, 1.9481, 1.9381, 1.8736, 1.8551, 1.8802, 1.7628, 1.6173, 1.6921, 1.5235, 1.4768, 0.3201, 1.2104, 0.0609, -0.2164, 0.2269, -0.0208, -0.1762, 1.5484, 1.1082, -0.741, 0.9728, 0.7713, 0.3292, 0.2767, 1.0393, -0.2341, -0.2245, 2.378, 2.378, 2.378, 2.378, 2.378, 2.378, 2.378, 2.378, 2.378, 2.378, 2.378, 2.378, 2.378, 2.378, 2.378, 2.3779, 2.3779, 2.3779, 2.3778, 2.3012, 2.2927, 2.2801, 2.2493, 2.2445, 2.207, 2.2013, 2.1883, 2.1687, 2.1351, 2.0852, 1.9495, 1.8462, 1.9674, 1.6319, 1.796, 0.9079, 0.5651, 1.2957, 1.6432, -0.0509, 1.4688, -0.0359, 1.0355, 0.906, 0.9756, 1.1443, 0.181, 1.9033, 1.4061, 0.2995, 1.3647, 0.141, 1.4673, 1.5206, 1.932, -1.2496, 1.8477, 1.6729, 0.9115, 1.1712, 0.3771, 0.7515, 0.0361]}, \"token.table\": {\"Topic\": [1, 1, 2, 3, 5, 9, 10, 7, 10, 2, 4, 8, 9, 6, 1, 4, 7, 8, 9, 5, 1, 3, 4, 5, 7, 8, 10, 7, 7, 2, 5, 10, 10, 5, 9, 2, 3, 4, 5, 6, 7, 9, 10, 1, 3, 4, 5, 6, 7, 8, 9, 10, 1, 2, 3, 5, 6, 8, 2, 3, 4, 5, 7, 9, 10, 2, 2, 3, 4, 5, 6, 7, 8, 9, 10, 10, 10, 1, 6, 8, 1, 2, 3, 5, 6, 7, 9, 10, 10, 1, 2, 3, 5, 6, 7, 8, 9, 10, 1, 2, 5, 6, 8, 2, 4, 5, 6, 7, 3, 4, 6, 7, 8, 4, 8, 7, 1, 3, 4, 6, 8, 9, 1, 2, 3, 5, 6, 9, 10, 9, 2, 3, 6, 10, 8, 1, 2, 8, 2, 1, 3, 4, 5, 8, 9, 10, 6, 4, 7, 2, 5, 6, 7, 10, 5, 1, 2, 4, 6, 7, 10, 6, 4, 6, 5, 8, 5, 7, 3, 8, 4, 1, 3, 5, 4, 8, 3, 10, 1, 2, 3, 4, 5, 6, 7, 8, 9, 10, 4, 2, 1, 3, 4, 5, 7, 8, 6, 7, 3, 3, 4, 5, 7, 8, 9, 10, 5, 1, 2, 4, 5, 6, 7, 8, 9, 10, 5, 9, 10, 6, 2, 3, 4, 9, 10, 4, 9, 10, 1, 4, 6, 5, 10, 3, 4, 7, 2, 3, 5, 6, 8, 9, 2, 3, 9, 10, 1, 3, 5, 6, 7, 10, 4, 5, 6, 8, 1, 4, 5, 6, 8, 10, 1, 2, 9, 2, 4, 5, 8, 10, 7, 1, 2, 3, 4, 5, 6, 7, 8, 9, 10, 1, 2, 3, 4, 5, 6, 7, 8, 10, 4, 6, 3, 1, 4, 6, 7, 1, 2, 3, 5, 6, 8, 9, 8, 3, 1, 4, 8, 1, 2, 4, 5, 6, 7, 10, 1, 1, 2, 4, 5, 6, 7, 8, 9, 1, 4, 6, 7, 8, 10, 2, 4, 5, 6, 8, 8, 1, 3, 4, 5, 6, 7, 8, 9, 10, 1, 2, 3, 4, 6, 9, 9, 1, 5, 1, 2, 3, 4, 5, 6, 7, 8, 9, 10, 7, 1, 2, 3, 4, 5, 6, 7, 8, 9, 10, 2, 2, 5, 6, 10, 6, 8, 1, 2, 3, 5, 6, 8, 9, 1, 2, 3, 4, 5, 6, 7, 8, 9, 10, 1, 2, 3, 4, 5, 6, 7, 8, 9, 10, 1, 5, 3, 7, 5, 1, 2, 3, 4, 5, 6, 7, 9, 10, 1, 2, 3, 4, 5, 6, 7, 8, 9, 10, 9, 1, 5, 5, 6, 4, 5, 1, 10, 4, 7, 1, 2, 3, 5, 6, 1, 3, 4, 5, 6, 7, 8, 9, 10, 1, 2, 3, 4, 5, 6, 7, 8, 9, 10, 7, 10, 3, 10, 2, 3, 5, 6, 7, 9, 10, 1, 2, 3, 4, 5, 6, 8, 9, 2, 10, 1, 2, 3, 4, 5, 6, 7, 8, 9, 10, 2, 5, 6, 7, 8, 10, 1, 3, 4, 5, 6, 7, 8, 9, 10, 1, 3, 4, 5, 6, 8, 9, 10, 1, 2, 5, 6, 2, 1, 4, 2, 8, 3, 9, 3, 1, 2, 3, 4, 5, 6, 7, 9, 10, 6, 3, 4, 5, 10, 3, 4, 6, 7, 8, 1, 2, 3, 4, 5, 6, 7, 8, 9, 10, 7, 10, 3, 4, 6, 7, 8, 10, 2, 5, 7, 8, 10, 7, 1, 5, 4, 9, 2, 8, 2, 8, 10, 3, 4, 6, 2, 1, 2, 3, 5, 9, 2, 5, 6, 5, 1, 2, 3, 4, 6, 7, 8, 9, 1, 3, 4, 5, 7, 8, 9, 4, 10, 1, 2, 3, 4, 5, 6, 9, 10, 2, 1, 1, 2, 3, 4, 5, 6, 7, 8, 9, 10, 1, 2, 3, 4, 5, 7, 8, 9, 3, 6, 3, 4, 7, 10, 7, 4, 6, 5, 3, 4, 6, 8, 8, 4, 8, 2, 8, 2, 8, 1, 2, 3, 5, 6, 7, 8, 10, 5, 8, 4, 5, 1, 2, 10, 1, 3, 4, 5, 6, 7, 8, 1, 2, 3, 4, 5, 6, 7, 8, 9, 6, 9, 3, 4, 9, 4, 6, 8, 2, 1, 3, 4, 5, 7, 7, 1, 2, 4, 5, 7, 8, 9, 10, 3, 4, 6, 2, 1, 2, 5, 6, 10, 1, 2, 3, 6, 1, 4, 6, 9, 3, 4, 7, 8, 4, 1, 2, 3, 4, 5, 6, 1, 3, 5, 6, 7, 2, 1, 4, 3, 2, 2, 3, 8, 9, 1, 4, 5, 6, 8, 10, 1, 2, 3, 4, 5, 6, 9, 10, 1, 2, 3, 4, 5, 6, 7, 8, 9, 10, 10, 4, 3, 4, 6, 7, 2, 6, 8, 9, 6, 3, 4, 5, 7, 8, 9, 10, 2, 6, 7, 10, 1, 2, 3, 4, 5, 7, 8, 9, 1, 3, 4, 1, 2, 3, 5, 6, 7, 8, 10, 1, 2, 3, 4, 5, 6, 7, 8, 9, 10, 5, 6, 8, 4, 9, 1, 3, 1, 2, 3, 4, 5, 6, 7, 8, 9, 10, 8, 9, 6, 9, 2, 4, 6, 10, 9, 1, 2, 4, 5, 6, 7, 8, 10, 9, 10, 2, 1, 4, 5, 6, 7, 9, 10, 3, 1, 3, 7, 10, 2, 1, 2, 3, 6, 8, 9, 10, 2, 4, 5, 6, 8, 10, 2, 5, 2, 3, 1, 4, 9, 2, 3, 4, 5, 7, 8, 4, 1, 2, 6, 2, 8, 10, 1, 1, 2, 3, 5, 8, 2, 8, 2, 5, 2, 4, 5, 2, 3, 4, 5, 7, 9, 10, 10, 1, 3, 8, 1, 10, 4, 5, 6, 4, 2, 3, 6, 7, 8, 9, 10, 10, 6, 1, 4, 8, 3, 10, 1, 3, 6, 1, 10, 8, 4, 1, 3, 4, 5, 6, 7, 9, 10, 1, 9, 1, 2, 3, 4, 5, 6, 8, 9, 10, 6, 1, 3, 1, 2, 6, 4, 6, 7, 6, 1, 1, 3, 9, 2, 2, 3, 5, 10, 4, 10, 9, 4, 5, 8, 1, 1, 4, 1, 3, 4, 5, 6, 8, 9, 1, 3, 4, 6, 7, 9, 10, 7, 3, 10, 1, 2, 4, 5, 6, 8, 10, 1, 2, 4, 6, 9, 10, 8, 9, 10, 2, 3, 6, 8, 10, 2, 1, 2, 3, 5, 6, 10, 5, 1, 2, 3, 4, 5, 6, 7, 8, 9, 10, 5, 8, 6, 8, 10, 2, 3, 5, 6, 1, 2, 4, 5, 6, 10, 6, 9, 7, 6, 7, 8, 3, 8, 9, 2, 8, 3, 4, 8, 9, 2, 1, 3, 4, 5, 7, 9, 1, 7, 8, 5, 2, 3, 4, 5, 6, 7, 10, 2, 1, 4, 9, 1, 7, 1, 6, 1, 4, 6, 8, 10, 1, 5, 6, 1, 3, 4, 6, 7, 9, 10, 6, 7, 2, 4, 10, 1, 2, 4, 9, 1, 2, 3, 4, 5, 6, 7, 8, 9, 10, 1, 2, 4, 7, 8, 10, 1, 2, 3, 4, 7, 8, 9, 10, 6, 10, 1, 2, 3, 4, 5, 9, 2, 4, 7, 1, 2, 3, 4, 5, 6, 7, 9, 10, 7, 3, 3, 4, 7, 4, 6, 8, 6, 1, 2, 4, 5, 6, 7, 8, 10, 1, 2, 3, 4, 5, 6, 7, 8, 9, 10, 3, 4, 4, 7, 8, 6, 8, 7, 1, 1, 2, 3, 4, 5, 6, 7, 8, 9, 10, 2, 6, 9, 4, 5, 8, 1, 10, 1, 2, 3, 4, 5, 6, 7, 8, 9, 1, 2, 3, 4, 7, 8, 9, 3, 6, 1, 2, 4, 5, 7, 8, 10, 5, 8, 3, 9, 1, 5, 5, 2, 4, 6, 7, 8, 9, 2, 3, 5, 7, 8, 10, 5, 8, 1, 9, 2, 5, 6, 8, 1, 3, 7, 8, 10, 2, 4, 1, 2, 3, 4, 6, 7, 8, 10, 4, 1, 6, 1, 9, 10, 1, 7, 8, 2, 5, 6, 4, 6, 1, 2, 3, 10, 2, 3, 8, 9, 10, 1, 3, 4, 5, 6, 7, 8, 9, 10, 7, 4, 6, 1, 6, 1, 2, 3, 4, 5, 6, 7, 8, 9, 10, 9, 1, 7, 8, 9, 1, 3, 4, 5, 6, 7, 8, 10, 1, 5, 7, 1, 8, 9, 5, 6, 10, 6, 1, 3, 4, 6, 7, 8, 9, 10, 8, 1, 2, 3, 4, 5, 6, 7, 8, 9, 10, 1, 8, 2, 3, 1, 2, 3, 5, 6, 7, 8, 9, 6, 1, 7, 1, 2, 3, 6, 7, 10, 1, 3, 9, 1, 2, 3, 4, 5, 6, 7, 8, 9, 10, 5, 6, 1, 2, 3, 4, 5, 6, 7, 8, 9, 10, 1, 2, 3, 4, 5, 6, 7, 9, 10, 10, 1, 2, 4, 8, 10, 2, 10], \"Freq\": [0.8643802742402713, 0.22796592350579423, 0.13677955410347653, 0.09118636940231768, 0.04559318470115884, 0.13677955410347653, 0.36474547760927073, 0.9305374624810155, 0.8051208742276181, 0.24518055869105226, 0.4903611173821045, 0.08172685289701742, 0.16345370579403484, 0.83315326048196, 0.04670299454667831, 0.09340598909335662, 0.04670299454667831, 0.28021796728006987, 0.46702994546678306, 0.8509732842294282, 0.01523714836038287, 0.06094859344153148, 0.07618574180191436, 0.38092870900957176, 0.39616585736995463, 0.03047429672076574, 0.03047429672076574, 0.8170455536048261, 0.9305396591941548, 0.7974036182728772, 0.08860040203031969, 0.08860040203031969, 0.8051187799878752, 0.5457620030137662, 0.7920742751763744, 0.028046997261226385, 0.6450809370082069, 0.05609399452245277, 0.11218798904490554, 0.05609399452245277, 0.028046997261226385, 0.05609399452245277, 0.8051207498879713, 0.2850070746173103, 0.1813681383928338, 0.025909734056119117, 0.25909734056119116, 0.025909734056119117, 0.025909734056119117, 0.025909734056119117, 0.1554584043367147, 0.025909734056119117, 0.032109150889963495, 0.06421830177992699, 0.192654905339781, 0.385309810679562, 0.1605457544498175, 0.12843660355985398, 0.15219826885558385, 0.04348521967302396, 0.04348521967302396, 0.47833741640326355, 0.02174260983651198, 0.10871304918255989, 0.13045565901907188, 0.8034035023736119, 0.11028547781436282, 0.5759352730305614, 0.08577759385561552, 0.17155518771123104, 0.012253941979373647, 0.012253941979373647, 0.024507883958747295, 0.012253941979373647, 0.012253941979373647, 0.8051240660738842, 0.8051222967848419, 0.1301584334500895, 0.1301584334500895, 0.520633733800358, 0.08139352868078994, 0.21162317457005386, 0.11395094015310593, 0.11395094015310593, 0.13022964588926392, 0.11395094015310593, 0.01627870573615799, 0.1953444688338959, 0.8051217760814564, 0.057089192316809194, 0.3196994769741315, 0.2055210923405131, 0.09134270770689472, 0.04567135385344736, 0.06850703078017104, 0.057089192316809194, 0.11417838463361839, 0.06850703078017104, 0.15147492847222221, 0.4241297997222222, 0.15147492847222221, 0.12117994277777777, 0.12117994277777777, 0.10354382156031167, 0.10354382156031167, 0.62126292936187, 0.10354382156031167, 0.10354382156031167, 0.05921197536184656, 0.4440898152138492, 0.23684790144738624, 0.05921197536184656, 0.1480299384046164, 0.1586096296239537, 0.7930481481197684, 0.4166387504608938, 0.29376873280691645, 0.05875374656138329, 0.05875374656138329, 0.4700299724910663, 0.05875374656138329, 0.05875374656138329, 0.038998115086446974, 0.038998115086446974, 0.038998115086446974, 0.1559924603457879, 0.35098303577802276, 0.038998115086446974, 0.3119849206915758, 0.8341640554983633, 0.18842192761222773, 0.1256146184081518, 0.0628073092040759, 0.5652657828366832, 0.7432717641850183, 0.7356293342301361, 0.14712586684602721, 0.743273462147192, 0.806909037335533, 0.019703900728143844, 0.07881560291257537, 0.17733510655329457, 0.19703900728143842, 0.4137819152910207, 0.07881560291257537, 0.019703900728143844, 0.8331599363085275, 0.4778936597109031, 0.23894682985545154, 0.1591913391443607, 0.3183826782887214, 0.12735307131548856, 0.03183826782887214, 0.3502209461175936, 0.7745424732667939, 0.07897963117224258, 0.23693889351672776, 0.07897963117224258, 0.07897963117224258, 0.4738777870334555, 0.07897963117224258, 0.8331543223581723, 0.7327417034210426, 0.9320495032387014, 0.4712275807991997, 0.37698206463935974, 0.26167460739657317, 0.5233492147931463, 0.9363894749291557, 0.6691551579821629, 0.8317560002932777, 0.07726042948689889, 0.07726042948689889, 0.8498647243558878, 0.16368151579752646, 0.6547260631901058, 0.9232211397287037, 0.8051204892202443, 0.020323745663339877, 0.08129498265335951, 0.020323745663339877, 0.4674461502568172, 0.020323745663339877, 0.020323745663339877, 0.060971236990019634, 0.020323745663339877, 0.1829137109700589, 0.12194247398003927, 0.8317438725612659, 0.8069078516462437, 0.16712682309801127, 0.14325156265543823, 0.33425364619602255, 0.04775052088514608, 0.14325156265543823, 0.19100208354058432, 0.833166193025193, 0.9305393726418086, 0.9232368454327717, 0.5502916447471673, 0.06603499736966006, 0.02201166578988669, 0.04402333157977338, 0.15408166052920683, 0.15408166052920683, 0.02201166578988669, 0.8939713763793767, 0.21002467023126137, 0.12116807897957386, 0.07270084738774432, 0.3069591334149205, 0.04846723159182954, 0.12116807897957386, 0.00807787193197159, 0.01615574386394318, 0.10501233511563068, 0.42334481117752265, 0.12968504400207945, 0.7781102640124766, 0.8331627982834579, 0.07028290525536551, 0.28113162102146205, 0.07028290525536551, 0.5622632420429241, 0.07028290525536551, 0.1306099470321808, 0.1306099470321808, 0.6530497351609039, 0.8184140567968672, 0.500329673144244, 0.7776480585093803, 0.785099231422237, 0.1570198462844474, 0.7688577145616705, 0.1281429524269451, 0.9305473369722587, 0.07388631284564373, 0.07388631284564373, 0.07388631284564373, 0.07388631284564373, 0.07388631284564373, 0.5910905027651499, 0.07553582670132407, 0.22660748010397222, 0.6042866136105925, 0.07553582670132407, 0.046219119589802724, 0.09243823917960545, 0.27731471753881637, 0.09243823917960545, 0.4159720763082245, 0.09243823917960545, 0.6631777010717189, 0.09473967158167412, 0.09473967158167412, 0.09473967158167412, 0.10836137718903854, 0.10836137718903854, 0.5418068859451927, 0.10836137718903854, 0.10836137718903854, 0.10836137718903854, 0.4176848599335035, 0.3341478879468028, 0.20884242996675176, 0.4259912480841357, 0.05324890601051696, 0.2662445300525848, 0.21299562404206784, 0.8051182079755304, 0.4722179258200977, 0.032992423092192046, 0.016496211546096023, 0.11547348082267216, 0.06598484618438409, 0.34642044246801645, 0.06598484618438409, 0.049488634638288065, 0.016496211546096023, 0.016496211546096023, 0.2969318078297284, 0.058676976430856564, 0.1760309292925697, 0.25426689786704515, 0.15647193714895086, 0.07823596857447543, 0.019558992143618857, 0.21514891357980742, 0.039117984287237714, 0.019558992143618857, 0.5846825297087768, 0.3341043026907296, 0.9232247259666416, 0.1018190093002601, 0.05090950465013005, 0.15272851395039014, 0.6618235604516907, 0.7710528461074377, 0.07746651364954685, 0.07746651364954685, 0.07746651364954685, 0.07746651364954685, 0.07746651364954685, 0.6197321091963748, 0.731517552870419, 0.9232289254013395, 0.15465643712414362, 0.15465643712414362, 0.6186257484965745, 0.8643825360122182, 0.29103509889682355, 0.1273278557673603, 0.16370724312946325, 0.07275877472420589, 0.09094846840525736, 0.21827632417261766, 0.8643821635523147, 0.1849328668023234, 0.3143858735639498, 0.01849328668023234, 0.0924664334011617, 0.0924664334011617, 0.11095972008139404, 0.11095972008139404, 0.11095972008139404, 0.022371392755134292, 0.3355708913270144, 0.022371392755134292, 0.08948557102053717, 0.5145420333680887, 0.022371392755134292, 0.8069136180538088, 0.12176852046809704, 0.12176852046809704, 0.12176852046809704, 0.48707408187238815, 0.7009560958677695, 0.5330428554598474, 0.13326071386496186, 0.05214549672976768, 0.011587888162170596, 0.03476366448651179, 0.06373338489193828, 0.06373338489193828, 0.02317577632434119, 0.09270310529736477, 0.09690854696454528, 0.3391799143759085, 0.04845427348227264, 0.04845427348227264, 0.04845427348227264, 0.3876341878581811, 0.7920738383960733, 0.272852868979591, 0.545705737959182, 0.0022874981400888557, 0.14182488468550905, 0.12809989584497591, 0.22874981400888555, 0.10979991072426507, 0.048037460941865964, 0.12581239770488706, 0.12123740142470935, 0.0869249293233765, 0.004574996280177711, 0.9305369753297938, 0.1374891516754785, 0.013094204921474143, 0.2586105471991143, 0.11457429306289875, 0.02291485861257975, 0.23242213735616604, 0.1014800881414246, 0.091659434450319, 0.003273551230368536, 0.019641307382211214, 0.8069191672082333, 0.4147490148295151, 0.1091444775867145, 0.32743343276014353, 0.1309733731040574, 0.6947437521753669, 0.2315812507251223, 0.09222840454621739, 0.4703648631857087, 0.15678828772856956, 0.08300556409159565, 0.10145124500083913, 0.036891361818486956, 0.046114202273108695, 0.2731001117426601, 0.1193548636504959, 0.12137782744118226, 0.008091855162745484, 0.09912522574363218, 0.08091855162745484, 0.04045927581372742, 0.14565339292941873, 0.03843631202304105, 0.07484966025539573, 0.04127205746005928, 0.20636028730029643, 0.01031801436501482, 0.11005881989349144, 0.13069484862352107, 0.006878676243343215, 0.20636028730029643, 0.13413418674519267, 0.07910477679844696, 0.07566543867677536, 0.864382729839157, 0.8939700113117266, 0.32071545551944863, 0.5879783351189892, 0.8939717451151263, 0.02384815901537141, 0.07154447704611423, 0.02384815901537141, 0.33387422621519974, 0.07154447704611423, 0.2384815901537141, 0.02384815901537141, 0.16693711310759987, 0.04769631803074282, 0.18269117227611215, 0.020299019141790237, 0.040598038283580475, 0.1014950957089512, 0.060897057425370715, 0.18269117227611215, 0.08119607656716095, 0.22328921055969264, 0.12179411485074143, 0.8051196881488609, 0.7025885077715834, 0.6071983699163663, 0.3643190219498198, 0.8939716745605251, 0.8980491929196832, 0.5716142725335098, 0.8939706226144857, 0.41552795821237826, 0.4986335498548539, 0.500329040338926, 0.9305401491944335, 0.8643817605583635, 0.7736099829731486, 0.6368564210417892, 0.2830472982407952, 0.0707618245601988, 0.038598692553415796, 0.0128662308511386, 0.038598692553415796, 0.1029298468091088, 0.0128662308511386, 0.0128662308511386, 0.0128662308511386, 0.7205089276637616, 0.0514649234045544, 0.02956747941435668, 0.02956747941435668, 0.29567479414356684, 0.02956747941435668, 0.05913495882871336, 0.02956747941435668, 0.1774048764861401, 0.02956747941435668, 0.23653983531485345, 0.08870243824307004, 0.6546463270180214, 0.3273231635090107, 0.9232323240004, 0.7984574953329752, 0.024690703055811933, 0.049381406111623866, 0.024690703055811933, 0.024690703055811933, 0.4691233580604267, 0.1481442183348716, 0.24690703055811933, 0.12496325790798027, 0.1457904675593103, 0.020827209651330045, 0.020827209651330045, 0.10413604825665022, 0.12496325790798027, 0.10413604825665022, 0.3748897737239408, 0.15462584496635756, 0.7731292248317878, 0.0659135761784437, 0.3018147961855054, 0.031222220295052283, 0.18039505059363542, 0.05897530500176543, 0.04162962706006971, 0.09019752529681771, 0.10407406765017428, 0.1144814744151917, 0.01387654235335657, 0.2976046177518957, 0.12400192406328987, 0.14880230887594784, 0.024800384812657974, 0.24800384812657975, 0.12400192406328987, 0.07696014191309655, 0.12826690318849426, 0.1539202838261931, 0.1539202838261931, 0.07696014191309655, 0.025653380637698852, 0.025653380637698852, 0.20522704510159082, 0.17957366446389195, 0.4335447788739263, 0.0937394116484165, 0.16404397038472887, 0.011717426456052062, 0.05858713228026031, 0.05858713228026031, 0.11717426456052062, 0.05858713228026031, 0.18647938532747804, 0.29836701652396486, 0.33566289358946044, 0.14918350826198243, 0.8069161924455018, 0.8643824677964319, 0.5003300251736552, 0.7791801198372191, 0.74327376195522, 0.9232220430192281, 0.7920724783673219, 0.8862450371730954, 0.03859666803633609, 0.09649167009084021, 0.019298334018168044, 0.019298334018168044, 0.11579000410900826, 0.03859666803633609, 0.15438667214534435, 0.2701766762543526, 0.23158000821801653, 0.7959764372984771, 0.5856109055602751, 0.09760181759337917, 0.09760181759337917, 0.09760181759337917, 0.02987154435187857, 0.08961463305563572, 0.11948617740751429, 0.02987154435187857, 0.7169170644450857, 0.20670066169789658, 0.08957028673575519, 0.08268026467915864, 0.15847050730172071, 0.08268026467915864, 0.08268026467915864, 0.06890022056596554, 0.06890022056596554, 0.06201019850936898, 0.08957028673575519, 0.7348169558142216, 0.12246949263570359, 0.3035916053361067, 0.10119720177870223, 0.050598600889351114, 0.15179580266805334, 0.050598600889351114, 0.3541902062254578, 0.11704911080573313, 0.3511473324171994, 0.07803274053715542, 0.03901637026857771, 0.3901637026857771, 0.5568554696798625, 0.8643819773814662, 0.8939706319944086, 0.8242079392845381, 0.11774399132636258, 0.3649443595122937, 0.5109221033172112, 0.039641826635525006, 0.39641826635525007, 0.47570191962630004, 0.6872465175940129, 0.1145410862656688, 0.1145410862656688, 0.8069066570214066, 0.1583106277310627, 0.12664850218485016, 0.03166212554621254, 0.1583106277310627, 0.5382561342856131, 0.06609454912862328, 0.06609454912862328, 0.7931345895434795, 0.4295265956132832, 0.1570131149120111, 0.06280524596480443, 0.020935081988268142, 0.1884157378944133, 0.041870163976536284, 0.010467540994134071, 0.42916918075949695, 0.0732727869589385, 0.6408923915857865, 0.04577802797041332, 0.04577802797041332, 0.04577802797041332, 0.09155605594082664, 0.04577802797041332, 0.09155605594082664, 0.8591436824037517, 0.805120383821882, 0.027119815676381786, 0.04067972351457268, 0.24407834108743606, 0.013559907838190893, 0.515276497851254, 0.09491935486733624, 0.013559907838190893, 0.027119815676381786, 0.7429571462099985, 0.8643784779368903, 0.07019759419465418, 0.028079037677861674, 0.23867182026182424, 0.3088694144564784, 0.014039518838930837, 0.028079037677861674, 0.04211855651679251, 0.2527113391007551, 0.014039518838930837, 0.014039518838930837, 0.00892598630696596, 0.044629931534829796, 0.026777958920897876, 0.07140789045572768, 0.00892598630696596, 0.5623371373388554, 0.26777958920897876, 0.00892598630696596, 0.8796588616220687, 0.8331604192359973, 0.08091246477388714, 0.6472997181910971, 0.08091246477388714, 0.08091246477388714, 0.556855681624635, 0.8899855593920021, 0.8331651910621506, 0.8939705309848848, 0.699916721457924, 0.116652786909654, 0.116652786909654, 0.7432714743174159, 0.7023147484129664, 0.7327400364313023, 0.7432700298973618, 0.7461883855419263, 0.12436473092365438, 0.8069109615597804, 0.7432733563418767, 0.013846025924844317, 0.013846025924844317, 0.20769038887266475, 0.013846025924844317, 0.6230711666179942, 0.013846025924844317, 0.11076820739875454, 0.013846025924844317, 0.7356758175167748, 0.14713516350335495, 0.8216086356766058, 0.11737266223951512, 0.0818651661975501, 0.0818651661975501, 0.736786495777951, 0.018369689345729634, 0.11021813607437782, 0.05510906803718891, 0.29391502953167414, 0.09184844672864817, 0.3306544082231334, 0.07347875738291854, 0.036357778348265785, 0.07271555669653157, 0.05453666752239867, 0.018178889174132892, 0.23632555926372759, 0.018178889174132892, 0.036357778348265785, 0.12725222421893023, 0.4181144510050565, 0.7536045745680631, 0.792069743076401, 0.9232256143571131, 0.7617817422313868, 0.10882596317591241, 0.34062239006264966, 0.5109335850939745, 0.08515559751566242, 0.877535005527764, 0.09447300382145579, 0.472365019107279, 0.37789201528582317, 0.047236501910727896, 0.047236501910727896, 0.8578794249456027, 0.017791280350261538, 0.017791280350261538, 0.32024304630470773, 0.24907792490366154, 0.10674768210156924, 0.12453896245183077, 0.0889564017513077, 0.0889564017513077, 0.6905576866497258, 0.09865109809281797, 0.09865109809281797, 0.8069066743024987, 0.3279850518816472, 0.42638056744614145, 0.032798505188164725, 0.1311940207526589, 0.06559701037632945, 0.0881055442801376, 0.0881055442801376, 0.7048443542411008, 0.0881055442801376, 0.8273846068120158, 0.21191638955905268, 0.21191638955905268, 0.635749168677158, 0.5170712717102591, 0.08617854528504318, 0.3447141811401727, 0.028726181761681062, 0.8722472070119313, 0.09914959132394653, 0.654387302738047, 0.019829918264789304, 0.019829918264789304, 0.03965983652957861, 0.15863934611831443, 0.14635275538890505, 0.17562330646668606, 0.2927055107778101, 0.02927055107778101, 0.32197606185559113, 0.8069092466909518, 0.8850321240500978, 0.08850321240500977, 0.9232239299305931, 0.806917553933091, 0.3322326801817894, 0.1661163400908947, 0.3322326801817894, 0.11074422672726314, 0.09089822278365844, 0.13634733417548767, 0.09089822278365844, 0.3635928911346338, 0.27269466835097533, 0.04544911139182922, 0.1795142388355831, 0.287222782136933, 0.03590284776711662, 0.07180569553423324, 0.07180569553423324, 0.287222782136933, 0.03590284776711662, 0.03590284776711662, 0.48816133339953527, 0.06973733334279075, 0.0557898666742326, 0.01394746666855815, 0.0278949333371163, 0.06973733334279075, 0.0278949333371163, 0.1952645333598141, 0.04184240000567445, 0.01394746666855815, 0.6746970112864512, 0.810011286336516, 0.15738597425915574, 0.15738597425915574, 0.07869298712957787, 0.5508509099070451, 0.17904340526763302, 0.08952170263381651, 0.08952170263381651, 0.5371302158028991, 0.8331641195146705, 0.5585259057219663, 0.0446820724577573, 0.02234103622887865, 0.0446820724577573, 0.15638725360215056, 0.15638725360215056, 0.02234103622887865, 0.11029451944871062, 0.11029451944871062, 0.5514725972435531, 0.11029451944871062, 0.04155828987841234, 0.02077914493920617, 0.02077914493920617, 0.27012888420968023, 0.4155828987841234, 0.14545401457444318, 0.04155828987841234, 0.02077914493920617, 0.864381546195806, 0.8022573680331158, 0.13370956133885262, 0.18553363257635014, 0.24737817676846685, 0.10822795233620425, 0.2937615849125544, 0.030922272096058356, 0.06184454419211671, 0.015461136048029178, 0.046383408144087535, 0.2694671552525977, 0.03170201826501149, 0.06340403653002298, 0.09510605479503448, 0.19021210959006896, 0.12680807306004596, 0.07925504566252872, 0.03170201826501149, 0.07925504566252872, 0.04755302739751724, 0.4982252129511266, 0.16607507098370886, 0.16607507098370886, 0.08324810981688067, 0.9157292079856874, 0.6639097060152535, 0.28453273114939437, 0.0970775122658974, 0.03065605650502023, 0.010218685501673411, 0.12262422602008093, 0.11751488326924422, 0.010218685501673411, 0.29123253679769223, 0.010218685501673411, 0.10218685501673411, 0.1941550245317948, 0.7227302147795907, 0.7920709303951543, 0.7959870578584394, 0.7920718256745278, 0.06710120095254161, 0.4697084066677913, 0.06710120095254161, 0.40260720571524966, 0.7920702535652556, 0.5765503267855209, 0.05363258853818799, 0.147489618480017, 0.013408147134546997, 0.013408147134546997, 0.147489618480017, 0.013408147134546997, 0.040224441403640995, 0.7920709742895985, 0.8051209050449963, 0.826224544815192, 0.020826796513226848, 0.020826796513226848, 0.041653593026453696, 0.041653593026453696, 0.18744116861904161, 0.14578757559258793, 0.5623235058571249, 0.9736824348781593, 0.06535908030994274, 0.71894988340937, 0.13071816061988548, 0.06535908030994274, 0.8069154811195091, 0.18843898158061254, 0.4648161545655109, 0.02512519754408167, 0.06281299386020418, 0.10050079017632668, 0.07537559263224501, 0.08793819140428585, 0.03198080716242816, 0.03198080716242816, 0.03198080716242816, 0.3517888787867098, 0.03198080716242816, 0.5116929145988506, 0.806912022886628, 0.8015384061564154, 0.8069142380379786, 0.9232210550576657, 0.1297323164838392, 0.1297323164838392, 0.6486615824191959, 0.045536694750477155, 0.045536694750477155, 0.045536694750477155, 0.045536694750477155, 0.8196605055085888, 0.045536694750477155, 0.8559009873460913, 0.7678332309735126, 0.15356664619470253, 0.8331627837480126, 0.5326568997257657, 0.07609384281796654, 0.30437537127186615, 0.8643801584166175, 0.34180603944330074, 0.27344483155464056, 0.20508362366598043, 0.03418060394433007, 0.13672241577732028, 0.6553043028136717, 0.7009556369428037, 0.6861707102566434, 0.11436178504277392, 0.8069115694758264, 0.15948683456701646, 0.7974341728350822, 0.02434116780588099, 0.04868233561176198, 0.04868233561176198, 0.2434116780588099, 0.2434116780588099, 0.3651175170882148, 0.04868233561176198, 0.8051203814803066, 0.11607349665372294, 0.8125144765760606, 0.731512453386969, 0.8643817322071118, 0.8051196809965885, 0.8899779217634577, 0.5160433322866798, 0.4128346658293438, 0.8317494855052393, 0.3774055079765644, 0.20585754980539878, 0.034309591634233125, 0.06861918326846625, 0.20585754980539878, 0.06861918326846625, 0.034309591634233125, 0.8051194031018751, 0.833160565584524, 0.15219197750195773, 0.15219197750195773, 0.6087679100078309, 0.8503788646669689, 0.8051186457079558, 0.5635497598721735, 0.4226623199041301, 0.8331629878200685, 0.8207137568624938, 0.8051283489012628, 0.7432718007981465, 0.6561094944035142, 0.05297205827598931, 0.15891617482796794, 0.15891617482796794, 0.05297205827598931, 0.05297205827598931, 0.4237764662079145, 0.05297205827598931, 0.05297205827598931, 0.1374184465143877, 0.6870922325719384, 0.10703826892963794, 0.21407653785927588, 0.23191624934754887, 0.03567942297654598, 0.05351913446481897, 0.1962368263710029, 0.10703826892963794, 0.01783971148827299, 0.03567942297654598, 0.8331623112362029, 0.8184136515343207, 0.9232263411410623, 0.18692107450562911, 0.5607632235168873, 0.09346053725281456, 0.5496998631878446, 0.2748499315939223, 0.06871248289848057, 0.8331573483647693, 0.8643821810054002, 0.7611683502227476, 0.15223367004454952, 0.5098565414687353, 0.8069176420940869, 0.5595720866978116, 0.0399694347641294, 0.19984717382064698, 0.19984717382064698, 0.6146096698085355, 0.15365241745213387, 0.7920714646282614, 0.5316950983064026, 0.07595644261520038, 0.3038257704608015, 0.8643815069684682, 0.0882937195509633, 0.7946434759586697, 0.0966387027205796, 0.0966387027205796, 0.008785336610961782, 0.18449206883019742, 0.5183348600467451, 0.07906802949865605, 0.008785336610961782, 0.04112004667717147, 0.12336014003151441, 0.616800700157572, 0.08224009335434294, 0.04112004667717147, 0.08224009335434294, 0.04112004667717147, 0.5568556098243707, 0.9232225246312223, 0.8051197540564318, 0.19087999641031148, 0.21814856732607024, 0.05453714183151756, 0.16361142549455268, 0.21814856732607024, 0.10907428366303512, 0.02726857091575878, 0.8643813528580561, 0.073330449718937, 0.586643597751496, 0.073330449718937, 0.073330449718937, 0.146660899437874, 0.04418251787600667, 0.53019021451208, 0.39764266088406003, 0.8069079451547306, 0.5202823440021447, 0.28904574666785815, 0.057809149333571626, 0.057809149333571626, 0.8069135699852588, 0.5963218618785743, 0.01656449616329373, 0.11595147314305611, 0.08282248081646865, 0.06625798465317492, 0.11595147314305611, 0.89397011478907, 0.09245782344980653, 0.030819274483268846, 0.06163854896653769, 0.06163854896653769, 0.12327709793307538, 0.09245782344980653, 0.06163854896653769, 0.030819274483268846, 0.46228911724903266, 0.030819274483268846, 0.2819458159038317, 0.5638916318076634, 0.12630664963248237, 0.12630664963248237, 0.6315332481624119, 0.03321601651994034, 0.09964804955982103, 0.8304004129985086, 0.03321601651994034, 0.1506282189488187, 0.7230154509543298, 0.03012564378976374, 0.03012564378976374, 0.03012564378976374, 0.7300349228649018, 0.8331637874421749, 0.7533025166638044, 0.8170439745976641, 0.29577870060588474, 0.44366805090882705, 0.14788935030294237, 0.023504574795864326, 0.2820548975503719, 0.6581280942842012, 0.37124364502498064, 0.4949915266999742, 0.0926206017192957, 0.7409648137543656, 0.0926206017192957, 0.0926206017192957, 0.8069113011507161, 0.6710197089507279, 0.185108885227787, 0.1041237479406302, 0.011569305326736688, 0.011569305326736688, 0.011569305326736688, 0.14618087181103812, 0.14618087181103812, 0.5847234872441525, 0.8526280448210176, 0.14041600381743324, 0.42124801145229973, 0.14041600381743324, 0.04680533460581108, 0.04680533460581108, 0.09361066921162216, 0.7456374468719209, 0.8069094183799581, 0.864381379708952, 0.5003293544527961, 0.9054663643612166, 0.12924234390913017, 0.7754540634547811, 0.6435991374617851, 0.25743965498471405, 0.8643815253856733, 0.389876999349421, 0.043319666594380114, 0.5198359991325614, 0.043319666594380114, 0.22224620169405518, 0.4000431630492993, 0.3555939227104883, 0.3216879275593377, 0.10722930918644591, 0.03574310306214864, 0.03574310306214864, 0.3216879275593377, 0.03574310306214864, 0.10722930918644591, 0.8331597696804491, 0.9305381082436103, 0.31948666467698544, 0.07987166616924636, 0.5591016631847245, 0.16745529898697836, 0.5023658969609351, 0.08372764949348918, 0.08372764949348918, 0.06946146097852483, 0.10103485233239977, 0.11366420887394973, 0.23364309601867445, 0.08209081752007481, 0.23995777428944945, 0.03788806962464991, 0.08209081752007481, 0.025258713083099942, 0.012629356541549971, 0.11207580844604152, 0.06724548506762491, 0.33622742533812455, 0.022415161689208304, 0.42588807209495777, 0.022415161689208304, 0.028331792981594488, 0.1699907578895669, 0.5949676526134843, 0.056663585963188975, 0.028331792981594488, 0.056663585963188975, 0.028331792981594488, 0.028331792981594488, 0.36164797607439336, 0.54247196411159, 0.40685900139456194, 0.2712393342630413, 0.18082622284202754, 0.045206555710506885, 0.045206555710506885, 0.045206555710506885, 0.2792151764703353, 0.09307172549011176, 0.5584303529406706, 0.022699788228171897, 0.04539957645634379, 0.13619872936903138, 0.13619872936903138, 0.27239745873806276, 0.226997882281719, 0.022699788228171897, 0.1134989411408595, 0.04539957645634379, 0.8881522666458612, 0.8086305663388235, 0.141837553536235, 0.28367510707247, 0.49643143737682255, 0.8385992942550551, 0.8331628284611239, 0.7432724523149186, 0.8331605134946509, 0.5794330032520649, 0.040425558366423135, 0.13475186122141045, 0.013475186122141044, 0.013475186122141044, 0.16170223346569254, 0.013475186122141044, 0.040425558366423135, 0.10861112174367302, 0.33585900723812734, 0.05012821003554139, 0.03341880669036093, 0.11028206207819106, 0.04845726970102335, 0.0969145394020467, 0.12532052508885347, 0.06683761338072186, 0.02339316468325265, 0.6373625154187816, 0.3186812577093908, 0.5584314582815725, 0.23932776783495965, 0.19943980652913304, 0.35628261951721324, 0.5344239292758198, 0.9305407951819861, 0.864382412596048, 0.249392791320974, 0.07481783739629219, 0.012469639566048699, 0.0623481978302435, 0.1122267560944383, 0.29927134958516877, 0.049878558264194794, 0.09975711652838959, 0.037408918698146096, 0.012469639566048699, 0.8069059794571874, 0.6557279649451221, 0.16393199123628052, 0.09822494639001662, 0.09822494639001662, 0.6875746247301163, 0.18463664307199124, 0.7385465722879649, 0.031455900616630825, 0.09436770184989246, 0.031455900616630825, 0.031455900616630825, 0.031455900616630825, 0.5032944098660932, 0.18873540369978492, 0.031455900616630825, 0.031455900616630825, 0.16638897430960814, 0.06655558972384325, 0.02218519657461442, 0.19966676917152976, 0.01109259828730721, 0.4437039314922884, 0.07764818801115046, 0.6198151949786483, 0.833154328146163, 0.07828689558332037, 0.15657379116664075, 0.03914344779166019, 0.03914344779166019, 0.39143447791660185, 0.03914344779166019, 0.2348606867499611, 0.2819461342168775, 0.563892268433755, 0.1233605392041289, 0.7401632352247735, 0.17764907418228745, 0.7105962967291498, 0.4191072241220379, 0.07806720430945048, 0.3122688172378019, 0.15613440861890096, 0.026022401436483496, 0.15613440861890096, 0.26022401436483494, 0.3276255844889852, 0.19111492428524138, 0.2730213204074877, 0.02730213204074877, 0.02730213204074877, 0.1638127922444926, 0.5022151799801654, 0.40177214398413236, 0.12789108502307683, 0.767346510138461, 0.11763386298699686, 0.3529015889609906, 0.11763386298699686, 0.3529015889609906, 0.06775343415545962, 0.06775343415545962, 0.06775343415545962, 0.3387671707772981, 0.40652060493275777, 0.3959330741131148, 0.527910765484153, 0.27581549912563197, 0.0827446497376896, 0.0275815499125632, 0.13790774956281598, 0.1103261996502528, 0.27581549912563197, 0.0275815499125632, 0.0275815499125632, 0.9462266368683249, 0.864381759433889, 0.8331553925125037, 0.04073585729578451, 0.8554530032114747, 0.04073585729578451, 0.8643816098032894, 0.9305373596667522, 0.7432733583517777, 0.8069089424335508, 0.854450319705234, 0.8331635010207434, 0.5003294189139585, 0.8331601456612665, 0.4694667460714494, 0.1564889153571498, 0.18778669842857976, 0.1564889153571498, 0.5807521745699444, 0.04839601454749537, 0.04839601454749537, 0.04839601454749537, 0.24198007273747685, 0.11038417019446094, 0.01839736169907682, 0.4231393190787669, 0.03679472339815364, 0.07358944679630729, 0.11038417019446094, 0.01839736169907682, 0.07358944679630729, 0.11038417019446094, 0.930547969694048, 0.6470782359924516, 0.3235391179962258, 0.8643820613709863, 0.833158676729579, 0.012130729674896505, 0.07278437804937903, 0.15769948577365456, 0.09704583739917204, 0.07278437804937903, 0.2911375121975161, 0.2183531341481371, 0.012130729674896505, 0.012130729674896505, 0.07278437804937903, 0.7920724298418323, 0.8643823315678152, 0.7219236314319479, 0.120320605238658, 0.7100642298939797, 0.02964118495813941, 0.2964118495813941, 0.014820592479069705, 0.014820592479069705, 0.3408736270186032, 0.19266770222790616, 0.014820592479069705, 0.08892355487441823, 0.42129080652140943, 0.08425816130428189, 0.5055489678256914, 0.12188981121360848, 0.12188981121360848, 0.7313388672816509, 0.1331765606896149, 0.1331765606896149, 0.7990593641376894, 0.8331600735176214, 0.027827031114274713, 0.16696218668564827, 0.11130812445709885, 0.027827031114274713, 0.05565406222854943, 0.27827031114274714, 0.13913515557137357, 0.194789217799923, 0.7432701837375761, 0.19760788084255917, 0.28366292572560914, 0.14342507480508326, 0.025497791076459247, 0.003187223884557406, 0.012748895538229624, 0.08286782099849256, 0.03824668661468887, 0.07011892546026294, 0.14023785092052587, 0.33742630848734245, 0.6073673552772164, 0.8069122215200704, 0.923249035887371, 0.028906411024293824, 0.2312512881943506, 0.014453205512146912, 0.21679808268220369, 0.10117243858502839, 0.2457044937064975, 0.1156256440971753, 0.043359616536440736, 0.8331645512529796, 0.4039813031735282, 0.4847775638082339, 0.11729253754917866, 0.15639005006557155, 0.03909751251639289, 0.15639005006557155, 0.23458507509835733, 0.27368258761475023, 0.7220971004393472, 0.1203495167398912, 0.1203495167398912, 0.07178823652937105, 0.05583529507839971, 0.39882353627428363, 0.0877411779803424, 0.03988235362742836, 0.015952941450971345, 0.18345882668617047, 0.07178823652937105, 0.06381176580388538, 0.02392941217645702, 0.8939714559782704, 0.8331624606740937, 0.12534694632951868, 0.06267347316475934, 0.07834184145594916, 0.2976989975326068, 0.0470051048735695, 0.015668368291189835, 0.17235205120308816, 0.10967857803832884, 0.0470051048735695, 0.0470051048735695, 0.3789054699269013, 0.11264757214043011, 0.1638510140224438, 0.15361032564604107, 0.010240688376402738, 0.05120344188201369, 0.020481376752805477, 0.06144413025841643, 0.04096275350561095, 0.8051233848957505, 0.06684692580459917, 0.20054077741379753, 0.06684692580459917, 0.6016223322413925, 0.06684692580459917, 0.8069199841216926, 0.8051189729734815], \"Term\": [\"abap\", \"accounting\", \"accounting\", \"accounting\", \"accounting\", \"accounting\", \"accounting\", \"acf\", \"active\", \"ad\", \"ad\", \"ad\", \"ad\", \"addicted\", \"administration\", \"administration\", \"administration\", \"administration\", \"administration\", \"administrative\", \"adobe\", \"adobe\", \"adobe\", \"adobe\", \"adobe\", \"adobe\", \"adobe\", \"affiliate\", \"africa\", \"ai\", \"ai\", \"ai\", \"airtable\", \"allocation\", \"almost\", \"amazon\", \"amazon\", \"amazon\", \"amazon\", \"amazon\", \"amazon\", \"amazon\", \"analyser\", \"analyst\", \"analyst\", \"analyst\", \"analyst\", \"analyst\", \"analyst\", \"analyst\", \"analyst\", \"analyst\", \"analytics\", \"analytics\", \"analytics\", \"analytics\", \"analytics\", \"analytics\", \"android\", \"android\", \"android\", \"android\", \"android\", \"android\", \"android\", \"angular\", \"animation\", \"animation\", \"animation\", \"animation\", \"animation\", \"animation\", \"animation\", \"animation\", \"animation\", \"antispam\", \"antivirus\", \"api\", \"api\", \"api\", \"app\", \"app\", \"app\", \"app\", \"app\", \"app\", \"app\", \"app\", \"appilication\", \"application\", \"application\", \"application\", \"application\", \"application\", \"application\", \"application\", \"application\", \"application\", \"applications\", \"applications\", \"applications\", \"applications\", \"applications\", \"apps\", \"apps\", \"apps\", \"apps\", \"apps\", \"architect\", \"architect\", \"architect\", \"architect\", \"architect\", \"architecture\", \"architecture\", \"arduino\", \"art\", \"art\", \"art\", \"art\", \"art\", \"art\", \"article\", \"article\", \"article\", \"article\", \"article\", \"article\", \"article\", \"articles\", \"artwork\", \"artwork\", \"artwork\", \"artwork\", \"ask\", \"asp\", \"asp\", \"assessments\", \"assist\", \"associate\", \"associate\", \"associate\", \"associate\", \"associate\", \"associate\", \"associate\", \"asterisk\", \"authority\", \"authority\", \"automation\", \"automation\", \"automation\", \"automation\", \"automation\", \"azure\", \"based\", \"based\", \"based\", \"based\", \"based\", \"based\", \"basketball\", \"beauty\", \"best\", \"bi\", \"bi\", \"bigcommerce\", \"bigcommerce\", \"bitcoin\", \"blockchain\", \"blogging\", \"book\", \"book\", \"book\", \"bookkeeper\", \"bookkeeper\", \"bot\", \"bpo\", \"brand\", \"brand\", \"brand\", \"brand\", \"brand\", \"brand\", \"brand\", \"brand\", \"brand\", \"brand\", \"brands\", \"broadband\", \"brochure\", \"brochure\", \"brochure\", \"brochure\", \"brochure\", \"brochure\", \"bsn\", \"bubble\", \"budget\", \"building\", \"building\", \"building\", \"building\", \"building\", \"building\", \"building\", \"bulk\", \"business\", \"business\", \"business\", \"business\", \"business\", \"business\", \"business\", \"business\", \"business\", \"buyer\", \"call\", \"call\", \"caller\", \"cartoon\", \"cartoon\", \"cartoon\", \"cartoon\", \"cartoon\", \"center\", \"center\", \"center\", \"central\", \"childrens\", \"civil\", \"coach\", \"coach\", \"coder\", \"coder\", \"coding\", \"color\", \"color\", \"color\", \"color\", \"color\", \"color\", \"comics\", \"comics\", \"comics\", \"comics\", \"commerce\", \"commerce\", \"commerce\", \"commerce\", \"commerce\", \"commerce\", \"communication\", \"communication\", \"communication\", \"communication\", \"community\", \"community\", \"community\", \"community\", \"community\", \"community\", \"complete\", \"complete\", \"complete\", \"computer\", \"computer\", \"computer\", \"computer\", \"console\", \"consultancy\", \"consultant\", \"consultant\", \"consultant\", \"consultant\", \"consultant\", \"consultant\", \"consultant\", \"consultant\", \"consultant\", \"consultant\", \"content\", \"content\", \"content\", \"content\", \"content\", \"content\", \"content\", \"content\", \"content\", \"contract\", \"contract\", \"convert\", \"copywriting\", \"copywriting\", \"copywriting\", \"copywriting\", \"core\", \"correction\", \"correction\", \"correction\", \"correction\", \"correction\", \"correction\", \"cpso\", \"creativity\", \"credit\", \"credit\", \"credit\", \"criativos\", \"crm\", \"crm\", \"crm\", \"crm\", \"crm\", \"crm\", \"csr\", \"custom\", \"custom\", \"custom\", \"custom\", \"custom\", \"custom\", \"custom\", \"custom\", \"customer\", \"customer\", \"customer\", \"customer\", \"customer\", \"customer\", \"customize\", \"dart\", \"dart\", \"dart\", \"dart\", \"dashboard\", \"data\", \"data\", \"data\", \"data\", \"data\", \"data\", \"data\", \"data\", \"data\", \"database\", \"database\", \"database\", \"database\", \"database\", \"database\", \"deal\", \"description\", \"description\", \"design\", \"design\", \"design\", \"design\", \"design\", \"design\", \"design\", \"design\", \"design\", \"design\", \"designed\", \"designer\", \"designer\", \"designer\", \"designer\", \"designer\", \"designer\", \"designer\", \"designer\", \"designer\", \"designer\", \"desk\", \"desktop\", \"desktop\", \"desktop\", \"desktop\", \"dev\", \"dev\", \"develop\", \"develop\", \"develop\", \"develop\", \"develop\", \"develop\", \"develop\", \"developer\", \"developer\", \"developer\", \"developer\", \"developer\", \"developer\", \"developer\", \"developer\", \"developer\", \"developer\", \"development\", \"development\", \"development\", \"development\", \"development\", \"development\", \"development\", \"development\", \"development\", \"development\", \"devlopment\", \"devolpment\", \"devops\", \"devops\", \"diagram\", \"digital\", \"digital\", \"digital\", \"digital\", \"digital\", \"digital\", \"digital\", \"digital\", \"digital\", \"director\", \"director\", \"director\", \"director\", \"director\", \"director\", \"director\", \"director\", \"director\", \"diseno\", \"distinguished\", \"django\", \"django\", \"documentation\", \"drafting\", \"dutch\", \"dw\", \"dynamics\", \"dynamics\", \"ea\", \"earning\", \"easily\", \"ebook\", \"ec\", \"ec\", \"ec\", \"editing\", \"editing\", \"editing\", \"editing\", \"editing\", \"editing\", \"editing\", \"editing\", \"editing\", \"editor\", \"editor\", \"editor\", \"editor\", \"editor\", \"editor\", \"editor\", \"editor\", \"editor\", \"editor\", \"effects\", \"effects\", \"elearning\", \"elements\", \"email\", \"email\", \"email\", \"email\", \"email\", \"email\", \"email\", \"end\", \"end\", \"end\", \"end\", \"end\", \"end\", \"end\", \"end\", \"engine\", \"engine\", \"engineer\", \"engineer\", \"engineer\", \"engineer\", \"engineer\", \"engineer\", \"engineer\", \"engineer\", \"engineer\", \"engineer\", \"engineering\", \"engineering\", \"engineering\", \"engineering\", \"engineering\", \"engineering\", \"english\", \"english\", \"english\", \"english\", \"english\", \"english\", \"english\", \"english\", \"english\", \"entry\", \"entry\", \"entry\", \"entry\", \"entry\", \"entry\", \"entry\", \"entry\", \"erp\", \"erp\", \"erp\", \"erp\", \"erpnext\", \"escrita\", \"esignal\", \"evening\", \"every\", \"everyday\", \"everything\", \"ex\", \"excel\", \"excel\", \"excel\", \"excel\", \"excel\", \"excel\", \"excel\", \"excel\", \"excel\", \"expect\", \"experience\", \"experience\", \"experience\", \"experience\", \"experienced\", \"experienced\", \"experienced\", \"experienced\", \"experienced\", \"expert\", \"expert\", \"expert\", \"expert\", \"expert\", \"expert\", \"expert\", \"expert\", \"expert\", \"expert\", \"experts\", \"experts\", \"facebook\", \"facebook\", \"facebook\", \"facebook\", \"facebook\", \"facebook\", \"finance\", \"finance\", \"finance\", \"finance\", \"finance\", \"fixes\", \"flash\", \"flask\", \"flow\", \"flow\", \"flyer\", \"flyer\", \"freelance\", \"freelance\", \"freelance\", \"freelancer\", \"freelancer\", \"freelancer\", \"fresh\", \"front\", \"front\", \"front\", \"front\", \"front\", \"frontend\", \"frontend\", \"frontend\", \"fuel\", \"full\", \"full\", \"full\", \"full\", \"full\", \"full\", \"full\", \"full\", \"generation\", \"generation\", \"generation\", \"generation\", \"generation\", \"generation\", \"generation\", \"genius\", \"gideon\", \"google\", \"google\", \"google\", \"google\", \"google\", \"google\", \"google\", \"google\", \"graduate\", \"grant\", \"graphic\", \"graphic\", \"graphic\", \"graphic\", \"graphic\", \"graphic\", \"graphic\", \"graphic\", \"graphic\", \"graphic\", \"graphics\", \"graphics\", \"graphics\", \"graphics\", \"graphics\", \"graphics\", \"graphics\", \"graphics\", \"great\", \"gts\", \"guest\", \"guest\", \"guest\", \"guest\", \"gurus\", \"hands\", \"healthcare\", \"heavy\", \"high\", \"high\", \"high\", \"highly\", \"hire\", \"home\", \"house\", \"hr\", \"hr\", \"hrm\", \"hrs\", \"html\", \"html\", \"html\", \"html\", \"html\", \"html\", \"html\", \"html\", \"human\", \"human\", \"icon\", \"icon\", \"illustration\", \"illustration\", \"illustration\", \"illustrator\", \"illustrator\", \"illustrator\", \"illustrator\", \"illustrator\", \"illustrator\", \"illustrator\", \"image\", \"image\", \"image\", \"image\", \"image\", \"image\", \"image\", \"image\", \"image\", \"implementation\", \"ind\", \"independent\", \"information\", \"information\", \"interior\", \"interior\", \"interior\", \"intern\", \"internet\", \"internet\", \"internet\", \"internet\", \"internet\", \"io\", \"ios\", \"ios\", \"ios\", \"ios\", \"ios\", \"ios\", \"ios\", \"ios\", \"japanese\", \"japanese\", \"japanese\", \"jasper\", \"java\", \"java\", \"java\", \"java\", \"java\", \"javascript\", \"javascript\", \"javascript\", \"javascript\", \"jobs\", \"joomla\", \"joomla\", \"joomla\", \"jquery\", \"jquery\", \"jquery\", \"jquery\", \"jr\", \"js\", \"js\", \"js\", \"js\", \"js\", \"js\", \"junior\", \"junior\", \"junior\", \"junior\", \"junior\", \"key\", \"keyword\", \"keyword\", \"kind\", \"lahore\", \"landing\", \"landing\", \"landing\", \"landing\", \"language\", \"language\", \"language\", \"language\", \"language\", \"language\", \"laravel\", \"laravel\", \"laravel\", \"laravel\", \"laravel\", \"laravel\", \"laravel\", \"laravel\", \"lead\", \"lead\", \"lead\", \"lead\", \"lead\", \"lead\", \"lead\", \"lead\", \"lead\", \"lead\", \"leader\", \"leaflet\", \"learning\", \"learning\", \"learning\", \"learning\", \"legal\", \"legal\", \"legal\", \"legal\", \"licensed\", \"link\", \"link\", \"link\", \"link\", \"link\", \"link\", \"link\", \"linkedin\", \"linkedin\", \"linkedin\", \"linkedin\", \"logo\", \"logo\", \"logo\", \"logo\", \"logo\", \"logo\", \"logo\", \"logo\", \"maintainable\", \"making\", \"making\", \"management\", \"management\", \"management\", \"management\", \"management\", \"management\", \"management\", \"management\", \"manager\", \"manager\", \"manager\", \"manager\", \"manager\", \"manager\", \"manager\", \"manager\", \"manager\", \"manager\", \"manipulation\", \"manipulation\", \"manipulation\", \"manual\", \"manual\", \"market\", \"market\", \"marketing\", \"marketing\", \"marketing\", \"marketing\", \"marketing\", \"marketing\", \"marketing\", \"marketing\", \"marketing\", \"marketing\", \"markets\", \"matlab\", \"mba\", \"mckinsey\", \"mechanical\", \"mechanical\", \"mechanical\", \"mechanical\", \"mechatronics\", \"media\", \"media\", \"media\", \"media\", \"media\", \"media\", \"media\", \"media\", \"meng\", \"mensah\", \"mern\", \"microsoft\", \"microsoft\", \"microsoft\", \"microsoft\", \"microsoft\", \"microsoft\", \"microsoft\", \"miner\", \"mining\", \"mining\", \"mining\", \"mining\", \"ml\", \"mobile\", \"mobile\", \"mobile\", \"mobile\", \"mobile\", \"mobile\", \"mobile\", \"modeling\", \"modeling\", \"modeling\", \"modeling\", \"modeling\", \"modeling\", \"modeller\", \"modelling\", \"modern\", \"money\", \"moodle\", \"moodle\", \"moodle\", \"motion\", \"motion\", \"motion\", \"motion\", \"motion\", \"motion\", \"mql\", \"mvc\", \"mvc\", \"mvvm\", \"mysql\", \"mysql\", \"mysql\", \"mystic\", \"net\", \"net\", \"net\", \"net\", \"net\", \"next\", \"nft\", \"node\", \"node\", \"offering\", \"one\", \"one\", \"online\", \"online\", \"online\", \"online\", \"online\", \"online\", \"online\", \"operation\", \"oracle\", \"oracle\", \"orchestration\", \"ou\", \"outsourcing\", \"outstanding\", \"owner\", \"owner\", \"package\", \"page\", \"page\", \"page\", \"page\", \"page\", \"page\", \"page\", \"paginas\", \"panda\", \"partnership\", \"partnership\", \"partnership\", \"passionate\", \"pc\", \"pdf\", \"pdf\", \"penguin\", \"perfect\", \"perfection\", \"perfectly\", \"ph\", \"photo\", \"photo\", \"photo\", \"photo\", \"photo\", \"photo\", \"photo\", \"photo\", \"photography\", \"photography\", \"php\", \"php\", \"php\", \"php\", \"php\", \"php\", \"php\", \"php\", \"php\", \"pinescript\", \"pixel\", \"plains\", \"planning\", \"planning\", \"planning\", \"platform\", \"platform\", \"platform\", \"please\", \"plsql\", \"plus\", \"plus\", \"podcast\", \"portal\", \"pos\", \"pos\", \"pos\", \"pos\", \"posting\", \"posting\", \"posts\", \"power\", \"power\", \"power\", \"powerapps\", \"print\", \"print\", \"product\", \"product\", \"product\", \"product\", \"product\", \"product\", \"product\", \"professional\", \"professional\", \"professional\", \"professional\", \"professional\", \"professional\", \"professional\", \"professionals\", \"profitable\", \"programacion\", \"programming\", \"programming\", \"programming\", \"programming\", \"programming\", \"programming\", \"programming\", \"promotor\", \"proofreader\", \"proofreader\", \"proofreader\", \"proofreader\", \"proofreader\", \"proofreading\", \"proofreading\", \"proofreading\", \"properly\", \"psd\", \"psd\", \"psd\", \"psd\", \"pucit\", \"python\", \"python\", \"python\", \"python\", \"python\", \"python\", \"qlikview\", \"quality\", \"quality\", \"quality\", \"quality\", \"quality\", \"quality\", \"quality\", \"quality\", \"quality\", \"quality\", \"query\", \"query\", \"rails\", \"rails\", \"rails\", \"ranking\", \"ranking\", \"ranking\", \"ranking\", \"react\", \"react\", \"react\", \"react\", \"react\", \"ready\", \"recovery\", \"recruiter\", \"relationship\", \"release\", \"release\", \"release\", \"rendering\", \"rendering\", \"rendering\", \"repair\", \"repair\", \"representative\", \"representative\", \"representative\", \"representative\", \"requirement\", \"research\", \"research\", \"research\", \"research\", \"research\", \"research\", \"resizing\", \"resizing\", \"resizing\", \"resource\", \"responsive\", \"responsive\", \"responsive\", \"responsive\", \"responsive\", \"responsive\", \"reviewer\", \"rf\", \"riva\", \"robot\", \"robotics\", \"russian\", \"russian\", \"saas\", \"saas\", \"sage\", \"sales\", \"sales\", \"sales\", \"sales\", \"sap\", \"sap\", \"sap\", \"scraping\", \"scraping\", \"scraping\", \"scraping\", \"scraping\", \"scraping\", \"scraping\", \"sd\", \"sdlc\", \"search\", \"search\", \"search\", \"security\", \"security\", \"security\", \"security\", \"senior\", \"senior\", \"senior\", \"senior\", \"senior\", \"senior\", \"senior\", \"senior\", \"senior\", \"senior\", \"service\", \"service\", \"service\", \"service\", \"service\", \"service\", \"services\", \"services\", \"services\", \"services\", \"services\", \"services\", \"services\", \"services\", \"sheets\", \"sheets\", \"shift\", \"shift\", \"shift\", \"shift\", \"shift\", \"shift\", \"shop\", \"shop\", \"shop\", \"shopify\", \"shopify\", \"shopify\", \"shopify\", \"shopify\", \"shopify\", \"shopify\", \"shopify\", \"shopify\", \"simplified\", \"site\", \"sketchup\", \"sketchup\", \"sketchup\", \"skills\", \"skip\", \"smaller\", \"sme\", \"social\", \"social\", \"social\", \"social\", \"social\", \"social\", \"social\", \"social\", \"software\", \"software\", \"software\", \"software\", \"software\", \"software\", \"software\", \"software\", \"software\", \"software\", \"solidworks\", \"solidworks\", \"solution\", \"solution\", \"solution\", \"solutions\", \"solutions\", \"south\", \"specialis\", \"specialist\", \"specialist\", \"specialist\", \"specialist\", \"specialist\", \"specialist\", \"specialist\", \"specialist\", \"specialist\", \"specialist\", \"specification\", \"spreadsheets\", \"spreadsheets\", \"sql\", \"sql\", \"sql\", \"sqlserver\", \"sqlserver\", \"sr\", \"sr\", \"sr\", \"sr\", \"sr\", \"sr\", \"sr\", \"sr\", \"sr\", \"stack\", \"stack\", \"stack\", \"stack\", \"stack\", \"stack\", \"stack\", \"stat\", \"storage\", \"strategy\", \"strategy\", \"strategy\", \"strategy\", \"strategy\", \"strategy\", \"strategy\", \"structured\", \"structured\", \"studio\", \"studio\", \"suite\", \"suite\", \"supplies\", \"support\", \"support\", \"support\", \"support\", \"support\", \"support\", \"system\", \"system\", \"system\", \"system\", \"system\", \"system\", \"tableau\", \"tableau\", \"talent\", \"talent\", \"tasks\", \"tasks\", \"tasks\", \"tasks\", \"team\", \"team\", \"team\", \"team\", \"team\", \"tech\", \"tech\", \"technical\", \"technical\", \"technical\", \"technical\", \"technical\", \"technical\", \"technical\", \"technical\", \"telemarketing\", \"tematicos\", \"tender\", \"testing\", \"testing\", \"testing\", \"textos\", \"themes\", \"thing\", \"three\", \"today\", \"tracer\", \"trader\", \"tradingview\", \"trainee\", \"trainee\", \"trainee\", \"trainee\", \"transcription\", \"transcription\", \"transcription\", \"transcription\", \"transcription\", \"translator\", \"translator\", \"translator\", \"translator\", \"translator\", \"translator\", \"translator\", \"translator\", \"translator\", \"troubleshooting\", \"turkish\", \"turkish\", \"tvos\", \"twilio\", \"ui\", \"ui\", \"ui\", \"ui\", \"ui\", \"ui\", \"ui\", \"ui\", \"ui\", \"ui\", \"unqiue\", \"ur\", \"us\", \"us\", \"usability\", \"ux\", \"ux\", \"ux\", \"ux\", \"ux\", \"ux\", \"ux\", \"ux\", \"valuation\", \"valuation\", \"valuation\", \"vba\", \"vba\", \"vba\", \"vfx\", \"vfx\", \"vfx\", \"vicidial\", \"video\", \"video\", \"video\", \"video\", \"video\", \"video\", \"video\", \"video\", \"vision\", \"web\", \"web\", \"web\", \"web\", \"web\", \"web\", \"web\", \"web\", \"web\", \"web\", \"webflow\", \"webflow\", \"webgl\", \"webs\", \"website\", \"website\", \"website\", \"website\", \"website\", \"website\", \"website\", \"website\", \"win\", \"woo\", \"woo\", \"woocommerce\", \"woocommerce\", \"woocommerce\", \"woocommerce\", \"woocommerce\", \"woocommerce\", \"word\", \"word\", \"word\", \"wordpress\", \"wordpress\", \"wordpress\", \"wordpress\", \"wordpress\", \"wordpress\", \"wordpress\", \"wordpress\", \"wordpress\", \"wordpress\", \"workflow\", \"wpf\", \"writer\", \"writer\", \"writer\", \"writer\", \"writer\", \"writer\", \"writer\", \"writer\", \"writer\", \"writer\", \"writing\", \"writing\", \"writing\", \"writing\", \"writing\", \"writing\", \"writing\", \"writing\", \"writing\", \"writter\", \"years\", \"years\", \"years\", \"years\", \"years\", \"yii\", \"zapier\"]}, \"R\": 30, \"lambda.step\": 0.01, \"plot.opts\": {\"xlab\": \"PC1\", \"ylab\": \"PC2\"}, \"topic.order\": [8, 4, 3, 9, 7, 1, 5, 10, 2, 6]};\n",
              "\n",
              "function LDAvis_load_lib(url, callback){\n",
              "  var s = document.createElement('script');\n",
              "  s.src = url;\n",
              "  s.async = true;\n",
              "  s.onreadystatechange = s.onload = callback;\n",
              "  s.onerror = function(){console.warn(\"failed to load library \" + url);};\n",
              "  document.getElementsByTagName(\"head\")[0].appendChild(s);\n",
              "}\n",
              "\n",
              "if(typeof(LDAvis) !== \"undefined\"){\n",
              "   // already loaded: just create the visualization\n",
              "   !function(LDAvis){\n",
              "       new LDAvis(\"#\" + \"ldavis_el1351402005182006723129891062\", ldavis_el1351402005182006723129891062_data);\n",
              "   }(LDAvis);\n",
              "}else if(typeof define === \"function\" && define.amd){\n",
              "   // require.js is available: use it to load d3/LDAvis\n",
              "   require.config({paths: {d3: \"https://d3js.org/d3.v5\"}});\n",
              "   require([\"d3\"], function(d3){\n",
              "      window.d3 = d3;\n",
              "      LDAvis_load_lib(\"https://cdn.jsdelivr.net/gh/bmabey/pyLDAvis@3.4.0/pyLDAvis/js/ldavis.v3.0.0.js\", function(){\n",
              "        new LDAvis(\"#\" + \"ldavis_el1351402005182006723129891062\", ldavis_el1351402005182006723129891062_data);\n",
              "      });\n",
              "    });\n",
              "}else{\n",
              "    // require.js not available: dynamically load d3 & LDAvis\n",
              "    LDAvis_load_lib(\"https://d3js.org/d3.v5.js\", function(){\n",
              "         LDAvis_load_lib(\"https://cdn.jsdelivr.net/gh/bmabey/pyLDAvis@3.4.0/pyLDAvis/js/ldavis.v3.0.0.js\", function(){\n",
              "                 new LDAvis(\"#\" + \"ldavis_el1351402005182006723129891062\", ldavis_el1351402005182006723129891062_data);\n",
              "            })\n",
              "         });\n",
              "}\n",
              "</script>"
            ]
          },
          "metadata": {},
          "execution_count": 50
        }
      ]
    },
    {
      "cell_type": "code",
      "source": [],
      "metadata": {
        "id": "dlmkR0AXwBEb"
      },
      "execution_count": null,
      "outputs": []
    }
  ]
}