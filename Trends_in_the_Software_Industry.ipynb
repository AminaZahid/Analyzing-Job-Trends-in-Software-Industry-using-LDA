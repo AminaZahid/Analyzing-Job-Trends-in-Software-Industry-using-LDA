{
  "nbformat": 4,
  "nbformat_minor": 0,
  "metadata": {
    "colab": {
      "provenance": [],
      "mount_file_id": "1DZHpMLuRh-Pvgt1TZX_X5XdWy2RTQHX6",
      "authorship_tag": "ABX9TyPaCXxeZJQTxD4FhnnBZ5ZD",
      "include_colab_link": true
    },
    "kernelspec": {
      "name": "python3",
      "display_name": "Python 3"
    },
    "language_info": {
      "name": "python"
    }
  },
  "cells": [
    {
      "cell_type": "markdown",
      "metadata": {
        "id": "view-in-github",
        "colab_type": "text"
      },
      "source": [
        "<a href=\"https://colab.research.google.com/github/AminaZahid/Analyzing-Job-Trends-in-Software-Industry-using-LDA/blob/main/Trends_in_the_Software_Industry.ipynb\" target=\"_parent\"><img src=\"https://colab.research.google.com/assets/colab-badge.svg\" alt=\"Open In Colab\"/></a>"
      ]
    },
    {
      "cell_type": "code",
      "execution_count": 2,
      "metadata": {
        "id": "_BRudRTGhtMc"
      },
      "outputs": [],
      "source": [
        "import pandas as pd\n",
        "import numpy as np\n",
        "import os"
      ]
    },
    {
      "cell_type": "code",
      "source": [
        "data1=pd.read_excel('/content/drive/MyDrive/All 10 freelane-webs.xlsx')\n",
        "data1"
      ],
      "metadata": {
        "colab": {
          "base_uri": "https://localhost:8080/",
          "height": 424
        },
        "id": "qirT1rdv-ThU",
        "outputId": "cde4d53f-20f3-4c99-9ba5-b97dd3224645"
      },
      "execution_count": 3,
      "outputs": [
        {
          "output_type": "execute_result",
          "data": {
            "text/plain": [
              "                                      Jobs                   Job Type   Salary\n",
              "0                         Microsoft Office                        NaN  $16/ Hr\n",
              "1                              Logo Design                        NaN     $150\n",
              "2                                    mysql                        NaN     $125\n",
              "3                   iPhone App Development                        NaN     $351\n",
              "4                                 Articles                        NaN       $6\n",
              "...                                    ...                        ...      ...\n",
              "4548     UX/UI Product Designer*in (m/f/d)  Full-time-Remote Friendly      NaN\n",
              "4549                       Senior Designer  Full-time-Remote Friendly      NaN\n",
              "4550  Graphic Designer (Freelance-to-Hire)  Full-time-Remote Friendly      NaN\n",
              "4551    Digital Marketing Graphic Designer  Full-time-Remote Friendly      NaN\n",
              "4552                 Senior UI/UX Designer  Full-time-Remote Friendly      NaN\n",
              "\n",
              "[4553 rows x 3 columns]"
            ],
            "text/html": [
              "\n",
              "  <div id=\"df-3fc123b6-8f95-4f35-a2b0-e831dce3673a\">\n",
              "    <div class=\"colab-df-container\">\n",
              "      <div>\n",
              "<style scoped>\n",
              "    .dataframe tbody tr th:only-of-type {\n",
              "        vertical-align: middle;\n",
              "    }\n",
              "\n",
              "    .dataframe tbody tr th {\n",
              "        vertical-align: top;\n",
              "    }\n",
              "\n",
              "    .dataframe thead th {\n",
              "        text-align: right;\n",
              "    }\n",
              "</style>\n",
              "<table border=\"1\" class=\"dataframe\">\n",
              "  <thead>\n",
              "    <tr style=\"text-align: right;\">\n",
              "      <th></th>\n",
              "      <th>Jobs</th>\n",
              "      <th>Job Type</th>\n",
              "      <th>Salary</th>\n",
              "    </tr>\n",
              "  </thead>\n",
              "  <tbody>\n",
              "    <tr>\n",
              "      <th>0</th>\n",
              "      <td>Microsoft Office</td>\n",
              "      <td>NaN</td>\n",
              "      <td>$16/ Hr</td>\n",
              "    </tr>\n",
              "    <tr>\n",
              "      <th>1</th>\n",
              "      <td>Logo Design</td>\n",
              "      <td>NaN</td>\n",
              "      <td>$150</td>\n",
              "    </tr>\n",
              "    <tr>\n",
              "      <th>2</th>\n",
              "      <td>mysql</td>\n",
              "      <td>NaN</td>\n",
              "      <td>$125</td>\n",
              "    </tr>\n",
              "    <tr>\n",
              "      <th>3</th>\n",
              "      <td>iPhone App Development</td>\n",
              "      <td>NaN</td>\n",
              "      <td>$351</td>\n",
              "    </tr>\n",
              "    <tr>\n",
              "      <th>4</th>\n",
              "      <td>Articles</td>\n",
              "      <td>NaN</td>\n",
              "      <td>$6</td>\n",
              "    </tr>\n",
              "    <tr>\n",
              "      <th>...</th>\n",
              "      <td>...</td>\n",
              "      <td>...</td>\n",
              "      <td>...</td>\n",
              "    </tr>\n",
              "    <tr>\n",
              "      <th>4548</th>\n",
              "      <td>UX/UI Product Designer*in (m/f/d)</td>\n",
              "      <td>Full-time-Remote Friendly</td>\n",
              "      <td>NaN</td>\n",
              "    </tr>\n",
              "    <tr>\n",
              "      <th>4549</th>\n",
              "      <td>Senior Designer</td>\n",
              "      <td>Full-time-Remote Friendly</td>\n",
              "      <td>NaN</td>\n",
              "    </tr>\n",
              "    <tr>\n",
              "      <th>4550</th>\n",
              "      <td>Graphic Designer (Freelance-to-Hire)</td>\n",
              "      <td>Full-time-Remote Friendly</td>\n",
              "      <td>NaN</td>\n",
              "    </tr>\n",
              "    <tr>\n",
              "      <th>4551</th>\n",
              "      <td>Digital Marketing Graphic Designer</td>\n",
              "      <td>Full-time-Remote Friendly</td>\n",
              "      <td>NaN</td>\n",
              "    </tr>\n",
              "    <tr>\n",
              "      <th>4552</th>\n",
              "      <td>Senior UI/UX Designer</td>\n",
              "      <td>Full-time-Remote Friendly</td>\n",
              "      <td>NaN</td>\n",
              "    </tr>\n",
              "  </tbody>\n",
              "</table>\n",
              "<p>4553 rows × 3 columns</p>\n",
              "</div>\n",
              "      <button class=\"colab-df-convert\" onclick=\"convertToInteractive('df-3fc123b6-8f95-4f35-a2b0-e831dce3673a')\"\n",
              "              title=\"Convert this dataframe to an interactive table.\"\n",
              "              style=\"display:none;\">\n",
              "        \n",
              "  <svg xmlns=\"http://www.w3.org/2000/svg\" height=\"24px\"viewBox=\"0 0 24 24\"\n",
              "       width=\"24px\">\n",
              "    <path d=\"M0 0h24v24H0V0z\" fill=\"none\"/>\n",
              "    <path d=\"M18.56 5.44l.94 2.06.94-2.06 2.06-.94-2.06-.94-.94-2.06-.94 2.06-2.06.94zm-11 1L8.5 8.5l.94-2.06 2.06-.94-2.06-.94L8.5 2.5l-.94 2.06-2.06.94zm10 10l.94 2.06.94-2.06 2.06-.94-2.06-.94-.94-2.06-.94 2.06-2.06.94z\"/><path d=\"M17.41 7.96l-1.37-1.37c-.4-.4-.92-.59-1.43-.59-.52 0-1.04.2-1.43.59L10.3 9.45l-7.72 7.72c-.78.78-.78 2.05 0 2.83L4 21.41c.39.39.9.59 1.41.59.51 0 1.02-.2 1.41-.59l7.78-7.78 2.81-2.81c.8-.78.8-2.07 0-2.86zM5.41 20L4 18.59l7.72-7.72 1.47 1.35L5.41 20z\"/>\n",
              "  </svg>\n",
              "      </button>\n",
              "      \n",
              "  <style>\n",
              "    .colab-df-container {\n",
              "      display:flex;\n",
              "      flex-wrap:wrap;\n",
              "      gap: 12px;\n",
              "    }\n",
              "\n",
              "    .colab-df-convert {\n",
              "      background-color: #E8F0FE;\n",
              "      border: none;\n",
              "      border-radius: 50%;\n",
              "      cursor: pointer;\n",
              "      display: none;\n",
              "      fill: #1967D2;\n",
              "      height: 32px;\n",
              "      padding: 0 0 0 0;\n",
              "      width: 32px;\n",
              "    }\n",
              "\n",
              "    .colab-df-convert:hover {\n",
              "      background-color: #E2EBFA;\n",
              "      box-shadow: 0px 1px 2px rgba(60, 64, 67, 0.3), 0px 1px 3px 1px rgba(60, 64, 67, 0.15);\n",
              "      fill: #174EA6;\n",
              "    }\n",
              "\n",
              "    [theme=dark] .colab-df-convert {\n",
              "      background-color: #3B4455;\n",
              "      fill: #D2E3FC;\n",
              "    }\n",
              "\n",
              "    [theme=dark] .colab-df-convert:hover {\n",
              "      background-color: #434B5C;\n",
              "      box-shadow: 0px 1px 3px 1px rgba(0, 0, 0, 0.15);\n",
              "      filter: drop-shadow(0px 1px 2px rgba(0, 0, 0, 0.3));\n",
              "      fill: #FFFFFF;\n",
              "    }\n",
              "  </style>\n",
              "\n",
              "      <script>\n",
              "        const buttonEl =\n",
              "          document.querySelector('#df-3fc123b6-8f95-4f35-a2b0-e831dce3673a button.colab-df-convert');\n",
              "        buttonEl.style.display =\n",
              "          google.colab.kernel.accessAllowed ? 'block' : 'none';\n",
              "\n",
              "        async function convertToInteractive(key) {\n",
              "          const element = document.querySelector('#df-3fc123b6-8f95-4f35-a2b0-e831dce3673a');\n",
              "          const dataTable =\n",
              "            await google.colab.kernel.invokeFunction('convertToInteractive',\n",
              "                                                     [key], {});\n",
              "          if (!dataTable) return;\n",
              "\n",
              "          const docLinkHtml = 'Like what you see? Visit the ' +\n",
              "            '<a target=\"_blank\" href=https://colab.research.google.com/notebooks/data_table.ipynb>data table notebook</a>'\n",
              "            + ' to learn more about interactive tables.';\n",
              "          element.innerHTML = '';\n",
              "          dataTable['output_type'] = 'display_data';\n",
              "          await google.colab.output.renderOutput(dataTable, element);\n",
              "          const docLink = document.createElement('div');\n",
              "          docLink.innerHTML = docLinkHtml;\n",
              "          element.appendChild(docLink);\n",
              "        }\n",
              "      </script>\n",
              "    </div>\n",
              "  </div>\n",
              "  "
            ]
          },
          "metadata": {},
          "execution_count": 3
        }
      ]
    },
    {
      "cell_type": "code",
      "source": [
        "df=data1.copy()"
      ],
      "metadata": {
        "id": "uHXdNQ0KKngI"
      },
      "execution_count": 4,
      "outputs": []
    },
    {
      "cell_type": "code",
      "source": [
        "df.info()"
      ],
      "metadata": {
        "colab": {
          "base_uri": "https://localhost:8080/"
        },
        "id": "JsBIOx1LMXUz",
        "outputId": "3f5f70f0-f120-4117-e72f-66fb6832a6a8"
      },
      "execution_count": 5,
      "outputs": [
        {
          "output_type": "stream",
          "name": "stdout",
          "text": [
            "<class 'pandas.core.frame.DataFrame'>\n",
            "RangeIndex: 4553 entries, 0 to 4552\n",
            "Data columns (total 3 columns):\n",
            " #   Column    Non-Null Count  Dtype \n",
            "---  ------    --------------  ----- \n",
            " 0   Jobs      4547 non-null   object\n",
            " 1   Job Type  1997 non-null   object\n",
            " 2   Salary    768 non-null    object\n",
            "dtypes: object(3)\n",
            "memory usage: 106.8+ KB\n"
          ]
        }
      ]
    },
    {
      "cell_type": "code",
      "source": [
        "df.describe()"
      ],
      "metadata": {
        "colab": {
          "base_uri": "https://localhost:8080/",
          "height": 175
        },
        "id": "pwcu8FX8Me8r",
        "outputId": "a1d5c6cc-b455-4a73-d256-f4655cc8109f"
      },
      "execution_count": 6,
      "outputs": [
        {
          "output_type": "execute_result",
          "data": {
            "text/plain": [
              "                   Jobs   Job Type Salary\n",
              "count              4547       1997    768\n",
              "unique             2309        146    345\n",
              "top     graphics design  Full-Time     $6\n",
              "freq                103        799     31"
            ],
            "text/html": [
              "\n",
              "  <div id=\"df-821fcd37-145a-45bc-9435-b79371ff6862\">\n",
              "    <div class=\"colab-df-container\">\n",
              "      <div>\n",
              "<style scoped>\n",
              "    .dataframe tbody tr th:only-of-type {\n",
              "        vertical-align: middle;\n",
              "    }\n",
              "\n",
              "    .dataframe tbody tr th {\n",
              "        vertical-align: top;\n",
              "    }\n",
              "\n",
              "    .dataframe thead th {\n",
              "        text-align: right;\n",
              "    }\n",
              "</style>\n",
              "<table border=\"1\" class=\"dataframe\">\n",
              "  <thead>\n",
              "    <tr style=\"text-align: right;\">\n",
              "      <th></th>\n",
              "      <th>Jobs</th>\n",
              "      <th>Job Type</th>\n",
              "      <th>Salary</th>\n",
              "    </tr>\n",
              "  </thead>\n",
              "  <tbody>\n",
              "    <tr>\n",
              "      <th>count</th>\n",
              "      <td>4547</td>\n",
              "      <td>1997</td>\n",
              "      <td>768</td>\n",
              "    </tr>\n",
              "    <tr>\n",
              "      <th>unique</th>\n",
              "      <td>2309</td>\n",
              "      <td>146</td>\n",
              "      <td>345</td>\n",
              "    </tr>\n",
              "    <tr>\n",
              "      <th>top</th>\n",
              "      <td>graphics design</td>\n",
              "      <td>Full-Time</td>\n",
              "      <td>$6</td>\n",
              "    </tr>\n",
              "    <tr>\n",
              "      <th>freq</th>\n",
              "      <td>103</td>\n",
              "      <td>799</td>\n",
              "      <td>31</td>\n",
              "    </tr>\n",
              "  </tbody>\n",
              "</table>\n",
              "</div>\n",
              "      <button class=\"colab-df-convert\" onclick=\"convertToInteractive('df-821fcd37-145a-45bc-9435-b79371ff6862')\"\n",
              "              title=\"Convert this dataframe to an interactive table.\"\n",
              "              style=\"display:none;\">\n",
              "        \n",
              "  <svg xmlns=\"http://www.w3.org/2000/svg\" height=\"24px\"viewBox=\"0 0 24 24\"\n",
              "       width=\"24px\">\n",
              "    <path d=\"M0 0h24v24H0V0z\" fill=\"none\"/>\n",
              "    <path d=\"M18.56 5.44l.94 2.06.94-2.06 2.06-.94-2.06-.94-.94-2.06-.94 2.06-2.06.94zm-11 1L8.5 8.5l.94-2.06 2.06-.94-2.06-.94L8.5 2.5l-.94 2.06-2.06.94zm10 10l.94 2.06.94-2.06 2.06-.94-2.06-.94-.94-2.06-.94 2.06-2.06.94z\"/><path d=\"M17.41 7.96l-1.37-1.37c-.4-.4-.92-.59-1.43-.59-.52 0-1.04.2-1.43.59L10.3 9.45l-7.72 7.72c-.78.78-.78 2.05 0 2.83L4 21.41c.39.39.9.59 1.41.59.51 0 1.02-.2 1.41-.59l7.78-7.78 2.81-2.81c.8-.78.8-2.07 0-2.86zM5.41 20L4 18.59l7.72-7.72 1.47 1.35L5.41 20z\"/>\n",
              "  </svg>\n",
              "      </button>\n",
              "      \n",
              "  <style>\n",
              "    .colab-df-container {\n",
              "      display:flex;\n",
              "      flex-wrap:wrap;\n",
              "      gap: 12px;\n",
              "    }\n",
              "\n",
              "    .colab-df-convert {\n",
              "      background-color: #E8F0FE;\n",
              "      border: none;\n",
              "      border-radius: 50%;\n",
              "      cursor: pointer;\n",
              "      display: none;\n",
              "      fill: #1967D2;\n",
              "      height: 32px;\n",
              "      padding: 0 0 0 0;\n",
              "      width: 32px;\n",
              "    }\n",
              "\n",
              "    .colab-df-convert:hover {\n",
              "      background-color: #E2EBFA;\n",
              "      box-shadow: 0px 1px 2px rgba(60, 64, 67, 0.3), 0px 1px 3px 1px rgba(60, 64, 67, 0.15);\n",
              "      fill: #174EA6;\n",
              "    }\n",
              "\n",
              "    [theme=dark] .colab-df-convert {\n",
              "      background-color: #3B4455;\n",
              "      fill: #D2E3FC;\n",
              "    }\n",
              "\n",
              "    [theme=dark] .colab-df-convert:hover {\n",
              "      background-color: #434B5C;\n",
              "      box-shadow: 0px 1px 3px 1px rgba(0, 0, 0, 0.15);\n",
              "      filter: drop-shadow(0px 1px 2px rgba(0, 0, 0, 0.3));\n",
              "      fill: #FFFFFF;\n",
              "    }\n",
              "  </style>\n",
              "\n",
              "      <script>\n",
              "        const buttonEl =\n",
              "          document.querySelector('#df-821fcd37-145a-45bc-9435-b79371ff6862 button.colab-df-convert');\n",
              "        buttonEl.style.display =\n",
              "          google.colab.kernel.accessAllowed ? 'block' : 'none';\n",
              "\n",
              "        async function convertToInteractive(key) {\n",
              "          const element = document.querySelector('#df-821fcd37-145a-45bc-9435-b79371ff6862');\n",
              "          const dataTable =\n",
              "            await google.colab.kernel.invokeFunction('convertToInteractive',\n",
              "                                                     [key], {});\n",
              "          if (!dataTable) return;\n",
              "\n",
              "          const docLinkHtml = 'Like what you see? Visit the ' +\n",
              "            '<a target=\"_blank\" href=https://colab.research.google.com/notebooks/data_table.ipynb>data table notebook</a>'\n",
              "            + ' to learn more about interactive tables.';\n",
              "          element.innerHTML = '';\n",
              "          dataTable['output_type'] = 'display_data';\n",
              "          await google.colab.output.renderOutput(dataTable, element);\n",
              "          const docLink = document.createElement('div');\n",
              "          docLink.innerHTML = docLinkHtml;\n",
              "          element.appendChild(docLink);\n",
              "        }\n",
              "      </script>\n",
              "    </div>\n",
              "  </div>\n",
              "  "
            ]
          },
          "metadata": {},
          "execution_count": 6
        }
      ]
    },
    {
      "cell_type": "code",
      "source": [
        "df.isna().sum()"
      ],
      "metadata": {
        "colab": {
          "base_uri": "https://localhost:8080/"
        },
        "id": "xlUSbVsBMjDM",
        "outputId": "e4c27912-9e60-43a1-ca5d-1d31775fb7ae"
      },
      "execution_count": 7,
      "outputs": [
        {
          "output_type": "execute_result",
          "data": {
            "text/plain": [
              "Jobs           6\n",
              "Job Type    2556\n",
              "Salary      3785\n",
              "dtype: int64"
            ]
          },
          "metadata": {},
          "execution_count": 7
        }
      ]
    },
    {
      "cell_type": "code",
      "source": [
        "df['Jobs'].count()"
      ],
      "metadata": {
        "colab": {
          "base_uri": "https://localhost:8080/"
        },
        "id": "nUMxj5ekMoAX",
        "outputId": "de97282f-b7be-465e-93dd-d220921ec33b"
      },
      "execution_count": 8,
      "outputs": [
        {
          "output_type": "execute_result",
          "data": {
            "text/plain": [
              "4547"
            ]
          },
          "metadata": {},
          "execution_count": 8
        }
      ]
    },
    {
      "cell_type": "code",
      "source": [
        "df['Jobs'].unique()"
      ],
      "metadata": {
        "colab": {
          "base_uri": "https://localhost:8080/"
        },
        "id": "quS2trDoMvVX",
        "outputId": "2d08ee73-525d-4cfd-eaa8-6658ee52e311"
      },
      "execution_count": 9,
      "outputs": [
        {
          "output_type": "execute_result",
          "data": {
            "text/plain": [
              "array(['Microsoft Office', 'Logo Design', 'mysql', ...,\n",
              "       'Graphic Designer (Freelance-to-Hire)',\n",
              "       'Digital Marketing Graphic Designer', 'Senior UI/UX Designer'],\n",
              "      dtype=object)"
            ]
          },
          "metadata": {},
          "execution_count": 9
        }
      ]
    },
    {
      "cell_type": "code",
      "source": [
        "a = df['Jobs'].unique()\n",
        "a"
      ],
      "metadata": {
        "colab": {
          "base_uri": "https://localhost:8080/"
        },
        "id": "F6yZi0XGNG3Z",
        "outputId": "4789b965-2082-48cf-fadd-9f1e2fd0e4a0"
      },
      "execution_count": 10,
      "outputs": [
        {
          "output_type": "execute_result",
          "data": {
            "text/plain": [
              "array(['Microsoft Office', 'Logo Design', 'mysql', ...,\n",
              "       'Graphic Designer (Freelance-to-Hire)',\n",
              "       'Digital Marketing Graphic Designer', 'Senior UI/UX Designer'],\n",
              "      dtype=object)"
            ]
          },
          "metadata": {},
          "execution_count": 10
        }
      ]
    },
    {
      "cell_type": "code",
      "source": [
        "import matplotlib.pyplot as plt\n",
        "import seaborn as sns"
      ],
      "metadata": {
        "id": "Qmbod3x8NdZb"
      },
      "execution_count": 11,
      "outputs": []
    },
    {
      "cell_type": "code",
      "source": [
        "sns.countplot(x = a, data = df)\n",
        "plt.xlabel('Jobs')"
      ],
      "metadata": {
        "colab": {
          "base_uri": "https://localhost:8080/",
          "height": 491
        },
        "id": "dUCv5FJPNUHX",
        "outputId": "963a26ec-7170-4ee4-924f-ba86435b877a"
      },
      "execution_count": 12,
      "outputs": [
        {
          "output_type": "execute_result",
          "data": {
            "text/plain": [
              "Text(0.5, 0, 'Jobs')"
            ]
          },
          "metadata": {},
          "execution_count": 12
        },
        {
          "output_type": "stream",
          "name": "stderr",
          "text": [
            "/usr/local/lib/python3.8/dist-packages/matplotlib/backends/backend_agg.py:214: RuntimeWarning: Glyph 11088 missing from current font.\n",
            "  font.set_text(s, 0.0, flags=flags)\n",
            "/usr/local/lib/python3.8/dist-packages/matplotlib/backends/backend_agg.py:214: RuntimeWarning: Glyph 9989 missing from current font.\n",
            "  font.set_text(s, 0.0, flags=flags)\n",
            "/usr/local/lib/python3.8/dist-packages/matplotlib/backends/backend_agg.py:214: RuntimeWarning: Glyph 12321 missing from current font.\n",
            "  font.set_text(s, 0.0, flags=flags)\n",
            "/usr/local/lib/python3.8/dist-packages/matplotlib/backends/backend_agg.py:183: RuntimeWarning: Glyph 11088 missing from current font.\n",
            "  font.set_text(s, 0, flags=flags)\n",
            "/usr/local/lib/python3.8/dist-packages/matplotlib/backends/backend_agg.py:183: RuntimeWarning: Glyph 9989 missing from current font.\n",
            "  font.set_text(s, 0, flags=flags)\n",
            "/usr/local/lib/python3.8/dist-packages/matplotlib/backends/backend_agg.py:183: RuntimeWarning: Glyph 12321 missing from current font.\n",
            "  font.set_text(s, 0, flags=flags)\n"
          ]
        },
        {
          "output_type": "display_data",
          "data": {
            "text/plain": [
              "<Figure size 432x288 with 1 Axes>"
            ],
            "image/png": "[encoded data removed]"
          },
          "metadata": {
            "needs_background": "light"
          }
        }
      ]
    },
    {
      "cell_type": "code",
      "source": [
        "c = df['Job Type'].unique()\n",
        "sns.countplot(x = c, data = df)\n",
        "plt.xlabel('Job Type')"
      ],
      "metadata": {
        "colab": {
          "base_uri": "https://localhost:8080/",
          "height": 296
        },
        "id": "y1jbiAF9Nb4X",
        "outputId": "f89c064a-488e-497d-810b-35366f56d654"
      },
      "execution_count": 13,
      "outputs": [
        {
          "output_type": "execute_result",
          "data": {
            "text/plain": [
              "Text(0.5, 0, 'Job Type')"
            ]
          },
          "metadata": {},
          "execution_count": 13
        },
        {
          "output_type": "display_data",
          "data": {
            "text/plain": [
              "<Figure size 432x288 with 1 Axes>"
            ],
            "image/png": "[encoded data removed]"
          },
          "metadata": {
            "needs_background": "light"
          }
        }
      ]
    },
    {
      "cell_type": "code",
      "source": [
        "df1 = len(df['Job Type'].dropna())\n",
        "df1"
      ],
      "metadata": {
        "colab": {
          "base_uri": "https://localhost:8080/"
        },
        "id": "jBMq7YbzO9z5",
        "outputId": "a6a04440-4014-4137-9cbd-da8562014aa7"
      },
      "execution_count": 14,
      "outputs": [
        {
          "output_type": "execute_result",
          "data": {
            "text/plain": [
              "1997"
            ]
          },
          "metadata": {},
          "execution_count": 14
        }
      ]
    },
    {
      "cell_type": "code",
      "source": [
        "df2 = len(df['Jobs'].dropna())\n",
        "df2"
      ],
      "metadata": {
        "colab": {
          "base_uri": "https://localhost:8080/"
        },
        "id": "gBSibRXvPyYR",
        "outputId": "f77c0fb4-9486-42aa-d1a4-d6452aba1842"
      },
      "execution_count": 15,
      "outputs": [
        {
          "output_type": "execute_result",
          "data": {
            "text/plain": [
              "4547"
            ]
          },
          "metadata": {},
          "execution_count": 15
        }
      ]
    },
    {
      "cell_type": "code",
      "source": [
        "df3 = len(df['Salary'].dropna())\n",
        "df3"
      ],
      "metadata": {
        "colab": {
          "base_uri": "https://localhost:8080/"
        },
        "id": "dxqhL8WfQi0k",
        "outputId": "96b32433-987e-4599-df2e-6730cee22641"
      },
      "execution_count": 16,
      "outputs": [
        {
          "output_type": "execute_result",
          "data": {
            "text/plain": [
              "768"
            ]
          },
          "metadata": {},
          "execution_count": 16
        }
      ]
    },
    {
      "cell_type": "code",
      "source": [
        "country_data=df.groupby('Jobs').size().sort_values(ascending=False).head(10)\n",
        "country = country_data.index.tolist()\n",
        "values = country_data.values.tolist()\n",
        "\n",
        "_ = plt.figure(figsize=(15,5))\n",
        "_ = plt.title('Number of Jobs')\n",
        "g = sns.barplot(x=country,y=values)\n",
        "for i in g.patches:\n",
        "    _ = g.text(i.get_x()+.24,i.get_height()+.38,str(int(round(i.get_height(),0))))\n",
        "_ = plt.xlabel('Jobs')\n",
        "_ = plt.ylabel('Count')"
      ],
      "metadata": {
        "colab": {
          "base_uri": "https://localhost:8080/",
          "height": 350
        },
        "id": "MXlMQp3NQ6da",
        "outputId": "1f470c7e-1baf-4e9a-f2de-29470119dc60"
      },
      "execution_count": 17,
      "outputs": [
        {
          "output_type": "display_data",
          "data": {
            "text/plain": [
              "<Figure size 1080x360 with 1 Axes>"
            ],
            "image/png": "[encoded data removed]"
          },
          "metadata": {
            "needs_background": "light"
          }
        }
      ]
    },
    {
      "cell_type": "code",
      "source": [
        "country_data=df.groupby('Job Type').size().sort_values(ascending=False).head(10)\n",
        "country = country_data.index.tolist()\n",
        "values = country_data.values.tolist()\n",
        "\n",
        "_ = plt.figure(figsize=(19,8))\n",
        "_ = plt.title('List of Job Type')\n",
        "g = sns.barplot(x=country,y=values)\n",
        "for i in g.patches:\n",
        "    _ = g.text(i.get_x()+.24,i.get_height()+.38,str(int(round(i.get_height(),0))))\n",
        "_ = plt.xlabel('Job Type')\n",
        "_ = plt.ylabel('Count')"
      ],
      "metadata": {
        "colab": {
          "base_uri": "https://localhost:8080/",
          "height": 513
        },
        "id": "1fVIXzZSRIKD",
        "outputId": "208322eb-84ce-4981-9ec3-cc61935b0baf"
      },
      "execution_count": 18,
      "outputs": [
        {
          "output_type": "display_data",
          "data": {
            "text/plain": [
              "<Figure size 1368x576 with 1 Axes>"
            ],
            "image/png": "[encoded data removed]"
          },
          "metadata": {
            "needs_background": "light"
          }
        }
      ]
    },
    {
      "cell_type": "code",
      "source": [
        "country_data=df.groupby('Salary').size().sort_values(ascending=False).head(10)\n",
        "country = country_data.index.tolist()\n",
        "values = country_data.values.tolist()\n",
        "\n",
        "_ = plt.figure(figsize=(19,8))\n",
        "_ = plt.title('List acc. to Salary')\n",
        "g = sns.barplot(x=country,y=values)\n",
        "for i in g.patches:\n",
        "    _ = g.text(i.get_x()+.24,i.get_height()+.38,str(int(round(i.get_height(),0))))\n",
        "_ = plt.xlabel('Salary')\n",
        "_ = plt.ylabel('Count')"
      ],
      "metadata": {
        "colab": {
          "base_uri": "https://localhost:8080/",
          "height": 617
        },
        "id": "xcxusLbzR0ds",
        "outputId": "1fcc48eb-460b-4fc5-b7d6-f3c974136503"
      },
      "execution_count": 19,
      "outputs": [
        {
          "output_type": "stream",
          "name": "stderr",
          "text": [
            "/usr/local/lib/python3.8/dist-packages/matplotlib/backends/backend_agg.py:214: RuntimeWarning: Glyph 9 missing from current font.\n",
            "  font.set_text(s, 0.0, flags=flags)\n",
            "/usr/local/lib/python3.8/dist-packages/matplotlib/backends/backend_agg.py:183: RuntimeWarning: Glyph 9 missing from current font.\n",
            "  font.set_text(s, 0, flags=flags)\n"
          ]
        },
        {
          "output_type": "display_data",
          "data": {
            "text/plain": [
              "<Figure size 1368x576 with 1 Axes>"
            ],
            "image/png": "[encoded data removed]"
          },
          "metadata": {
            "needs_background": "light"
          }
        }
      ]
    },
    {
      "cell_type": "code",
      "source": [
        "import plotly.express as px"
      ],
      "metadata": {
        "id": "bKyLYTkiqvG1"
      },
      "execution_count": 26,
      "outputs": []
    },
    {
      "cell_type": "code",
      "source": [
        "sns.countplot(y=df.Jobs,order=df.Jobs.value_counts().iloc[:15].index)\n",
        "# plt.xticks(rotation=90)\n",
        "plt.show()"
      ],
      "metadata": {
        "colab": {
          "base_uri": "https://localhost:8080/",
          "height": 279
        },
        "id": "dcEsrGynSN4C",
        "outputId": "1778afd0-ff74-4fdd-b197-00f79a78e9db"
      },
      "execution_count": 39,
      "outputs": [
        {
          "output_type": "display_data",
          "data": {
            "text/plain": [
              "<Figure size 432x288 with 1 Axes>"
            ],
            "image/png": "[encoded data removed]"
          },
          "metadata": {
            "needs_background": "light"
          }
        }
      ]
    },
    {
      "cell_type": "code",
      "source": [],
      "metadata": {
        "id": "8FQpZ5tTuwUA"
      },
      "execution_count": null,
      "outputs": []
    },
    {
      "cell_type": "code",
      "source": [
        "import gensim\n",
        "from gensim.utils import simple_preprocess\n",
        "import nltk\n",
        "nltk.download('stopwords')\n",
        "from nltk.corpus import stopwords\n",
        "stop_words = stopwords.words('english')\n",
        "stop_words.extend(['from', 'subject', 're', 'edu', 'use'])\n",
        "def sent_to_words(sentences):\n",
        "    for sentence in sentences:\n",
        "        # deacc=True removes punctuations\n",
        "        yield(gensim.utils.simple_preprocess(str(sentence), deacc=True))\n",
        "def remove_stopwords(texts):\n",
        "    return [[word for word in simple_preprocess(str(doc)) \n",
        "             if word not in stop_words] for doc in texts]\n",
        "data = df.Jobs.values.tolist()\n",
        "data_words = list(sent_to_words(data))\n",
        "# remove stop words\n",
        "data_words = remove_stopwords(data_words)\n",
        "print(data_words[:1][0][:30])\n"
      ],
      "metadata": {
        "colab": {
          "base_uri": "https://localhost:8080/"
        },
        "id": "sGlcUsqsrj64",
        "outputId": "e542caac-6ce5-4c56-b842-1ec205f58ba9"
      },
      "execution_count": 42,
      "outputs": [
        {
          "output_type": "stream",
          "name": "stderr",
          "text": [
            "[nltk_data] Downloading package stopwords to /root/nltk_data...\n",
            "[nltk_data]   Package stopwords is already up-to-date!\n"
          ]
        },
        {
          "output_type": "stream",
          "name": "stdout",
          "text": [
            "['microsoft', 'office']\n"
          ]
        }
      ]
    },
    {
      "cell_type": "code",
      "source": [
        "import gensim.corpora as corpora\n",
        "# Create Dictionary\n",
        "id2word = corpora.Dictionary(data_words)\n",
        "# Create Corpus\n",
        "texts = data_words\n",
        "# Term Document Frequency\n",
        "corpus = [id2word.doc2bow(text) for text in texts]\n",
        "# View\n",
        "print(corpus[:1][0][:30])"
      ],
      "metadata": {
        "colab": {
          "base_uri": "https://localhost:8080/"
        },
        "id": "MC8_NACwsWt8",
        "outputId": "c27ea358-6787-437f-dadf-f62e4bff07c1"
      },
      "execution_count": 43,
      "outputs": [
        {
          "output_type": "stream",
          "name": "stdout",
          "text": [
            "[(0, 1), (1, 1)]\n"
          ]
        }
      ]
    },
    {
      "cell_type": "code",
      "source": [
        "from pprint import pprint\n",
        "# number of topics\n",
        "num_topics = 10\n",
        "# Build LDA model\n",
        "lda_model = gensim.models.LdaMulticore(corpus=corpus,\n",
        "                                       id2word=id2word,\n",
        "                                       num_topics=num_topics)\n",
        "# Print the Keyword in the 10 topics\n",
        "pprint(lda_model.print_topics())\n",
        "doc_lda = lda_model[corpus]"
      ],
      "metadata": {
        "colab": {
          "base_uri": "https://localhost:8080/"
        },
        "id": "Igg74_QCv1gx",
        "outputId": "c72c28d9-f9a7-4ea0-b720-c363a7c0a682"
      },
      "execution_count": 44,
      "outputs": [
        {
          "output_type": "stream",
          "name": "stderr",
          "text": [
            "WARNING:gensim.models.ldamulticore:too few updates, training might not converge; consider increasing the number of passes or iterations to improve accuracy\n"
          ]
        },
        {
          "output_type": "stream",
          "name": "stdout",
          "text": [
            "[(0,\n",
            "  '0.048*\"designer\" + 0.040*\"product\" + 0.031*\"html\" + 0.027*\"developer\" + '\n",
            "  '0.026*\"senior\" + 0.020*\"software\" + 0.016*\"specialist\" + 0.016*\"ui\" + '\n",
            "  '0.016*\"ux\" + 0.014*\"design\"'),\n",
            " (1,\n",
            "  '0.043*\"editing\" + 0.031*\"software\" + 0.030*\"design\" + 0.025*\"engineer\" + '\n",
            "  '0.022*\"rendering\" + 0.019*\"proofreading\" + 0.018*\"development\" + '\n",
            "  '0.018*\"image\" + 0.017*\"web\" + 0.017*\"testing\"'),\n",
            " (2,\n",
            "  '0.046*\"designer\" + 0.035*\"developer\" + 0.032*\"design\" + 0.029*\"wordpress\" + '\n",
            "  '0.027*\"animation\" + 0.026*\"web\" + 0.017*\"software\" + 0.014*\"building\" + '\n",
            "  '0.014*\"link\" + 0.013*\"amazon\"'),\n",
            " (3,\n",
            "  '0.110*\"software\" + 0.049*\"web\" + 0.047*\"engineer\" + 0.034*\"design\" + '\n",
            "  '0.033*\"development\" + 0.032*\"developer\" + 0.028*\"develop\" + 0.020*\"mobile\" '\n",
            "  '+ 0.018*\"js\" + 0.015*\"application\"'),\n",
            " (4,\n",
            "  '0.044*\"graphics\" + 0.041*\"development\" + 0.040*\"software\" + '\n",
            "  '0.040*\"marketing\" + 0.038*\"design\" + 0.022*\"designer\" + 0.018*\"adobe\" + '\n",
            "  '0.018*\"web\" + 0.018*\"engineer\" + 0.016*\"wordpress\"'),\n",
            " (5,\n",
            "  '0.035*\"web\" + 0.031*\"marketing\" + 0.030*\"developer\" + 0.022*\"microsoft\" + '\n",
            "  '0.018*\"development\" + 0.015*\"proofreading\" + 0.014*\"consultant\" + '\n",
            "  '0.013*\"data\" + 0.013*\"modeling\" + 0.011*\"software\"'),\n",
            " (6,\n",
            "  '0.044*\"software\" + 0.033*\"developer\" + 0.032*\"design\" + 0.025*\"development\" '\n",
            "  '+ 0.025*\"google\" + 0.025*\"business\" + 0.016*\"adobe\" + 0.016*\"ranking\" + '\n",
            "  '0.015*\"marketing\" + 0.015*\"android\"'),\n",
            " (7,\n",
            "  '0.067*\"developer\" + 0.046*\"data\" + 0.032*\"software\" + 0.031*\"web\" + '\n",
            "  '0.029*\"research\" + 0.021*\"media\" + 0.021*\"social\" + 0.021*\"designer\" + '\n",
            "  '0.018*\"writing\" + 0.018*\"entry\"'),\n",
            " (8,\n",
            "  '0.061*\"design\" + 0.031*\"engineer\" + 0.022*\"senior\" + 0.021*\"designer\" + '\n",
            "  '0.019*\"development\" + 0.015*\"marketing\" + 0.014*\"translator\" + '\n",
            "  '0.014*\"expert\" + 0.014*\"brand\" + 0.013*\"graphic\"'),\n",
            " (9,\n",
            "  '0.052*\"software\" + 0.050*\"developer\" + 0.037*\"design\" + 0.028*\"full\" + '\n",
            "  '0.028*\"stack\" + 0.027*\"development\" + 0.021*\"engineer\" + 0.021*\"graphics\" + '\n",
            "  '0.020*\"designer\" + 0.017*\"experienced\"')]\n"
          ]
        }
      ]
    },
    {
      "cell_type": "code",
      "source": [
        "pip install pyLDAvis"
      ],
      "metadata": {
        "colab": {
          "base_uri": "https://localhost:8080/",
          "height": 659
        },
        "id": "pOmq5cE3wEI-",
        "outputId": "1ea5a5ef-ee3e-46c7-d32e-feac05be9b57"
      },
      "execution_count": 46,
      "outputs": [
        {
          "output_type": "stream",
          "name": "stdout",
          "text": [
            "Looking in indexes: https://pypi.org/simple, https://us-python.pkg.dev/colab-wheels/public/simple/\n",
            "Collecting pyLDAvis\n",
            "  Downloading pyLDAvis-3.4.0-py3-none-any.whl (2.6 MB)\n",
            "\u001b[2K     \u001b[90m━━━━━━━━━━━━━━━━━━━━━━━━━━━━━━━━━━━━━━━━\u001b[0m \u001b[32m2.6/2.6 MB\u001b[0m \u001b[31m41.2 MB/s\u001b[0m eta \u001b[36m0:00:00\u001b[0m\n",
            "\u001b[?25hRequirement already satisfied: joblib>=1.2.0 in /usr/local/lib/python3.8/dist-packages (from pyLDAvis) (1.2.0)\n",
            "Requirement already satisfied: gensim in /usr/local/lib/python3.8/dist-packages (from pyLDAvis) (3.6.0)\n",
            "Requirement already satisfied: numexpr in /usr/local/lib/python3.8/dist-packages (from pyLDAvis) (2.8.4)\n",
            "Collecting numpy>=1.22.0\n",
            "  Downloading numpy-1.24.2-cp38-cp38-manylinux_2_17_x86_64.manylinux2014_x86_64.whl (17.3 MB)\n",
            "\u001b[2K     \u001b[90m━━━━━━━━━━━━━━━━━━━━━━━━━━━━━━━━━━━━━━━━\u001b[0m \u001b[32m17.3/17.3 MB\u001b[0m \u001b[31m71.4 MB/s\u001b[0m eta \u001b[36m0:00:00\u001b[0m\n",
            "\u001b[?25hRequirement already satisfied: pandas>=1.3.4 in /usr/local/lib/python3.8/dist-packages (from pyLDAvis) (1.3.5)\n",
            "Requirement already satisfied: scipy in /usr/local/lib/python3.8/dist-packages (from pyLDAvis) (1.7.3)\n",
            "Requirement already satisfied: scikit-learn>=1.0.0 in /usr/local/lib/python3.8/dist-packages (from pyLDAvis) (1.0.2)\n",
            "Collecting funcy\n",
            "  Downloading funcy-1.18-py2.py3-none-any.whl (33 kB)\n",
            "Requirement already satisfied: setuptools in /usr/local/lib/python3.8/dist-packages (from pyLDAvis) (57.4.0)\n",
            "Requirement already satisfied: jinja2 in /usr/local/lib/python3.8/dist-packages (from pyLDAvis) (2.11.3)\n",
            "Requirement already satisfied: python-dateutil>=2.7.3 in /usr/local/lib/python3.8/dist-packages (from pandas>=1.3.4->pyLDAvis) (2.8.2)\n",
            "Requirement already satisfied: pytz>=2017.3 in /usr/local/lib/python3.8/dist-packages (from pandas>=1.3.4->pyLDAvis) (2022.7.1)\n",
            "Requirement already satisfied: threadpoolctl>=2.0.0 in /usr/local/lib/python3.8/dist-packages (from scikit-learn>=1.0.0->pyLDAvis) (3.1.0)\n",
            "Collecting numpy>=1.22.0\n",
            "  Downloading numpy-1.22.4-cp38-cp38-manylinux_2_17_x86_64.manylinux2014_x86_64.whl (16.9 MB)\n",
            "\u001b[2K     \u001b[90m━━━━━━━━━━━━━━━━━━━━━━━━━━━━━━━━━━━━━━━━\u001b[0m \u001b[32m16.9/16.9 MB\u001b[0m \u001b[31m69.1 MB/s\u001b[0m eta \u001b[36m0:00:00\u001b[0m\n",
            "\u001b[?25hRequirement already satisfied: smart-open>=1.2.1 in /usr/local/lib/python3.8/dist-packages (from gensim->pyLDAvis) (6.3.0)\n",
            "Requirement already satisfied: six>=1.5.0 in /usr/local/lib/python3.8/dist-packages (from gensim->pyLDAvis) (1.15.0)\n",
            "Requirement already satisfied: MarkupSafe>=0.23 in /usr/local/lib/python3.8/dist-packages (from jinja2->pyLDAvis) (2.0.1)\n",
            "Installing collected packages: funcy, numpy, pyLDAvis\n",
            "  Attempting uninstall: numpy\n",
            "    Found existing installation: numpy 1.21.6\n",
            "    Uninstalling numpy-1.21.6:\n",
            "      Successfully uninstalled numpy-1.21.6\n",
            "Successfully installed funcy-1.18 numpy-1.22.4 pyLDAvis-3.4.0\n"
          ]
        },
        {
          "output_type": "display_data",
          "data": {
            "application/vnd.colab-display-data+json": {
              "pip_warning": {
                "packages": [
                  "numpy"
                ]
              }
            }
          },
          "metadata": {}
        }
      ]
    },
    {
      "cell_type": "code",
      "source": [
        "import pyLDAvis.gensim\n",
        "import pickle \n",
        "import pyLDAvis\n",
        "# Visualize the topics\n",
        "pyLDAvis.enable_notebook()\n",
        "LDAvis_data_filepath = os.path.join('/content/drive/MyDrive/LDAdataprep'+str(num_topics))\n",
        "# # this is a bit time consuming - make the if statement True\n",
        "# # if you want to execute visualization prep yourself\n",
        "if 1 == 1:\n",
        "    LDAvis_prepared = pyLDAvis.gensim.prepare(lda_model, corpus, id2word)\n",
        "    with open(LDAvis_data_filepath, 'wb') as f:\n",
        "        pickle.dump(LDAvis_prepared, f)\n",
        "# load the pre-prepared pyLDAvis data from disk\n",
        "with open(LDAvis_data_filepath, 'rb') as f:\n",
        "    LDAvis_prepared = pickle.load(f)\n",
        "pyLDAvis.save_html(LDAvis_prepared, '/content/drive/MyDrive/LDA_Results'+ str(num_topics) +'.html')\n",
        "LDAvis_prepared"
      ],
      "metadata": {
        "colab": {
          "base_uri": "https://localhost:8080/",
          "height": 861
        },
        "id": "YxZN76uAv5-o",
        "outputId": "dc9e183c-ccbf-4312-d31b-39dd6fd2e2a0"
      },
      "execution_count": 49,
      "outputs": [
        {
          "output_type": "execute_result",
          "data": {
            "text/plain": [
              "PreparedData(topic_coordinates=              x         y  topics  cluster       Freq\n",
              "topic                                                \n",
              "7      0.050279 -0.052529       1        1  12.879672\n",
              "3      0.082588 -0.125484       2        1  11.803930\n",
              "2      0.015404  0.062685       3        1  11.151413\n",
              "8     -0.106586  0.102570       4        1  10.623049\n",
              "6      0.040132 -0.019929       5        1   9.667597\n",
              "0      0.150659  0.096422       6        1   9.406546\n",
              "4     -0.071505  0.008813       7        1   9.248489\n",
              "9      0.001420  0.076615       8        1   9.144020\n",
              "1     -0.111045 -0.035289       9        1   8.105102\n",
              "5     -0.051347 -0.113874      10        1   7.970183, topic_info=            Term        Freq       Total Category  logprob  loglift\n",
              "676     graphics  111.000000  111.000000  Default  30.0000  30.0000\n",
              "148     software  598.000000  598.000000  Default  29.0000  29.0000\n",
              "77       editing   76.000000   76.000000  Default  28.0000  28.0000\n",
              "2         design  437.000000  437.000000  Default  27.0000  27.0000\n",
              "559     designer  305.000000  305.000000  Default  26.0000  26.0000\n",
              "..           ...         ...         ...      ...      ...      ...\n",
              "144        video    7.126045   35.878217  Topic10  -5.1638   0.9131\n",
              "897  woocommerce    6.576002   25.628029  Topic10  -5.2441   1.1692\n",
              "154       python    7.015293   60.395592  Topic10  -5.1795   0.3766\n",
              "33       english    6.586999   38.939033  Topic10  -5.2425   0.7526\n",
              "44        mobile    6.577642   79.660380  Topic10  -5.2439   0.0354\n",
              "\n",
              "[664 rows x 6 columns], token_table=      Topic      Freq        Term\n",
              "term                             \n",
              "1797      1  0.865032        abap\n",
              "651       1  0.227851  accounting\n",
              "651       2  0.136711  accounting\n",
              "651       3  0.091140  accounting\n",
              "651       5  0.045570  accounting\n",
              "...     ...       ...         ...\n",
              "868       4  0.066957       years\n",
              "868       8  0.602614       years\n",
              "868      10  0.066957       years\n",
              "1896      2  0.804485         yii\n",
              "1825     10  0.800488      zapier\n",
              "\n",
              "[1471 rows x 3 columns], R=30, lambda_step=0.01, plot_opts={'xlab': 'PC1', 'ylab': 'PC2'}, topic_order=[8, 4, 3, 9, 7, 1, 5, 10, 2, 6])"
            ],
            "text/html": [
              "\n",
              "<link rel=\"stylesheet\" type=\"text/css\" href=\"https://cdn.jsdelivr.net/gh/bmabey/pyLDAvis@3.4.0/pyLDAvis/js/ldavis.v1.0.0.css\">\n",
              "\n",
              "\n",
              "<div id=\"ldavis_el135140200518200336335960933\" style=\"background-color:white;\"></div>\n",
              "<script type=\"text/javascript\">\n",
              "\n",
              "var ldavis_el135140200518200336335960933_data = {\"mdsDat\": {\"x\": [0.050279485797202816, 0.0825883035194067, 0.015404394118890176, -0.10658592707695191, 0.0401321211307304, 0.15065918042554516, -0.07150541667730127, 0.001419774279528769, -0.11104503847267307, -0.0513468770443777], \"y\": [-0.05252897837530814, -0.12548364129280398, 0.06268451240663445, 0.10256979734447004, -0.01992919685762344, 0.09642241618101371, 0.008812999092352952, 0.076615423836682, -0.03528917903583021, -0.11387415329958742], \"topics\": [1, 2, 3, 4, 5, 6, 7, 8, 9, 10], \"cluster\": [1, 1, 1, 1, 1, 1, 1, 1, 1, 1], \"Freq\": [12.879671702315216, 11.803929824675953, 11.151412996746712, 10.623049267604733, 9.667597222657605, 9.406545659242767, 9.248488920725054, 9.144020122909199, 8.105101513236585, 7.970182769886177]}, \"tinfo\": {\"Term\": [\"graphics\", \"software\", \"editing\", \"design\", \"designer\", \"product\", \"marketing\", \"web\", \"data\", \"html\", \"development\", \"research\", \"developer\", \"stack\", \"proofreading\", \"rendering\", \"animation\", \"engineer\", \"google\", \"full\", \"adobe\", \"develop\", \"microsoft\", \"media\", \"social\", \"ux\", \"business\", \"js\", \"customer\", \"ranking\", \"keyword\", \"ur\", \"csr\", \"criativos\", \"sage\", \"maintainable\", \"ou\", \"easily\", \"escrita\", \"tematicos\", \"flash\", \"textos\", \"powerapps\", \"riva\", \"specialis\", \"plsql\", \"abap\", \"promotor\", \"devlopment\", \"mystic\", \"grant\", \"tvos\", \"jobs\", \"perfect\", \"pixel\", \"central\", \"asp\", \"core\", \"mvc\", \"plus\", \"word\", \"research\", \"data\", \"python\", \"media\", \"social\", \"generation\", \"market\", \"lead\", \"entry\", \"developer\", \"writing\", \"saas\", \"trainee\", \"django\", \"web\", \"software\", \"expert\", \"designer\", \"business\", \"specialist\", \"manager\", \"shift\", \"pdf\", \"complete\", \"analyst\", \"java\", \"net\", \"mobile\", \"stack\", \"full\", \"marketing\", \"engineer\", \"management\", \"product\", \"development\", \"senior\", \"intern\", \"evening\", \"angular\", \"ai\", \"graduate\", \"mern\", \"ebook\", \"yii\", \"desk\", \"portal\", \"lahore\", \"erpnext\", \"ml\", \"modern\", \"pucit\", \"customize\", \"modeller\", \"webgl\", \"offering\", \"requirement\", \"hrm\", \"key\", \"assist\", \"rf\", \"three\", \"properly\", \"broadband\", \"fresh\", \"jasper\", \"specification\", \"react\", \"node\", \"js\", \"hr\", \"next\", \"develop\", \"transcription\", \"mobile\", \"software\", \"pos\", \"mysql\", \"planning\", \"engineer\", \"web\", \"desktop\", \"applications\", \"application\", \"java\", \"development\", \"computer\", \"security\", \"custom\", \"crm\", \"design\", \"page\", \"developer\", \"system\", \"website\", \"management\", \"engineering\", \"app\", \"php\", \"senior\", \"business\", \"expert\", \"writing\", \"miner\", \"bitcoin\", \"bot\", \"money\", \"everyday\", \"profitable\", \"kind\", \"convert\", \"plains\", \"independent\", \"creativity\", \"elearning\", \"budget\", \"webs\", \"site\", \"ex\", \"great\", \"oracle\", \"passionate\", \"coder\", \"making\", \"mining\", \"freelancer\", \"japanese\", \"high\", \"javascript\", \"amazon\", \"stat\", \"ec\", \"solidworks\", \"experience\", \"services\", \"animation\", \"link\", \"building\", \"wordpress\", \"jquery\", \"designer\", \"developer\", \"design\", \"ux\", \"web\", \"psd\", \"google\", \"graphic\", \"internet\", \"application\", \"responsive\", \"data\", \"html\", \"php\", \"research\", \"content\", \"writing\", \"software\", \"develop\", \"senior\", \"ui\", \"expert\", \"product\", \"telemarketing\", \"outstanding\", \"hands\", \"jr\", \"genius\", \"mql\", \"skills\", \"print\", \"flow\", \"leaflet\", \"icon\", \"information\", \"representative\", \"ph\", \"guest\", \"posting\", \"dutch\", \"communication\", \"brands\", \"package\", \"blogging\", \"professional\", \"contract\", \"proofreader\", \"turkish\", \"ea\", \"trader\", \"robot\", \"childrens\", \"esignal\", \"solution\", \"authority\", \"beauty\", \"home\", \"platform\", \"power\", \"ad\", \"tech\", \"brand\", \"translator\", \"architect\", \"mechanical\", \"design\", \"graphic\", \"customer\", \"senior\", \"engineer\", \"ios\", \"service\", \"writer\", \"digital\", \"brochure\", \"designer\", \"development\", \"expert\", \"stack\", \"marketing\", \"full\", \"support\", \"logo\", \"writing\", \"entry\", \"software\", \"media\", \"wordpress\", \"social\", \"resource\", \"diagram\", \"documentation\", \"workflow\", \"bulk\", \"heavy\", \"qlikview\", \"flask\", \"dw\", \"devolpment\", \"book\", \"ranking\", \"azure\", \"today\", \"administrative\", \"one\", \"modelling\", \"coach\", \"human\", \"suite\", \"apps\", \"fuel\", \"description\", \"community\", \"google\", \"bi\", \"buyer\", \"allocation\", \"manipulation\", \"supplies\", \"android\", \"owner\", \"tableau\", \"logo\", \"adobe\", \"sap\", \"business\", \"consultant\", \"analytics\", \"management\", \"illustrator\", \"software\", \"design\", \"development\", \"developer\", \"product\", \"website\", \"ios\", \"shopify\", \"tasks\", \"marketing\", \"finance\", \"image\", \"erp\", \"junior\", \"automation\", \"animation\", \"system\", \"manager\", \"engineer\", \"senior\", \"expert\", \"associate\", \"online\", \"best\", \"drafting\", \"frontend\", \"mba\", \"expect\", \"bsn\", \"healthcare\", \"win\", \"licensed\", \"tracer\", \"recovery\", \"mvvm\", \"caller\", \"penguin\", \"skip\", \"wpf\", \"pinescript\", \"sme\", \"panda\", \"tradingview\", \"gts\", \"vicidial\", \"twilio\", \"asterisk\", \"sd\", \"please\", \"tender\", \"storage\", \"basketball\", \"addicted\", \"html\", \"product\", \"dev\", \"civil\", \"sr\", \"designer\", \"ux\", \"senior\", \"specialist\", \"ui\", \"desktop\", \"art\", \"modeling\", \"implementation\", \"spreadsheets\", \"article\", \"developer\", \"language\", \"laravel\", \"sap\", \"digital\", \"php\", \"software\", \"shopify\", \"interior\", \"architect\", \"design\", \"director\", \"develop\", \"expert\", \"programming\", \"engineer\", \"app\", \"js\", \"manager\", \"designed\", \"themes\", \"sdlc\", \"acf\", \"bubble\", \"africa\", \"earning\", \"south\", \"coding\", \"troubleshooting\", \"io\", \"simplified\", \"motion\", \"experts\", \"relationship\", \"affiliate\", \"russian\", \"us\", \"copywriting\", \"devops\", \"learning\", \"consultancy\", \"graphics\", \"linkedin\", \"shop\", \"arduino\", \"effects\", \"fixes\", \"gurus\", \"professionals\", \"bigcommerce\", \"email\", \"sketchup\", \"valuation\", \"based\", \"release\", \"adobe\", \"woo\", \"marketing\", \"commerce\", \"illustrator\", \"development\", \"strategy\", \"jquery\", \"design\", \"photo\", \"junior\", \"software\", \"website\", \"wordpress\", \"ui\", \"designer\", \"engineer\", \"web\", \"ux\", \"scraping\", \"technical\", \"business\", \"content\", \"social\", \"developer\", \"online\", \"writer\", \"media\", \"data\", \"expert\", \"hrs\", \"assessments\", \"every\", \"thing\", \"smaller\", \"perfectly\", \"ask\", \"highly\", \"vision\", \"house\", \"architecture\", \"hire\", \"dashboard\", \"nft\", \"blockchain\", \"bookkeeper\", \"experienced\", \"credit\", \"orchestration\", \"cpso\", \"resizing\", \"sql\", \"markets\", \"webflow\", \"years\", \"api\", \"partnership\", \"structured\", \"query\", \"repair\", \"dart\", \"sales\", \"customer\", \"flyer\", \"stack\", \"full\", \"associate\", \"service\", \"graphics\", \"developer\", \"software\", \"freelance\", \"design\", \"development\", \"graphic\", \"engineer\", \"rendering\", \"designer\", \"tasks\", \"video\", \"lead\", \"engineering\", \"director\", \"senior\", \"solutions\", \"landing\", \"brochure\", \"web\", \"expert\", \"data\", \"product\", \"wordpress\", \"manual\", \"testing\", \"robotics\", \"ind\", \"mechatronics\", \"meng\", \"matlab\", \"posts\", \"mckinsey\", \"everything\", \"unqiue\", \"almost\", \"deal\", \"recruiter\", \"talent\", \"articles\", \"studio\", \"photography\", \"editing\", \"moodle\", \"vba\", \"rendering\", \"correction\", \"color\", \"podcast\", \"distinguished\", \"comics\", \"legal\", \"usability\", \"joomla\", \"proofreading\", \"front\", \"cartoon\", \"administration\", \"image\", \"quality\", \"end\", \"online\", \"engineer\", \"excel\", \"design\", \"software\", \"marketing\", \"development\", \"web\", \"database\", \"support\", \"developer\", \"english\", \"brand\", \"entry\", \"application\", \"editor\", \"expert\", \"wordpress\", \"console\", \"pc\", \"airtable\", \"zapier\", \"operation\", \"outsourcing\", \"paginas\", \"programacion\", \"bpo\", \"active\", \"diseno\", \"mensah\", \"gideon\", \"analyser\", \"appilication\", \"antivirus\", \"writter\", \"antispam\", \"perfection\", \"reviewer\", \"call\", \"ready\", \"engine\", \"vfx\", \"illustration\", \"leader\", \"sqlserver\", \"center\", \"rails\", \"elements\", \"microsoft\", \"modeling\", \"artwork\", \"proofreading\", \"freelance\", \"marketing\", \"web\", \"consultant\", \"finance\", \"developer\", \"automation\", \"development\", \"excel\", \"app\", \"crm\", \"email\", \"data\", \"search\", \"article\", \"business\", \"mysql\", \"expert\", \"accounting\", \"facebook\", \"sheets\", \"software\", \"dynamics\", \"team\", \"video\", \"woocommerce\", \"python\", \"english\", \"mobile\"], \"Freq\": [111.0, 598.0, 76.0, 437.0, 305.0, 113.0, 195.0, 314.0, 172.0, 72.0, 290.0, 86.0, 494.0, 89.0, 45.0, 42.0, 81.0, 288.0, 73.0, 95.0, 65.0, 108.0, 48.0, 74.0, 74.0, 67.0, 124.0, 50.0, 44.0, 30.0, 9.640255388671665, 4.86167349627388, 4.86165568416695, 4.861621466172055, 4.861623809870335, 4.861620997432399, 4.8616045915444355, 4.861601310366843, 4.861579748342663, 4.861538499252927, 4.861510374873562, 4.861503343778721, 4.861500062601128, 4.861478500576948, 4.861434907788932, 4.861405845930254, 4.8613486596922115, 4.861318660354222, 4.861168663664274, 4.861138195586628, 4.861118508521073, 4.85984400539617, 4.860822733798081, 4.86161959121343, 4.861634122142769, 4.861593810532345, 5.143927892625207, 4.861650996770388, 4.861606935242716, 4.861688964682531, 6.107462567324519, 58.13300589993726, 92.02314927922444, 35.803369909162214, 42.92324779126256, 42.66952839021525, 14.449312389810013, 13.875854419593326, 35.09624426365685, 36.95906815579205, 134.49570201619977, 37.230295920473566, 9.623126704158897, 14.948747931016593, 9.62236078356085, 61.79151516578686, 65.32612341582204, 29.496072845435293, 42.37263244196635, 25.803909947237194, 19.93333199621159, 17.02849984859276, 9.355098556369843, 7.5189998557264985, 9.62267952652699, 11.316973700191623, 10.187550186244144, 9.905554534182977, 14.850869465949545, 15.23198105576983, 15.231788872510835, 19.2121066618511, 19.062634960317755, 12.425443614032657, 11.151824532120761, 11.718827957273115, 10.837014291695498, 8.187965591667842, 5.477886467465799, 5.2830195757778835, 8.964066036965379, 3.0888195008960864, 5.534142483768736, 2.9281034602770757, 2.76749052110601, 2.7674834328814635, 2.767476989040967, 2.767476559451601, 2.767469041637688, 2.7674658197174398, 2.767460235055676, 2.7674557243673283, 2.7674546503939124, 2.7674509988842977, 2.767445199427851, 2.7674441254544346, 2.7674430514810187, 2.7674411183288696, 2.7674359632564727, 2.7674329561309072, 2.767428660237243, 2.767429519415976, 2.7674258679063612, 2.767423505164846, 2.76742243119143, 2.767420927628647, 2.76741577255625, 24.360868544532053, 6.3204710222917555, 33.53830646473396, 5.638349265153296, 3.3161107239892007, 51.55543227181567, 12.065224418438934, 37.279665554611654, 202.32973190850788, 13.609337000442745, 13.805239202503772, 6.508164201149552, 87.33109858110387, 89.6847740425144, 19.149299990537326, 13.769891730254658, 27.813808207214255, 12.893300022002869, 60.02886601173158, 8.509180730275814, 6.186957224739543, 16.707689304174735, 16.480510418700945, 61.954691084461125, 10.619046183480345, 58.94010784800548, 11.70239323954681, 16.51801185203337, 15.887020680466895, 12.279889365668433, 13.034146050861416, 11.858847109266721, 16.501922871081597, 14.87209861868641, 12.732881901609481, 10.848688334381283, 16.545653426802474, 22.02237199779607, 5.592010117167231, 5.592002000330694, 5.5919646628826225, 5.591896887297538, 5.591818965666781, 5.591801920310053, 5.591748755030735, 5.5917028949043, 5.591598187712971, 5.591316127643305, 5.591260527313025, 5.590476846745364, 6.2412275765961995, 5.591722781153816, 5.591775946433134, 7.025066016728361, 5.591713446791799, 5.916434391771408, 5.591974403086468, 11.393439487094769, 6.37379418597184, 7.024625272504394, 5.914341871312132, 7.6097558432124925, 23.31167791060068, 2.0633213573595137, 8.935752292215964, 5.916031390837339, 6.375091256450476, 20.910612144037703, 46.766916685666565, 24.600404281276536, 24.60229063408777, 49.821733570706336, 18.309243955512944, 79.38675221890942, 60.18596630172744, 56.16335302248675, 20.088108747219017, 45.268006456228605, 9.242228617869204, 18.308927398887995, 16.69244803894408, 9.566526269823402, 17.838772629412233, 9.38692340439865, 22.870256742466417, 15.103971765053318, 13.392577365378623, 15.501750326494651, 12.701957951982802, 15.9719456801531, 30.10242790185834, 16.546194008115847, 18.158733455604633, 13.304250761865045, 12.337551763963948, 11.393110755215014, 16.13524329868738, 7.034888700018447, 7.034662918210337, 7.03447811734685, 7.034087638534878, 7.03281027022324, 7.034887926793077, 9.414966856988723, 7.034732508493659, 4.088612786174995, 7.034301821962434, 7.443365105707909, 7.851512890615019, 2.187356952708943, 8.413445922958632, 4.398755415242106, 2.3563148149730004, 7.034785861044205, 1.5395806330675124, 1.5395286336613636, 1.5394689986546837, 14.824797952160992, 7.034284037778919, 7.8513536061887494, 1.7788356999480073, 1.1311126362039516, 1.1311080935049014, 1.1311076102390452, 1.1311031641931661, 1.1311008445170554, 13.924359997557142, 2.356544849520647, 1.5395795698826282, 1.5395773468596887, 7.851748724352943, 7.034846945848455, 6.469774231888978, 7.851737125972389, 23.038283928248436, 23.55034624388761, 15.319521462097882, 7.033814689979183, 100.96522029525626, 22.21057864487094, 15.570066585915608, 37.100386293260314, 52.107837088830394, 17.823438621140593, 15.15040624847098, 18.795375179279894, 13.80451779742348, 13.766499852419468, 35.350670067449244, 32.276721886760384, 23.127200206473933, 18.418381417765165, 24.613883718737885, 18.418180379168906, 12.42661163024504, 13.272704212926868, 15.4863834969959, 14.452112602409247, 20.467427102453215, 10.793647795988146, 10.938705648670737, 10.190047194892983, 4.951798546106946, 4.680570921419849, 4.680557903332652, 4.680556144131679, 4.680545237085648, 4.680526589555337, 4.680472758005573, 4.680468184083044, 4.6804263150998935, 4.680368613307989, 10.5761332909524, 24.59701570833444, 5.224031026389645, 4.680017124953644, 4.679874277834662, 4.952313991991946, 4.680379168513825, 4.68009277059547, 4.951757028963989, 4.032955915500757, 6.489980193557874, 1.408647633669021, 2.064518393832882, 4.9516236815302594, 38.22538801940991, 5.336630092007886, 1.183512305907264, 0.9117494443242253, 2.9924300572935167, 1.1834987600597742, 22.19649872472132, 4.680519200911252, 4.680442147908648, 20.142169974762492, 24.63474142135373, 9.264625040673659, 38.070558630761695, 20.83209200487397, 12.052529337360854, 19.311776450661558, 16.113062135469413, 66.4944303609602, 48.124859433502635, 38.253999664029855, 49.31353323506379, 20.709615025794037, 15.492935348429098, 13.60101321754809, 12.074190027097476, 9.264802368131706, 23.051895420407, 9.264434343288217, 12.600217857788623, 9.26476929515342, 10.07981273524699, 9.536529957735242, 13.64080071410738, 9.920368610607193, 11.714248360238638, 16.56807735601629, 13.341480409087287, 12.30664239946497, 10.388106372588615, 9.92887188442882, 7.643305519311873, 7.643095322829958, 12.321615068033863, 4.0856735768634795, 4.085438047255079, 3.8615103261054458, 3.8614891010535257, 3.8614798578857545, 3.861480884904396, 3.8614695876993417, 3.861468218341153, 3.8614576058151933, 3.8614545247592695, 3.861449389666063, 3.861442542875121, 3.861434669065538, 3.8614329573678026, 3.8614151557113536, 3.8614079665808645, 3.8614065972226763, 3.8614011197899227, 3.861395642357169, 3.861401804469017, 3.8613925613012454, 3.86138023707755, 3.861337102294616, 3.8613227240336383, 3.8612908864557585, 3.8612878053998347, 3.8612717154411214, 44.934790578877696, 59.16202504222823, 11.649529961104427, 4.850783978282947, 15.879230920523543, 70.78201520849301, 23.44318487153541, 37.50915823719005, 23.994781520827846, 23.667874640516878, 15.431353568493263, 8.184373173493885, 11.457762986366989, 4.085460984004734, 4.402447206580467, 9.399529305634925, 39.56497568539873, 7.781525796130156, 8.49664093009202, 7.64334249198296, 9.84697257111949, 10.971920178563987, 28.788178778491883, 9.693920775762908, 5.616511617905824, 8.315751452123946, 20.885363450184524, 8.995072932399856, 11.42544955651679, 12.313209947473611, 7.5573995180432085, 11.904367519961173, 8.316307411548427, 7.867694714170989, 7.673182860944952, 5.540771035889554, 5.540760601684235, 5.540736030813642, 5.540717181926612, 5.540665010900011, 5.5405993763826755, 5.540574468924815, 5.540569083528521, 5.540171573964553, 5.540109641907169, 5.86245825908188, 5.540177632535384, 17.833245718233254, 6.317391630560584, 2.765896621839902, 2.765822909228125, 5.540556966386859, 5.862452200511048, 12.838734950529034, 10.966625792954678, 7.415558081771216, 1.2125844967310289, 63.36826717977017, 4.962498625782242, 5.647744528354532, 1.2122404203959178, 1.5342046549101274, 0.8908587342964733, 0.8908564623324117, 0.8908563781855946, 1.8853653105526031, 18.976479185157615, 6.647836181301864, 5.540275242843217, 5.9002018090099915, 3.2206039749678834, 26.366719845775116, 5.540786182316632, 57.23433849841605, 8.899675690153222, 17.96548950963437, 59.807394681458526, 10.066984571210938, 11.74121676639732, 54.84297481554832, 7.926640268188102, 11.288571515169126, 57.92070725611569, 16.60256553263226, 22.58643014624765, 17.736863280755415, 31.216094183349835, 25.682090571078515, 26.176817308949826, 13.26677028704167, 9.16738037406672, 9.98937899108747, 14.905658126349019, 10.787906031534355, 11.942703290651501, 19.935419005497124, 9.904185387585432, 10.688378522620686, 10.977120583983059, 10.589060370987957, 9.948062903892673, 4.433200122072038, 4.433198790931013, 4.43319113687012, 4.433179489386152, 4.433129571597717, 4.433128906027204, 4.433077989883, 4.433048371995195, 4.432917920174751, 4.432915257892701, 4.9479763169543745, 4.4330836472323565, 4.433246712007911, 4.433207110562419, 4.4331814860976895, 4.43255917766853, 23.601814578654178, 4.433164181264365, 3.6922341147352844, 3.6919459227033853, 4.432512587732657, 6.554792654735091, 2.6621868732945915, 8.774675309538608, 8.77482905632699, 4.433256362780342, 3.6928051742349832, 1.9556385155134026, 1.9555905944365048, 4.433088306225943, 4.432960183902293, 11.925090766684667, 22.473752428479923, 7.196425923723595, 39.686601245580775, 40.41933580960457, 21.31928842721703, 18.85181886633897, 29.848595842769672, 71.52740404453046, 74.45152685857792, 10.319052480833028, 52.97861943251884, 38.50042946510384, 17.747521576882953, 30.00359124143151, 11.736744960784007, 28.2708396447044, 8.775002770230744, 10.162923615588452, 13.634377009424158, 9.804931872905474, 10.485608839296463, 13.408678055222685, 5.569433481427879, 6.297219528691456, 7.793026691838414, 12.413595562298807, 10.334270750600641, 10.578461915920565, 9.033340636793206, 8.46378998544617, 10.533539714532685, 21.019680469603763, 5.630705420596377, 5.321731978386537, 5.32169068187202, 5.321654694909371, 5.3215844908346925, 5.321563252627227, 5.321544374220591, 5.321504257606489, 5.321433463581604, 5.321340251448838, 5.321336121797386, 5.3214358233824335, 6.248370308816931, 5.630521946081883, 6.067207219234777, 5.320108435415832, 54.827008363900475, 5.319796351756129, 5.630392746986467, 28.05835043602554, 8.01842151402244, 8.15006536309767, 2.3474307535650265, 1.654587625492941, 7.55910870066555, 6.376142314681138, 1.6014838475259876, 2.6564307435341985, 23.891654830955503, 16.363533854882707, 7.55886800098094, 10.11570276055532, 22.4684660300785, 14.283162941094119, 17.85545539462053, 14.581538517778615, 32.17797509394927, 14.090361313820807, 37.65887209858524, 39.0693038161779, 19.903065193492985, 23.081580042399334, 21.32222581435401, 7.868187154012303, 9.433601150884076, 19.096224511973666, 8.358170888700586, 8.6243812001784, 9.613979606690416, 9.36107798194085, 7.7499481535491235, 9.308138800081755, 8.118321322339058, 5.337542303814654, 5.337509236415646, 5.337505175506996, 5.337499954338731, 5.337440200968593, 5.33743672018975, 5.337419316295535, 5.337401332271512, 5.337386829026333, 5.33735260136771, 5.337347960329254, 5.337339838511953, 5.337325335266774, 5.337312572411016, 5.337191905411125, 5.337113007757351, 5.336958693228644, 5.336773631820159, 5.336249774604288, 5.337359562925396, 6.085555295747057, 5.3373131525408235, 4.8870227776461865, 5.646736987789136, 8.84854358924685, 5.337325335266774, 3.850526025920044, 5.337439040708978, 5.337277764622586, 1.6063389719895536, 26.885739989009117, 15.790092598193796, 9.075981159627185, 18.448129028149317, 12.114086151968893, 38.671787100477346, 44.004284595488876, 17.651647931217585, 10.56495276503685, 37.441965281226956, 10.875061153457619, 22.3572188680379, 11.631669928742806, 12.114971430054629, 11.62354114988479, 10.136481652319546, 16.486125379274288, 6.693449535354574, 8.338741758343668, 13.311739773411906, 8.200337869728765, 13.318943825357298, 7.58212892214983, 7.206295887485765, 6.085744998194001, 13.670891175470903, 6.085584302237416, 6.26709763682285, 7.1260453710008305, 6.5760016757639415, 7.015292789514704, 6.586998616388587, 6.577642282858608], \"Total\": [111.0, 598.0, 76.0, 437.0, 305.0, 113.0, 195.0, 314.0, 172.0, 72.0, 290.0, 86.0, 494.0, 89.0, 45.0, 42.0, 81.0, 288.0, 73.0, 95.0, 65.0, 108.0, 48.0, 74.0, 74.0, 67.0, 124.0, 50.0, 44.0, 30.0, 11.29290970149108, 5.780117509094903, 5.7801185130908905, 5.780116102408501, 5.780122778157532, 5.780122725394004, 5.780121361407619, 5.780121235602664, 5.780116493447074, 5.780121483578946, 5.780120190148448, 5.780122451801975, 5.780123043974894, 5.7801238882540344, 5.780116881022583, 5.780118603366615, 5.780131386537668, 5.780124329163468, 5.780115028104774, 5.780132586716664, 5.780143133891087, 5.780120779646053, 6.037543652637447, 6.0900420786616625, 6.104820856463088, 6.104817907845979, 6.795285874446054, 6.477086478138752, 6.510461655257634, 6.564008166710946, 8.293620049138559, 86.4182835954208, 172.55920989157593, 60.39559210910266, 74.63754945639725, 74.26128646486872, 21.807994987861715, 21.06732661199211, 71.59986065279173, 85.26327496311205, 494.1573931868974, 97.6770322831691, 15.52484656129518, 31.993838781615125, 16.472070431943518, 314.0058432960119, 598.620748574436, 145.2229753443536, 305.52419990093557, 124.02970391202221, 80.16775708146677, 63.075233932494385, 22.117764036516533, 14.186302101916581, 23.885877332628663, 38.52041839605046, 30.54934445210773, 29.25707461880179, 79.66037980027143, 89.98831191999005, 95.36802058020626, 195.85323266181854, 288.3371913258698, 64.78533086613552, 113.80127337536304, 290.8649091865187, 158.55222347671167, 9.150681198952885, 6.439746447203249, 6.245441750998314, 11.330763912297753, 4.050533696045236, 7.281342532443534, 3.889856967509421, 3.729094013812132, 3.72909771204791, 3.7291046507195644, 3.729105039066292, 3.7291113695990727, 3.7291144330360426, 3.729120297900112, 3.729123268889436, 3.7291231631284045, 3.729130639990085, 3.7291293216335464, 3.7291323889804784, 3.7291336516479743, 3.7291352804612683, 3.729143196362858, 3.72914388607828, 3.72914219970251, 3.729144534985632, 3.7291491973760214, 3.729149457384654, 3.7291550417051433, 3.7291548903365284, 3.7291581046552187, 33.301341402591476, 8.772233379369565, 50.57315312484265, 8.058691984039779, 4.586766617891421, 108.54330222424194, 20.734376382615785, 79.66037980027143, 598.620748574436, 25.121313513463527, 26.38616590795087, 10.720277550694501, 288.3371913258698, 314.0058432960119, 45.939094319529346, 33.05365502237859, 87.57016211776387, 30.54934445210773, 290.8649091865187, 18.807059498054766, 11.957125825667465, 54.02549511481589, 55.18463305277807, 437.2742564247067, 29.137342069738626, 494.1573931868974, 36.73024654941507, 69.20850100673174, 64.78533086613552, 40.36715455488455, 61.55938193004795, 56.07327282303741, 158.55222347671167, 124.02970391202221, 145.2229753443536, 97.6770322831691, 17.449169608093307, 23.483240983152967, 6.495384591196544, 6.495385181988938, 6.495378233975231, 6.495374977295736, 6.495365166462421, 6.495359478957123, 6.495347981796547, 6.49535324297976, 6.495330243492926, 6.495306189963866, 6.4952746438546205, 6.495189067223652, 7.416546331628873, 6.7671296427408905, 6.817081948013127, 8.610161867144779, 7.051882058170019, 7.806213015702262, 7.481523456482142, 15.293113885241329, 8.729418769521248, 10.137388523657817, 8.576226515926036, 11.346110749667941, 35.63762343302866, 3.224097843739505, 14.13442382293733, 9.425016323025492, 10.244884625379283, 35.30067394979141, 81.67258530983298, 44.63287567963273, 45.29863946602226, 125.28102746467788, 34.811206862870584, 305.52419990093557, 494.1573931868974, 437.2742564247067, 67.49462207769052, 314.0058432960119, 17.29398142396354, 73.83629327958849, 71.2726545982111, 21.209861982993353, 87.57016211776387, 21.390685147380132, 172.55920989157593, 72.1790999583624, 56.07327282303741, 86.4182835954208, 51.2064501997462, 97.6770322831691, 598.620748574436, 108.54330222424194, 158.55222347671167, 82.52871924762228, 145.2229753443536, 113.80127337536304, 17.010003842700417, 7.908633166599618, 7.908564003095637, 8.069195572802734, 8.190667215238841, 8.216934053728036, 8.391059223587467, 11.383001102807013, 8.526593927004356, 4.962865890344557, 8.564567661643958, 9.223833208808369, 10.832414448633786, 3.060929942575598, 12.4123657155553, 6.538762857587472, 3.512343637990962, 10.598731852442649, 2.413154036702122, 2.4131374583818714, 2.413118215938814, 24.389218532602325, 12.015209651083678, 13.685771294921551, 3.100875184871062, 2.0046729372748167, 2.004671393088083, 2.0046716456102827, 2.0046703463943487, 2.0046689194290175, 25.13462964795478, 4.198270768889119, 2.7378393622888386, 2.7378493543399824, 14.598277466839903, 13.189050364568038, 12.254946807676165, 15.226940365353427, 49.262965756719986, 54.469346444658456, 33.842782368832715, 14.987686239630303, 437.2742564247067, 71.2726545982111, 44.68678435754651, 158.55222347671167, 288.3371913258698, 56.28106490682563, 44.626255900102834, 63.892842631093615, 41.93641743232735, 41.924554328474905, 305.52419990093557, 290.8649091865187, 145.2229753443536, 89.98831191999005, 195.85323266181854, 95.36802058020626, 38.34590648283378, 48.22418215865918, 97.6770322831691, 85.26327496311205, 598.620748574436, 74.63754945639725, 125.28102746467788, 74.26128646486872, 5.87457209385534, 5.602777609738564, 5.602778067122088, 5.602779539365269, 5.602779636561963, 5.602785217324194, 5.60278768302036, 5.602784279540554, 5.602784137620711, 5.6027880152677785, 12.964783951967435, 30.160837973329137, 6.46773171463421, 5.860237448409301, 5.885139081888417, 6.283041700059524, 6.248926965709814, 6.3833492512633105, 6.805983874621895, 5.636832242768394, 9.676965389657548, 2.3307674902897806, 3.6684427315731876, 9.247777604634715, 73.83629327958849, 10.600929477826023, 2.3630367868856164, 1.8338396517216649, 6.019880066705576, 2.3879118506121957, 46.04063056691584, 9.693864749514441, 9.944805749439595, 48.22418215865918, 65.69489645059433, 22.512879117302344, 124.02970391202221, 60.791789844714344, 31.15411342192881, 64.78533086613552, 54.45783226801323, 598.620748574436, 437.2742564247067, 290.8649091865187, 494.1573931868974, 113.80127337536304, 69.20850100673174, 56.28106490682563, 44.05917150699096, 25.49367095631326, 195.85323266181854, 25.731171034950908, 54.6734292911684, 26.862565555766572, 34.171819805778554, 31.52589473009447, 81.67258530983298, 36.73024654941507, 63.075233932494385, 288.3371913258698, 158.55222347671167, 145.2229753443536, 50.675416464279444, 40.898517677169934, 8.58266508928798, 8.907428368019312, 15.127149054931525, 5.024792866079372, 5.024860228176952, 4.800558312747666, 4.800563996054316, 4.80056769461128, 4.800570150625317, 4.800573753201149, 4.800572127938594, 4.800578008993817, 4.800577833977327, 4.80057668813243, 4.8005777380085775, 4.800579830238621, 4.800580508092632, 4.800591013941735, 4.800590662832515, 4.800593144523631, 4.800591602707026, 4.800593434967825, 4.800601554213757, 4.800594399998307, 4.800595303585829, 4.800609100514273, 4.8006204904725385, 4.800626451578737, 4.800626736670067, 4.800632783333146, 72.1790999583624, 113.80127337536304, 17.252327125744532, 6.424158281835035, 31.78861579785956, 305.52419990093557, 67.49462207769052, 158.55222347671167, 80.16775708146677, 82.52871924762228, 45.939094319529346, 17.004767476640364, 31.383846337162264, 5.307164573268627, 6.087981605409718, 25.69817268417261, 494.1573931868974, 21.995138510503182, 27.886608097944972, 22.512879117302344, 41.93641743232735, 56.07327282303741, 598.620748574436, 44.05917150699096, 11.76434490293574, 33.842782368832715, 437.2742564247067, 49.146785465663115, 108.54330222424194, 145.2229753443536, 36.71128508144447, 288.3371913258698, 61.55938193004795, 50.57315312484265, 63.075233932494385, 6.445220906539103, 6.4452182970018566, 6.445213150302911, 6.445217663071292, 6.445204332531183, 6.44520254600795, 6.445199200465591, 6.445194198782539, 6.445149393274771, 6.445145402604041, 6.991167007341546, 6.7550735322221485, 21.956122930562223, 8.166384882144552, 3.670346444012554, 3.670339287299116, 7.733700036464395, 8.303117960467386, 19.637187905518, 18.698516408359446, 12.715633918453024, 2.1169352937851142, 111.9212896605951, 9.074019944224235, 10.751133154974465, 2.3991854909667185, 3.0584977426582896, 1.7952111244217264, 1.7952104413812988, 1.795210661736344, 3.8224668359114005, 40.47125389261994, 14.123594851833074, 11.862928019524269, 12.68292711259479, 6.758772059827846, 65.69489645059433, 12.373048944562608, 195.85323266181854, 21.654182139917918, 54.45783226801323, 290.8649091865187, 25.601255348649964, 34.811206862870584, 437.2742564247067, 18.875849557285385, 34.171819805778554, 598.620748574436, 69.20850100673174, 125.28102746467788, 82.52871924762228, 305.52419990093557, 288.3371913258698, 314.0058432960119, 67.49462207769052, 27.979662634626152, 36.28918637480383, 124.02970391202221, 51.2064501997462, 74.26128646486872, 494.1573931868974, 40.898517677169934, 63.892842631093615, 74.63754945639725, 172.55920989157593, 145.2229753443536, 5.360515538465146, 5.360514833162338, 5.360512611291491, 5.360515633120766, 5.360522358457864, 5.360526985099518, 5.360527703929637, 5.360529701318288, 5.3605398919894265, 5.360540865579967, 6.283810314869487, 5.6695296842990945, 5.685207307586571, 5.6852112326431925, 5.956995852481748, 6.0907791243545, 33.38175073497648, 6.446798052564239, 5.450197356588328, 5.4501606891030185, 6.818822573982512, 10.152380570850399, 4.138190574133888, 14.774145402735751, 14.934942504115448, 7.662221883348117, 6.557820440733107, 3.5390179645456037, 3.5390223819186937, 8.071353104126056, 8.200284569492695, 23.085082626905248, 44.68678435754651, 13.689665695024493, 89.98831191999005, 95.36802058020626, 50.675416464279444, 44.626255900102834, 111.9212896605951, 494.1573931868974, 598.620748574436, 25.265119644280105, 437.2742564247067, 290.8649091865187, 71.2726545982111, 288.3371913258698, 42.051827091018836, 305.52419990093557, 25.49367095631326, 35.878217289094174, 71.59986065279173, 40.36715455488455, 49.146785465663115, 158.55222347671167, 11.195055307253872, 18.03069046213147, 41.924554328474905, 314.0058432960119, 145.2229753443536, 172.55920989157593, 113.80127337536304, 125.28102746467788, 11.8514026020963, 24.227464787336135, 6.539728708171463, 6.230722658640541, 6.230719327983392, 6.230714168898268, 6.230715724088159, 6.230711975522027, 6.230709223746334, 6.230704872663088, 6.230706516029131, 6.230693223251513, 6.230696892663268, 6.555393029999745, 7.7223028465741725, 7.107050241436401, 8.014041139278637, 7.194384131260479, 76.9181880690847, 7.630494575820181, 8.1144654429311, 42.051827091018836, 12.786542055939583, 13.409726779656518, 3.889370251597268, 2.8209500543497783, 13.128407041898978, 11.07806801017994, 2.7928034234720056, 4.681767874218941, 45.0120616897005, 31.350014287632995, 14.119016215819922, 21.240449133641196, 54.6734292911684, 32.24256841977561, 47.7518387729069, 40.898517677169934, 288.3371913258698, 51.71416871047464, 437.2742564247067, 598.620748574436, 195.85323266181854, 290.8649091865187, 314.0058432960119, 20.550242875927562, 38.34590648283378, 494.1573931868974, 38.939033041724535, 49.262965756719986, 85.26327496311205, 87.57016211776387, 33.71807669120437, 145.2229753443536, 125.28102746467788, 6.246193117085627, 6.2461894943570035, 6.24618833329237, 6.246186806321678, 6.246175489587918, 6.246180829637898, 6.246182806371003, 6.246180005330774, 6.246174139211329, 6.246170992359649, 6.246180036178265, 6.246170834378561, 6.246174687164277, 6.246171468495619, 6.246162762828079, 6.246158441145228, 6.246148313791181, 6.2461419836172585, 6.2461040560521255, 6.7421780305449905, 7.740408406153806, 6.879872607545213, 6.5020662145058346, 7.548057681526188, 12.277889728734234, 7.446662210169659, 5.441090510981196, 7.682964185367324, 7.948675162793519, 2.5149421437990456, 48.09536100583775, 31.383846337162264, 15.994384830350924, 45.0120616897005, 25.265119644280105, 195.85323266181854, 314.0058432960119, 60.791789844714344, 25.731171034950908, 494.1573931868974, 31.52589473009447, 290.8649091865187, 51.71416871047464, 61.55938193004795, 55.18463305277807, 40.47125389261994, 172.55920989157593, 12.583375599675897, 25.69817268417261, 124.02970391202221, 26.38616590795087, 145.2229753443536, 21.944176245235923, 19.808198253151247, 11.101215331545443, 598.620748574436, 12.065025366676768, 14.777697040347803, 35.878217289094174, 25.628028678592273, 60.39559210910266, 38.939033041724535, 79.66037980027143], \"Category\": [\"Default\", \"Default\", \"Default\", \"Default\", \"Default\", \"Default\", \"Default\", \"Default\", \"Default\", \"Default\", \"Default\", \"Default\", \"Default\", \"Default\", \"Default\", \"Default\", \"Default\", \"Default\", \"Default\", \"Default\", \"Default\", \"Default\", \"Default\", \"Default\", \"Default\", \"Default\", \"Default\", \"Default\", \"Default\", \"Default\", \"Topic1\", \"Topic1\", \"Topic1\", \"Topic1\", \"Topic1\", \"Topic1\", \"Topic1\", \"Topic1\", \"Topic1\", \"Topic1\", \"Topic1\", \"Topic1\", \"Topic1\", \"Topic1\", \"Topic1\", \"Topic1\", \"Topic1\", \"Topic1\", \"Topic1\", \"Topic1\", \"Topic1\", \"Topic1\", \"Topic1\", \"Topic1\", \"Topic1\", \"Topic1\", \"Topic1\", \"Topic1\", \"Topic1\", \"Topic1\", \"Topic1\", \"Topic1\", \"Topic1\", \"Topic1\", \"Topic1\", \"Topic1\", \"Topic1\", \"Topic1\", \"Topic1\", \"Topic1\", \"Topic1\", \"Topic1\", \"Topic1\", \"Topic1\", \"Topic1\", \"Topic1\", \"Topic1\", \"Topic1\", \"Topic1\", \"Topic1\", \"Topic1\", \"Topic1\", \"Topic1\", \"Topic1\", \"Topic1\", \"Topic1\", \"Topic1\", \"Topic1\", \"Topic1\", \"Topic1\", \"Topic1\", \"Topic1\", \"Topic1\", \"Topic1\", \"Topic1\", \"Topic1\", \"Topic1\", \"Topic2\", \"Topic2\", \"Topic2\", \"Topic2\", \"Topic2\", \"Topic2\", \"Topic2\", \"Topic2\", \"Topic2\", \"Topic2\", \"Topic2\", \"Topic2\", \"Topic2\", \"Topic2\", \"Topic2\", \"Topic2\", \"Topic2\", \"Topic2\", \"Topic2\", \"Topic2\", \"Topic2\", \"Topic2\", \"Topic2\", \"Topic2\", \"Topic2\", \"Topic2\", \"Topic2\", \"Topic2\", \"Topic2\", \"Topic2\", \"Topic2\", \"Topic2\", \"Topic2\", \"Topic2\", \"Topic2\", \"Topic2\", \"Topic2\", \"Topic2\", \"Topic2\", \"Topic2\", \"Topic2\", \"Topic2\", \"Topic2\", \"Topic2\", \"Topic2\", \"Topic2\", \"Topic2\", \"Topic2\", \"Topic2\", \"Topic2\", \"Topic2\", \"Topic2\", \"Topic2\", \"Topic2\", \"Topic2\", \"Topic2\", \"Topic2\", \"Topic2\", \"Topic2\", \"Topic2\", \"Topic2\", \"Topic2\", \"Topic2\", \"Topic2\", \"Topic2\", \"Topic2\", \"Topic3\", \"Topic3\", \"Topic3\", \"Topic3\", \"Topic3\", \"Topic3\", \"Topic3\", \"Topic3\", \"Topic3\", \"Topic3\", \"Topic3\", \"Topic3\", \"Topic3\", \"Topic3\", \"Topic3\", \"Topic3\", \"Topic3\", \"Topic3\", \"Topic3\", \"Topic3\", \"Topic3\", \"Topic3\", \"Topic3\", \"Topic3\", \"Topic3\", \"Topic3\", \"Topic3\", \"Topic3\", \"Topic3\", \"Topic3\", \"Topic3\", \"Topic3\", \"Topic3\", \"Topic3\", \"Topic3\", \"Topic3\", \"Topic3\", \"Topic3\", \"Topic3\", \"Topic3\", \"Topic3\", \"Topic3\", \"Topic3\", \"Topic3\", \"Topic3\", \"Topic3\", \"Topic3\", \"Topic3\", \"Topic3\", \"Topic3\", \"Topic3\", \"Topic3\", \"Topic3\", \"Topic3\", \"Topic3\", \"Topic3\", \"Topic3\", \"Topic3\", \"Topic3\", \"Topic3\", \"Topic4\", \"Topic4\", \"Topic4\", \"Topic4\", \"Topic4\", \"Topic4\", \"Topic4\", \"Topic4\", \"Topic4\", \"Topic4\", \"Topic4\", \"Topic4\", \"Topic4\", \"Topic4\", \"Topic4\", \"Topic4\", \"Topic4\", \"Topic4\", \"Topic4\", \"Topic4\", \"Topic4\", \"Topic4\", \"Topic4\", \"Topic4\", \"Topic4\", \"Topic4\", \"Topic4\", \"Topic4\", \"Topic4\", \"Topic4\", \"Topic4\", \"Topic4\", \"Topic4\", \"Topic4\", \"Topic4\", \"Topic4\", \"Topic4\", \"Topic4\", \"Topic4\", \"Topic4\", \"Topic4\", \"Topic4\", \"Topic4\", \"Topic4\", \"Topic4\", \"Topic4\", \"Topic4\", \"Topic4\", \"Topic4\", \"Topic4\", \"Topic4\", \"Topic4\", \"Topic4\", \"Topic4\", \"Topic4\", \"Topic4\", \"Topic4\", \"Topic4\", \"Topic4\", \"Topic4\", \"Topic4\", \"Topic4\", \"Topic4\", \"Topic4\", \"Topic4\", \"Topic4\", \"Topic5\", \"Topic5\", \"Topic5\", \"Topic5\", \"Topic5\", \"Topic5\", \"Topic5\", \"Topic5\", \"Topic5\", \"Topic5\", \"Topic5\", \"Topic5\", \"Topic5\", \"Topic5\", \"Topic5\", \"Topic5\", \"Topic5\", \"Topic5\", \"Topic5\", \"Topic5\", \"Topic5\", \"Topic5\", \"Topic5\", \"Topic5\", \"Topic5\", \"Topic5\", \"Topic5\", \"Topic5\", \"Topic5\", \"Topic5\", \"Topic5\", \"Topic5\", \"Topic5\", \"Topic5\", \"Topic5\", \"Topic5\", \"Topic5\", \"Topic5\", \"Topic5\", \"Topic5\", \"Topic5\", \"Topic5\", \"Topic5\", \"Topic5\", \"Topic5\", \"Topic5\", \"Topic5\", \"Topic5\", \"Topic5\", \"Topic5\", \"Topic5\", \"Topic5\", \"Topic5\", \"Topic5\", \"Topic5\", \"Topic5\", \"Topic5\", \"Topic5\", \"Topic5\", \"Topic5\", \"Topic5\", \"Topic5\", \"Topic5\", \"Topic5\", \"Topic6\", \"Topic6\", \"Topic6\", \"Topic6\", \"Topic6\", \"Topic6\", \"Topic6\", \"Topic6\", \"Topic6\", \"Topic6\", \"Topic6\", \"Topic6\", \"Topic6\", \"Topic6\", \"Topic6\", \"Topic6\", \"Topic6\", \"Topic6\", \"Topic6\", \"Topic6\", \"Topic6\", \"Topic6\", \"Topic6\", \"Topic6\", \"Topic6\", \"Topic6\", \"Topic6\", \"Topic6\", \"Topic6\", \"Topic6\", \"Topic6\", \"Topic6\", \"Topic6\", \"Topic6\", \"Topic6\", \"Topic6\", \"Topic6\", \"Topic6\", \"Topic6\", \"Topic6\", \"Topic6\", \"Topic6\", \"Topic6\", \"Topic6\", \"Topic6\", \"Topic6\", \"Topic6\", \"Topic6\", \"Topic6\", \"Topic6\", \"Topic6\", \"Topic6\", \"Topic6\", \"Topic6\", \"Topic6\", \"Topic6\", \"Topic6\", \"Topic6\", \"Topic6\", \"Topic6\", \"Topic6\", \"Topic6\", \"Topic6\", \"Topic6\", \"Topic6\", \"Topic7\", \"Topic7\", \"Topic7\", \"Topic7\", \"Topic7\", \"Topic7\", \"Topic7\", \"Topic7\", \"Topic7\", \"Topic7\", \"Topic7\", \"Topic7\", \"Topic7\", \"Topic7\", \"Topic7\", \"Topic7\", \"Topic7\", \"Topic7\", \"Topic7\", \"Topic7\", \"Topic7\", \"Topic7\", \"Topic7\", \"Topic7\", \"Topic7\", \"Topic7\", \"Topic7\", \"Topic7\", \"Topic7\", \"Topic7\", \"Topic7\", \"Topic7\", \"Topic7\", \"Topic7\", \"Topic7\", \"Topic7\", \"Topic7\", \"Topic7\", \"Topic7\", \"Topic7\", \"Topic7\", \"Topic7\", \"Topic7\", \"Topic7\", \"Topic7\", \"Topic7\", \"Topic7\", \"Topic7\", \"Topic7\", \"Topic7\", \"Topic7\", \"Topic7\", \"Topic7\", \"Topic7\", \"Topic7\", \"Topic7\", \"Topic7\", \"Topic7\", \"Topic7\", \"Topic7\", \"Topic7\", \"Topic7\", \"Topic7\", \"Topic7\", \"Topic7\", \"Topic7\", \"Topic8\", \"Topic8\", \"Topic8\", \"Topic8\", \"Topic8\", \"Topic8\", \"Topic8\", \"Topic8\", \"Topic8\", \"Topic8\", \"Topic8\", \"Topic8\", \"Topic8\", \"Topic8\", \"Topic8\", \"Topic8\", \"Topic8\", \"Topic8\", \"Topic8\", \"Topic8\", \"Topic8\", \"Topic8\", \"Topic8\", \"Topic8\", \"Topic8\", \"Topic8\", \"Topic8\", \"Topic8\", \"Topic8\", \"Topic8\", \"Topic8\", \"Topic8\", \"Topic8\", \"Topic8\", \"Topic8\", \"Topic8\", \"Topic8\", \"Topic8\", \"Topic8\", \"Topic8\", \"Topic8\", \"Topic8\", \"Topic8\", \"Topic8\", \"Topic8\", \"Topic8\", \"Topic8\", \"Topic8\", \"Topic8\", \"Topic8\", \"Topic8\", \"Topic8\", \"Topic8\", \"Topic8\", \"Topic8\", \"Topic8\", \"Topic8\", \"Topic8\", \"Topic8\", \"Topic8\", \"Topic8\", \"Topic8\", \"Topic9\", \"Topic9\", \"Topic9\", \"Topic9\", \"Topic9\", \"Topic9\", \"Topic9\", \"Topic9\", \"Topic9\", \"Topic9\", \"Topic9\", \"Topic9\", \"Topic9\", \"Topic9\", \"Topic9\", \"Topic9\", \"Topic9\", \"Topic9\", \"Topic9\", \"Topic9\", \"Topic9\", \"Topic9\", \"Topic9\", \"Topic9\", \"Topic9\", \"Topic9\", \"Topic9\", \"Topic9\", \"Topic9\", \"Topic9\", \"Topic9\", \"Topic9\", \"Topic9\", \"Topic9\", \"Topic9\", \"Topic9\", \"Topic9\", \"Topic9\", \"Topic9\", \"Topic9\", \"Topic9\", \"Topic9\", \"Topic9\", \"Topic9\", \"Topic9\", \"Topic9\", \"Topic9\", \"Topic9\", \"Topic9\", \"Topic9\", \"Topic9\", \"Topic9\", \"Topic9\", \"Topic9\", \"Topic9\", \"Topic10\", \"Topic10\", \"Topic10\", \"Topic10\", \"Topic10\", \"Topic10\", \"Topic10\", \"Topic10\", \"Topic10\", \"Topic10\", \"Topic10\", \"Topic10\", \"Topic10\", \"Topic10\", \"Topic10\", \"Topic10\", \"Topic10\", \"Topic10\", \"Topic10\", \"Topic10\", \"Topic10\", \"Topic10\", \"Topic10\", \"Topic10\", \"Topic10\", \"Topic10\", \"Topic10\", \"Topic10\", \"Topic10\", \"Topic10\", \"Topic10\", \"Topic10\", \"Topic10\", \"Topic10\", \"Topic10\", \"Topic10\", \"Topic10\", \"Topic10\", \"Topic10\", \"Topic10\", \"Topic10\", \"Topic10\", \"Topic10\", \"Topic10\", \"Topic10\", \"Topic10\", \"Topic10\", \"Topic10\", \"Topic10\", \"Topic10\", \"Topic10\", \"Topic10\", \"Topic10\", \"Topic10\", \"Topic10\", \"Topic10\", \"Topic10\", \"Topic10\", \"Topic10\", \"Topic10\", \"Topic10\", \"Topic10\", \"Topic10\"], \"logprob\": [30.0, 29.0, 28.0, 27.0, 26.0, 25.0, 24.0, 23.0, 22.0, 21.0, 20.0, 19.0, 18.0, 17.0, 16.0, 15.0, 14.0, 13.0, 12.0, 11.0, 10.0, 9.0, 8.0, 7.0, 6.0, 5.0, 4.0, 3.0, 2.0, 1.0, -5.3415, -6.0261, -6.0261, -6.0261, -6.0261, -6.0261, -6.0261, -6.0261, -6.0261, -6.0261, -6.0261, -6.0261, -6.0261, -6.0261, -6.0262, -6.0262, -6.0262, -6.0262, -6.0262, -6.0262, -6.0262, -6.0265, -6.0263, -6.0261, -6.0261, -6.0261, -5.9697, -6.0261, -6.0261, -6.0261, -5.798, -3.5448, -3.0855, -4.0294, -3.8481, -3.854, -4.9368, -4.9773, -4.0494, -3.9977, -2.706, -3.9904, -5.3433, -4.9029, -5.3434, -3.4837, -3.4281, -4.2232, -3.861, -4.357, -4.6151, -4.7726, -5.3716, -5.5901, -5.3434, -5.1812, -5.2863, -5.3144, -4.9094, -4.8841, -4.8841, -4.652, -4.6598, -5.0877, -5.1959, -5.1463, -5.2245, -5.4176, -5.8196, -5.8558, -5.327, -6.3925, -5.8093, -6.4459, -6.5023, -6.5023, -6.5023, -6.5023, -6.5023, -6.5023, -6.5023, -6.5023, -6.5023, -6.5023, -6.5023, -6.5023, -6.5023, -6.5024, -6.5024, -6.5024, -6.5024, -6.5024, -6.5024, -6.5024, -6.5024, -6.5024, -6.5024, -4.3273, -5.6765, -4.0076, -5.7907, -6.3215, -3.5776, -5.0299, -3.9018, -2.2104, -4.9095, -4.8952, -5.6472, -3.0506, -3.024, -4.568, -4.8978, -4.1947, -4.9636, -3.4254, -5.3791, -5.6978, -4.7044, -4.7181, -3.3939, -5.1576, -3.4438, -5.0605, -4.7158, -4.7548, -5.0123, -4.9527, -5.0472, -4.7168, -4.8208, -4.9761, -5.1362, -4.6573, -4.3713, -5.7421, -5.7421, -5.7421, -5.7421, -5.7421, -5.7421, -5.7421, -5.7421, -5.7421, -5.7422, -5.7422, -5.7423, -5.6322, -5.7421, -5.7421, -5.5139, -5.7421, -5.6857, -5.7421, -5.0304, -5.6112, -5.514, -5.686, -5.434, -4.3145, -6.7391, -5.2733, -5.6857, -5.611, -4.4232, -3.6182, -4.2606, -4.2606, -3.555, -4.556, -3.0891, -3.366, -3.4351, -4.4633, -3.6508, -5.2396, -4.556, -4.6485, -5.2051, -4.582, -5.2241, -4.3336, -4.7484, -4.8687, -4.7225, -4.9217, -4.6926, -4.0588, -4.6573, -4.5643, -4.8753, -4.9508, -5.0304, -4.6339, -5.464, -5.464, -5.464, -5.4641, -5.4643, -5.464, -5.1726, -5.464, -6.0067, -5.4641, -5.4075, -5.3542, -6.6322, -5.285, -5.9335, -6.5578, -5.464, -6.9834, -6.9834, -6.9834, -4.7186, -5.4641, -5.3542, -6.8389, -7.2917, -7.2917, -7.2917, -7.2917, -7.2917, -4.7812, -6.5577, -6.9834, -6.9834, -5.3541, -5.464, -5.5477, -5.3541, -4.2777, -4.2557, -4.6857, -5.4641, -2.8001, -4.3143, -4.6695, -3.8012, -3.4616, -4.5344, -4.6968, -4.4813, -4.7899, -4.7926, -3.8495, -3.9405, -4.2739, -4.5015, -4.2116, -4.5015, -4.895, -4.8292, -4.6749, -4.744, -4.396, -5.0359, -5.0226, -5.0935, -5.7209, -5.7772, -5.7772, -5.7772, -5.7772, -5.7772, -5.7772, -5.7772, -5.7772, -5.7772, -4.962, -4.118, -5.6674, -5.7773, -5.7773, -5.7208, -5.7772, -5.7773, -5.7209, -5.9261, -5.4504, -6.978, -6.5957, -5.7209, -3.6771, -5.646, -7.1521, -7.413, -6.2245, -7.1521, -4.2207, -5.7772, -5.7772, -4.3178, -4.1165, -5.0944, -3.6812, -4.2841, -4.8313, -4.3599, -4.541, -3.1235, -3.4468, -3.6764, -3.4224, -4.29, -4.5802, -4.7105, -4.8296, -5.0944, -4.1829, -5.0944, -4.7869, -5.0944, -5.0101, -5.0655, -4.7076, -5.026, -4.8598, -4.5131, -4.7297, -4.8105, -4.98, -5.0252, -5.2594, -5.2594, -4.7819, -5.8858, -5.8858, -5.9422, -5.9422, -5.9422, -5.9422, -5.9422, -5.9422, -5.9422, -5.9422, -5.9422, -5.9422, -5.9422, -5.9422, -5.9422, -5.9422, -5.9422, -5.9422, -5.9422, -5.9422, -5.9422, -5.9422, -5.9422, -5.9422, -5.9422, -5.9422, -5.9423, -3.488, -3.213, -4.838, -5.7141, -4.5282, -3.0336, -4.1387, -3.6687, -4.1154, -4.1291, -4.5568, -5.191, -4.8546, -5.8858, -5.8111, -5.0526, -3.6153, -5.2415, -5.1536, -5.2594, -5.0061, -4.8979, -3.9333, -5.0217, -5.5675, -5.1751, -4.2542, -5.0966, -4.8574, -4.7826, -5.2707, -4.8163, -5.175, -5.2305, -5.2555, -5.5642, -5.5642, -5.5642, -5.5642, -5.5642, -5.5642, -5.5642, -5.5642, -5.5643, -5.5643, -5.5077, -5.5643, -4.3952, -5.433, -6.2589, -6.259, -5.5642, -5.5077, -4.7238, -4.8814, -5.2727, -7.0835, -3.1273, -5.6744, -5.545, -7.0838, -6.8483, -7.3919, -7.3919, -7.3919, -6.6422, -4.3331, -5.382, -5.5643, -5.5013, -6.1067, -4.0042, -5.5642, -3.2291, -5.0903, -4.3878, -3.1852, -4.967, -4.8132, -3.2718, -5.2061, -4.8525, -3.2172, -4.4667, -4.159, -4.4007, -3.8354, -4.0305, -4.0114, -4.691, -5.0606, -4.9748, -4.5746, -4.8979, -4.7962, -4.2838, -4.9833, -4.9071, -4.8805, -4.9165, -4.9789, -5.7758, -5.7758, -5.7758, -5.7758, -5.7758, -5.7758, -5.7758, -5.7759, -5.7759, -5.7759, -5.666, -5.7758, -5.7758, -5.7758, -5.7758, -5.776, -4.1036, -5.7758, -5.9587, -5.9588, -5.776, -5.3847, -6.2858, -5.0931, -5.0931, -5.7758, -5.9586, -6.5942, -6.5942, -5.7758, -5.7759, -4.7863, -4.1526, -5.2914, -3.5839, -3.5656, -4.2053, -4.3283, -3.8688, -2.9949, -2.9548, -4.9309, -3.2951, -3.6143, -4.3887, -3.8636, -4.8022, -3.9231, -5.093, -4.9462, -4.6523, -4.9821, -4.9149, -4.669, -5.5476, -5.4248, -5.2117, -4.7461, -4.9295, -4.9061, -5.064, -5.1291, -4.7898, -4.0989, -5.4161, -5.4725, -5.4725, -5.4726, -5.4726, -5.4726, -5.4726, -5.4726, -5.4726, -5.4726, -5.4726, -5.4726, -5.312, -5.4161, -5.3414, -5.4728, -3.1402, -5.4729, -5.4162, -3.81, -5.0626, -5.0463, -6.291, -6.6408, -5.1216, -5.2918, -6.6734, -6.1674, -3.9708, -4.3493, -5.1216, -4.8302, -4.0322, -4.4853, -4.262, -4.4646, -3.6731, -4.4988, -3.5158, -3.479, -4.1535, -4.0053, -4.0846, -5.0815, -4.9001, -4.1948, -5.0211, -4.9897, -4.8811, -4.9078, -5.0966, -4.9134, -5.0502, -5.4528, -5.4528, -5.4528, -5.4528, -5.4528, -5.4528, -5.4528, -5.4528, -5.4528, -5.4528, -5.4528, -5.4528, -5.4528, -5.4528, -5.4528, -5.4529, -5.4529, -5.4529, -5.453, -5.4528, -5.3216, -5.4528, -5.541, -5.3965, -4.9473, -5.4528, -5.7793, -5.4528, -5.4528, -6.6536, -3.836, -4.3682, -4.9219, -4.2126, -4.6332, -3.4724, -3.3433, -4.2567, -4.77, -3.5048, -4.7411, -4.0204, -4.6738, -4.6331, -4.6745, -4.8114, -4.325, -5.2264, -5.0066, -4.5389, -5.0234, -4.5384, -5.1018, -5.1526, -5.3216, -4.5123, -5.3216, -5.2922, -5.1638, -5.2441, -5.1795, -5.2425, -5.2439], \"loglift\": [30.0, 29.0, 28.0, 27.0, 26.0, 25.0, 24.0, 23.0, 22.0, 21.0, 20.0, 19.0, 18.0, 17.0, 16.0, 15.0, 14.0, 13.0, 12.0, 11.0, 10.0, 9.0, 8.0, 7.0, 6.0, 5.0, 4.0, 3.0, 2.0, 1.0, 1.8913, 1.8765, 1.8765, 1.8765, 1.8765, 1.8765, 1.8765, 1.8765, 1.8765, 1.8765, 1.8764, 1.8764, 1.8764, 1.8764, 1.8764, 1.8764, 1.8764, 1.8764, 1.8764, 1.8764, 1.8764, 1.8761, 1.8327, 1.8242, 1.8218, 1.8218, 1.7711, 1.7626, 1.7575, 1.7493, 1.7435, 1.6531, 1.4208, 1.5266, 1.4963, 1.4954, 1.6379, 1.6319, 1.3365, 1.2136, 0.7482, 1.085, 1.5712, 1.2886, 1.5119, 0.4239, -0.1657, 0.4555, 0.074, 0.4795, 0.6578, 0.7401, 1.1891, 1.4147, 1.1404, 0.8246, 0.9513, 0.9665, 0.3698, 0.2732, 0.2152, -0.2723, -0.6669, 0.3982, -0.2733, -1.1621, -0.6336, 2.0256, 1.975, 1.9694, 1.9024, 1.8657, 1.8624, 1.8527, 1.8385, 1.8385, 1.8385, 1.8385, 1.8385, 1.8385, 1.8385, 1.8385, 1.8385, 1.8385, 1.8385, 1.8385, 1.8385, 1.8385, 1.8385, 1.8385, 1.8385, 1.8385, 1.8385, 1.8385, 1.8385, 1.8385, 1.8385, 1.8241, 1.8089, 1.726, 1.7796, 1.8124, 1.3922, 1.5953, 1.3774, 1.052, 1.5238, 1.4889, 1.6377, 0.9423, 0.8836, 1.2617, 1.2611, 0.9898, 1.2741, 0.5587, 1.3437, 1.4779, 0.9632, 0.9282, 0.1826, 1.1274, 0.0104, 0.9929, 0.7041, 0.7312, 0.9467, 0.5843, 0.5832, -0.1259, 0.0157, -0.2973, -0.0609, 2.1404, 2.1294, 2.0439, 2.0438, 2.0438, 2.0438, 2.0438, 2.0438, 2.0438, 2.0438, 2.0438, 2.0437, 2.0437, 2.0436, 2.0211, 2.0028, 1.9955, 1.9901, 1.9616, 1.9164, 1.9025, 1.8992, 1.8791, 1.8268, 1.822, 1.7942, 1.7692, 1.7473, 1.7351, 1.7279, 1.7192, 1.67, 1.6361, 1.5979, 1.5832, 1.2715, 1.5511, 0.8459, 0.0882, 0.1413, 0.9817, 0.2568, 1.567, 0.7991, 0.742, 1.3974, 0.6025, 1.37, 0.1727, 0.6294, 0.7616, 0.4754, 0.7995, 0.3828, -0.7964, 0.3126, 0.0267, 0.3685, -0.272, -0.1078, 2.1893, 2.1251, 2.125, 2.1049, 2.0899, 2.0865, 2.0659, 2.0523, 2.0498, 2.0484, 2.0453, 2.0277, 1.9203, 1.9061, 1.8533, 1.8457, 1.843, 1.8323, 1.7927, 1.7927, 1.7927, 1.7443, 1.7068, 1.6865, 1.6864, 1.6699, 1.6699, 1.6699, 1.6699, 1.6699, 1.6515, 1.6647, 1.6665, 1.6665, 1.622, 1.6136, 1.6034, 1.5798, 1.4821, 1.4036, 1.4495, 1.4856, 0.7764, 1.0762, 1.1878, 0.7897, 0.5313, 1.0923, 1.1618, 1.0185, 1.131, 1.1285, 0.0854, 0.0436, 0.4049, 0.6558, 0.1681, 0.5977, 1.1153, 0.952, 0.4004, 0.4672, -1.1336, 0.3085, -0.1961, 0.256, 2.1655, 2.1565, 2.1565, 2.1565, 2.1565, 2.1565, 2.1565, 2.1565, 2.1565, 2.1565, 2.1328, 2.1325, 2.1228, 2.1115, 2.1072, 2.0984, 2.0474, 2.026, 2.0183, 2.0016, 1.9369, 1.8328, 1.7615, 1.7117, 1.678, 1.65, 1.6449, 1.6376, 1.6374, 1.6344, 1.6068, 1.6083, 1.5827, 1.4633, 1.3555, 1.4485, 1.1553, 1.2654, 1.3867, 1.126, 1.1186, 0.1389, 0.1296, 0.3078, 0.0317, 0.6325, 0.8397, 0.9162, 1.0419, 1.3242, 0.1968, 1.3149, 0.8687, 1.2719, 1.1155, 1.1407, 0.5467, 1.0274, 0.6529, -0.5203, -0.1388, -0.1317, 0.7516, 0.9207, 2.2479, 2.2107, 2.1586, 2.1569, 2.1568, 2.1461, 2.1461, 2.1461, 2.1461, 2.1461, 2.1461, 2.1461, 2.1461, 2.1461, 2.1461, 2.1461, 2.1461, 2.1461, 2.1461, 2.1461, 2.1461, 2.1461, 2.1461, 2.1461, 2.146, 2.146, 2.146, 2.146, 2.146, 2.146, 1.8898, 1.7096, 1.9711, 2.0828, 1.6697, 0.9013, 1.3063, 0.9223, 1.1575, 1.1147, 1.2728, 1.6325, 1.3561, 2.1021, 2.0396, 1.358, -0.1611, 1.3247, 1.1753, 1.2835, 0.9148, 0.7324, -0.6709, 0.8497, 1.6244, 0.9602, -0.6777, 0.6656, 0.1125, -0.1038, 0.7832, -0.8235, 0.362, 0.5031, 0.2572, 2.2295, 2.2295, 2.2295, 2.2295, 2.2295, 2.2295, 2.2295, 2.2295, 2.2294, 2.2294, 2.2046, 2.1824, 2.1727, 2.124, 2.0978, 2.0978, 2.0472, 2.0326, 1.9558, 1.8471, 1.8415, 1.8235, 1.8119, 1.7772, 1.737, 1.6981, 1.6908, 1.68, 1.68, 1.68, 1.6739, 1.6233, 1.6272, 1.6193, 1.6154, 1.6394, 1.4678, 1.5773, 1.1505, 1.4915, 1.2717, 0.799, 1.4473, 1.2939, 0.3046, 1.5131, 1.2731, 0.0452, 0.9531, 0.6675, 0.8432, 0.0996, -0.0376, -0.1038, 0.7539, 1.2649, 1.0907, 0.2619, 0.8233, 0.5532, -0.8296, 0.9626, 0.5927, 0.4639, -0.4102, -0.3002, 2.2021, 2.2021, 2.2021, 2.2021, 2.2021, 2.2021, 2.2021, 2.2021, 2.2021, 2.2021, 2.1531, 2.1461, 2.1433, 2.1433, 2.0966, 2.0743, 2.0454, 2.0176, 2.0026, 2.0026, 1.9613, 1.9546, 1.951, 1.8711, 1.8603, 1.8449, 1.8178, 1.7989, 1.7989, 1.7928, 1.777, 1.7315, 1.7047, 1.749, 1.5734, 1.5336, 1.5262, 1.5304, 1.0704, 0.4593, 0.3076, 1.4966, 0.2814, 0.3699, 1.0018, 0.1293, 1.1159, 0.0119, 1.3255, 1.1307, 0.7336, 0.9769, 0.8473, -0.0781, 1.6939, 1.3401, 0.7094, -0.8385, -0.2507, -0.3999, -0.1415, -0.3027, 2.3948, 2.3706, 2.363, 2.355, 2.355, 2.355, 2.355, 2.355, 2.3549, 2.3549, 2.3549, 2.3549, 2.3549, 2.3041, 2.3009, 2.2798, 2.2344, 2.2109, 2.1741, 2.152, 2.1472, 2.1081, 2.046, 2.0147, 2.0078, 1.9792, 1.9607, 1.9603, 1.9566, 1.946, 1.8793, 1.8625, 1.8879, 1.7709, 1.6234, 1.6985, 1.529, 1.4813, 0.3198, 1.2124, 0.0607, -0.2166, 0.2262, -0.0211, -0.177, 1.5526, 1.1103, -0.7407, 0.9739, 0.7701, 0.3302, 0.2768, 1.0423, -0.2347, -0.2238, 2.3723, 2.3723, 2.3722, 2.3722, 2.3722, 2.3722, 2.3722, 2.3722, 2.3722, 2.3722, 2.3722, 2.3722, 2.3722, 2.3722, 2.3722, 2.3722, 2.3722, 2.3721, 2.372, 2.2958, 2.2889, 2.2756, 2.2439, 2.2393, 2.2019, 2.1964, 2.1837, 2.1652, 2.1312, 2.0812, 1.9479, 1.8426, 1.9629, 1.6375, 1.7944, 0.9072, 0.5643, 1.2928, 1.6393, -0.0506, 1.4651, -0.0362, 1.0375, 0.9039, 0.9718, 1.145, 0.1812, 1.8982, 1.404, 0.2976, 1.3608, 0.1404, 1.4668, 1.5183, 1.9284, -1.2499, 1.8451, 1.6717, 0.9131, 1.1692, 0.3766, 0.7526, 0.0354]}, \"token.table\": {\"Topic\": [1, 1, 2, 3, 5, 9, 10, 7, 10, 2, 4, 8, 9, 6, 1, 4, 7, 8, 9, 5, 1, 3, 4, 5, 7, 8, 10, 7, 7, 2, 5, 10, 10, 5, 9, 2, 3, 4, 5, 6, 7, 9, 10, 1, 3, 4, 5, 6, 7, 8, 9, 10, 1, 2, 3, 5, 6, 8, 2, 3, 4, 5, 7, 9, 10, 2, 2, 3, 4, 5, 6, 7, 8, 9, 10, 10, 10, 1, 6, 8, 1, 2, 3, 5, 6, 7, 9, 10, 10, 1, 2, 3, 5, 6, 7, 8, 9, 10, 1, 2, 5, 6, 8, 2, 4, 5, 6, 7, 3, 4, 6, 7, 8, 4, 8, 7, 1, 3, 4, 6, 8, 9, 1, 2, 3, 5, 6, 9, 10, 9, 2, 3, 6, 10, 8, 1, 2, 8, 2, 1, 3, 4, 5, 8, 9, 10, 6, 4, 7, 2, 5, 6, 7, 10, 5, 1, 2, 4, 6, 7, 10, 6, 4, 6, 5, 8, 5, 7, 3, 8, 4, 1, 3, 5, 4, 8, 3, 10, 1, 2, 3, 4, 5, 6, 7, 8, 9, 10, 4, 2, 1, 3, 4, 5, 7, 8, 6, 7, 3, 3, 4, 5, 7, 8, 9, 10, 5, 1, 2, 4, 5, 6, 7, 8, 9, 10, 5, 9, 10, 6, 2, 3, 4, 9, 10, 4, 9, 10, 1, 4, 6, 5, 10, 3, 4, 7, 2, 3, 5, 6, 8, 9, 2, 3, 9, 10, 1, 3, 5, 6, 7, 10, 4, 5, 6, 8, 1, 4, 5, 6, 8, 10, 1, 2, 9, 2, 4, 5, 8, 10, 7, 1, 2, 3, 4, 5, 6, 7, 8, 9, 10, 1, 2, 3, 4, 5, 6, 7, 8, 10, 4, 6, 3, 1, 4, 6, 7, 1, 2, 3, 5, 6, 8, 9, 8, 3, 1, 4, 8, 1, 2, 4, 5, 6, 7, 10, 1, 1, 2, 4, 5, 6, 7, 8, 9, 1, 4, 6, 7, 8, 10, 2, 4, 5, 6, 8, 8, 1, 3, 4, 5, 6, 7, 8, 9, 10, 1, 2, 3, 4, 6, 9, 9, 1, 5, 1, 2, 3, 4, 5, 6, 7, 8, 9, 10, 7, 1, 2, 3, 4, 5, 6, 7, 8, 9, 10, 2, 2, 5, 6, 10, 6, 8, 1, 2, 3, 5, 6, 8, 9, 1, 2, 3, 4, 5, 6, 7, 8, 9, 10, 1, 2, 3, 4, 5, 6, 7, 8, 9, 10, 1, 5, 3, 7, 5, 1, 2, 3, 4, 5, 6, 7, 9, 10, 1, 2, 3, 4, 5, 6, 7, 8, 9, 10, 9, 1, 5, 5, 6, 4, 5, 1, 10, 4, 7, 1, 2, 3, 5, 6, 1, 3, 4, 5, 6, 7, 8, 9, 10, 1, 2, 3, 4, 5, 6, 7, 8, 9, 10, 7, 10, 3, 10, 2, 3, 5, 6, 7, 9, 10, 1, 2, 3, 4, 5, 6, 8, 9, 2, 10, 1, 2, 3, 4, 5, 6, 7, 8, 9, 10, 2, 5, 6, 7, 8, 10, 1, 3, 4, 5, 6, 7, 8, 9, 10, 1, 3, 4, 5, 6, 8, 9, 10, 1, 2, 5, 6, 2, 1, 4, 2, 8, 3, 9, 3, 1, 2, 3, 4, 5, 6, 7, 9, 10, 6, 3, 4, 5, 10, 3, 4, 6, 7, 8, 1, 2, 3, 4, 5, 6, 7, 8, 9, 10, 7, 10, 3, 4, 6, 7, 8, 10, 2, 5, 7, 8, 10, 7, 1, 5, 4, 9, 2, 8, 2, 8, 10, 3, 4, 6, 2, 1, 2, 3, 5, 9, 2, 5, 6, 5, 1, 2, 3, 4, 6, 7, 8, 9, 1, 3, 4, 5, 7, 8, 9, 4, 10, 1, 2, 3, 4, 5, 6, 9, 10, 2, 1, 1, 2, 3, 4, 5, 6, 7, 8, 9, 10, 1, 2, 3, 4, 5, 7, 8, 9, 3, 6, 3, 4, 7, 10, 7, 4, 6, 5, 3, 4, 6, 8, 8, 4, 8, 2, 8, 2, 8, 1, 2, 3, 5, 6, 7, 8, 10, 5, 8, 4, 5, 1, 2, 10, 1, 3, 4, 5, 6, 7, 8, 1, 2, 3, 4, 5, 6, 7, 8, 9, 6, 9, 3, 4, 9, 4, 6, 8, 2, 1, 3, 4, 5, 7, 7, 1, 2, 4, 5, 7, 8, 9, 10, 3, 4, 6, 2, 1, 2, 5, 6, 10, 1, 2, 3, 6, 1, 4, 6, 9, 3, 4, 7, 8, 4, 1, 2, 3, 4, 5, 6, 1, 3, 5, 6, 7, 2, 1, 4, 3, 2, 2, 3, 8, 9, 1, 4, 5, 6, 8, 10, 1, 2, 3, 4, 5, 6, 9, 10, 1, 2, 3, 4, 5, 6, 7, 8, 9, 10, 10, 4, 3, 4, 6, 7, 2, 6, 8, 9, 6, 3, 4, 5, 7, 8, 9, 10, 2, 6, 7, 10, 1, 2, 3, 4, 5, 7, 8, 9, 1, 3, 4, 1, 2, 3, 5, 6, 7, 8, 10, 1, 2, 3, 4, 5, 6, 7, 8, 9, 10, 5, 6, 8, 4, 9, 1, 3, 1, 2, 3, 4, 5, 6, 7, 8, 9, 10, 8, 9, 6, 9, 2, 4, 6, 10, 9, 1, 2, 4, 5, 6, 7, 8, 10, 9, 10, 2, 1, 4, 5, 6, 7, 9, 10, 3, 1, 3, 7, 10, 2, 1, 2, 3, 6, 8, 9, 10, 2, 4, 5, 6, 8, 10, 2, 5, 2, 3, 1, 4, 9, 2, 3, 4, 5, 7, 8, 4, 1, 2, 6, 2, 8, 10, 1, 1, 2, 3, 5, 8, 2, 8, 2, 5, 2, 4, 5, 2, 3, 4, 5, 7, 9, 10, 10, 1, 3, 8, 1, 10, 4, 5, 6, 4, 2, 3, 6, 7, 8, 9, 10, 10, 6, 1, 4, 8, 3, 10, 1, 3, 6, 1, 10, 8, 4, 1, 3, 4, 5, 6, 7, 9, 10, 1, 9, 1, 2, 3, 4, 5, 6, 8, 9, 10, 6, 1, 3, 1, 2, 6, 4, 6, 7, 6, 1, 1, 3, 9, 2, 2, 3, 5, 10, 4, 10, 9, 4, 5, 8, 1, 1, 4, 1, 3, 4, 5, 6, 8, 9, 1, 3, 4, 6, 7, 9, 10, 7, 3, 10, 1, 2, 4, 5, 6, 8, 10, 1, 2, 4, 6, 9, 10, 8, 9, 10, 2, 3, 6, 8, 10, 2, 1, 2, 3, 5, 6, 10, 5, 1, 2, 3, 4, 5, 6, 7, 8, 9, 10, 5, 8, 6, 8, 10, 2, 3, 5, 6, 1, 2, 4, 5, 6, 10, 6, 9, 7, 6, 7, 8, 3, 8, 9, 2, 8, 3, 4, 8, 9, 2, 1, 3, 4, 5, 7, 9, 1, 7, 8, 5, 2, 3, 4, 5, 6, 7, 10, 2, 1, 4, 9, 1, 7, 1, 6, 1, 4, 6, 8, 10, 1, 5, 6, 1, 3, 4, 6, 7, 9, 10, 6, 7, 2, 4, 10, 1, 2, 4, 9, 1, 2, 3, 4, 5, 6, 7, 8, 9, 10, 1, 2, 4, 7, 8, 10, 1, 2, 3, 4, 7, 8, 9, 10, 6, 10, 1, 2, 3, 4, 5, 9, 2, 4, 7, 1, 2, 3, 4, 5, 6, 7, 9, 10, 7, 3, 3, 4, 7, 4, 6, 8, 6, 1, 2, 4, 5, 6, 7, 8, 10, 1, 2, 3, 4, 5, 6, 7, 8, 9, 10, 3, 4, 4, 7, 8, 6, 8, 7, 1, 1, 2, 3, 4, 5, 6, 7, 8, 9, 10, 2, 6, 9, 4, 5, 8, 1, 10, 1, 2, 3, 4, 5, 6, 7, 8, 9, 1, 2, 3, 4, 7, 8, 9, 3, 6, 1, 2, 4, 5, 7, 8, 10, 5, 8, 3, 9, 1, 5, 5, 2, 4, 6, 7, 8, 9, 2, 3, 5, 7, 8, 10, 5, 8, 1, 9, 2, 5, 6, 8, 1, 3, 7, 8, 10, 2, 4, 1, 2, 3, 4, 6, 7, 8, 10, 4, 1, 6, 1, 9, 10, 1, 7, 8, 2, 5, 6, 4, 6, 1, 2, 3, 10, 2, 3, 8, 9, 10, 1, 3, 4, 5, 6, 7, 8, 9, 10, 7, 4, 6, 1, 6, 1, 2, 3, 4, 5, 6, 7, 8, 9, 10, 9, 1, 7, 8, 9, 1, 3, 4, 5, 6, 7, 8, 10, 1, 5, 7, 1, 8, 9, 5, 6, 10, 6, 1, 3, 4, 6, 7, 8, 9, 10, 8, 1, 2, 3, 4, 5, 6, 7, 8, 9, 10, 1, 8, 2, 3, 1, 2, 3, 5, 6, 7, 8, 9, 6, 1, 7, 1, 2, 3, 6, 7, 10, 1, 3, 9, 1, 2, 3, 4, 5, 6, 7, 8, 9, 10, 5, 6, 1, 2, 3, 4, 5, 6, 7, 8, 9, 10, 1, 2, 3, 4, 5, 6, 7, 9, 10, 10, 1, 2, 4, 8, 10, 2, 10], \"Freq\": [0.8650322398631546, 0.2278508859992181, 0.13671053159953087, 0.09114035439968723, 0.04557017719984362, 0.13671053159953087, 0.36456141759874894, 0.930922788593747, 0.8004904134254455, 0.24479910415611775, 0.4895982083122355, 0.08159970138537258, 0.16319940277074516, 0.8332234895964579, 0.047079983747432774, 0.09415996749486555, 0.047079983747432774, 0.28247990248459665, 0.47079983747432774, 0.8495975932646278, 0.015221882581884384, 0.060887530327537534, 0.07610941290942191, 0.38054706454710957, 0.39576894712899396, 0.030443765163768767, 0.030443765163768767, 0.8173631278125252, 0.930924972050149, 0.7942977251720797, 0.08825530279689775, 0.08825530279689775, 0.8004881910700404, 0.545303946864258, 0.8024789250321539, 0.02806023252025297, 0.6453853479658183, 0.05612046504050594, 0.11224093008101188, 0.05612046504050594, 0.02806023252025297, 0.05612046504050594, 0.800490352405302, 0.2855628380487124, 0.1817218060309988, 0.025960258004428402, 0.259602580044284, 0.025960258004428402, 0.025960258004428402, 0.025960258004428402, 0.1557615480265704, 0.025960258004428402, 0.03209849005993919, 0.06419698011987839, 0.19259094035963514, 0.3851818807192703, 0.16049245029969594, 0.12839396023975677, 0.17375956631116798, 0.043439891577791996, 0.043439891577791996, 0.47783880735571194, 0.021719945788895998, 0.10859972894447999, 0.130319674733376, 0.8005838817087304, 0.1101960953710185, 0.5754684980486522, 0.08570807417745883, 0.17141614835491767, 0.012244010596779833, 0.012244010596779833, 0.024488021193559667, 0.012244010596779833, 0.012244010596779833, 0.8004941311155411, 0.8004920219544182, 0.1305104466073013, 0.1305104466073013, 0.5220417864292052, 0.08122238793238166, 0.21117820862419232, 0.11371134310533432, 0.11371134310533432, 0.12995582069181066, 0.11371134310533432, 0.016244477586476333, 0.19493373103771597, 0.800491468098751, 0.05709707369590144, 0.31974361269704804, 0.20554946530524518, 0.0913553179134423, 0.04567765895672115, 0.06851648843508172, 0.05709707369590144, 0.10277473265262259, 0.06851648843508172, 0.1512692014427696, 0.42355376403975487, 0.1512692014427696, 0.12101536115421567, 0.12101536115421567, 0.1033381809000547, 0.1033381809000547, 0.6200290854003282, 0.1033381809000547, 0.1033381809000547, 0.05909679583088554, 0.4432259687316416, 0.23638718332354217, 0.05909679583088554, 0.14774198957721385, 0.15913911303682785, 0.7956955651841392, 0.41680812249204785, 0.29403518788884087, 0.05880703757776817, 0.05880703757776817, 0.4704563006221454, 0.05880703757776817, 0.05880703757776817, 0.038913272639649416, 0.038913272639649416, 0.038913272639649416, 0.15565309055859766, 0.3502194537568447, 0.038913272639649416, 0.3113061811171953, 0.8442321070165032, 0.1875658258707896, 0.12504388391385973, 0.06252194195692987, 0.5626974776123688, 0.7461951921389612, 0.7358042166853791, 0.14716084333707583, 0.7461969837774468, 0.8044741880836683, 0.019733434271919387, 0.07893373708767755, 0.1776009084472745, 0.1973343427191939, 0.41440211971030716, 0.07893373708767755, 0.019733434271919387, 0.8332301516665126, 0.47638661489411477, 0.23819330744705738, 0.15859978099930097, 0.31719956199860194, 0.1268798247994408, 0.0317199561998602, 0.3489195181984622, 0.7730685533363656, 0.07884615208479352, 0.23653845625438058, 0.07884615208479352, 0.07884615208479352, 0.47307691250876116, 0.07884615208479352, 0.8332245390889487, 0.7305030483337037, 0.9321114032498828, 0.47165675523627487, 0.37732540418901994, 0.261611164446262, 0.523222328892524, 0.9368383186879079, 0.6714793998611829, 0.8288031588298744, 0.07713202192222013, 0.07713202192222013, 0.8484522411444215, 0.16418260777203603, 0.6567304310881441, 0.923732831483457, 0.8004900101346396, 0.02029922447094224, 0.08119689788376896, 0.02029922447094224, 0.46688216283167155, 0.02029922447094224, 0.02029922447094224, 0.060897673412826724, 0.02029922447094224, 0.18269302023848016, 0.12179534682565345, 0.8287908561084858, 0.8044729862084892, 0.16696659301743946, 0.14311422258637668, 0.3339331860348789, 0.04770474086212557, 0.14311422258637668, 0.19081896344850227, 0.8332364153098986, 0.9309247140103716, 0.9237484677690704, 0.5518929551681585, 0.06622715462017903, 0.022075718206726342, 0.044151436413452684, 0.15453002744708438, 0.15453002744708438, 0.022075718206726342, 0.8924141808775747, 0.20962720364504409, 0.12093877133367928, 0.07256326280020757, 0.3063782207119875, 0.04837550853347171, 0.12093877133367928, 0.008062584755578618, 0.016125169511157236, 0.10481360182252204, 0.42318427099814987, 0.1291921495001448, 0.7751528970008688, 0.8332330270095756, 0.07082646444442289, 0.28330585777769157, 0.07082646444442289, 0.5666117155553831, 0.07082646444442289, 0.13015809730111214, 0.13015809730111214, 0.6507904865055607, 0.8190252478413721, 0.4988351335662871, 0.7783120808430284, 0.7832878639705424, 0.1566575727941085, 0.7686185334593035, 0.12810308890988392, 0.9309326493286153, 0.0745727348835376, 0.0745727348835376, 0.0745727348835376, 0.0745727348835376, 0.0745727348835376, 0.5965818790683008, 0.07617070348356243, 0.22851211045068728, 0.6093656278684995, 0.07617070348356243, 0.046180455744692955, 0.09236091148938591, 0.27708273446815773, 0.09236091148938591, 0.4156241017022366, 0.09236091148938591, 0.6604563732204185, 0.09435091046005979, 0.09435091046005979, 0.09435091046005979, 0.10813408829152955, 0.10813408829152955, 0.5406704414576478, 0.10813408829152955, 0.10813408829152955, 0.10813408829152955, 0.41865742927264255, 0.33492594341811405, 0.20932871463632127, 0.47854370859681067, 0.05317152317742341, 0.26585761588711704, 0.21268609270969363, 0.8004875779974153, 0.47238099479742907, 0.03289917939755962, 0.03289917939755962, 0.11514712789145866, 0.06579835879511924, 0.34544138367437593, 0.06579835879511924, 0.04934876909633942, 0.01644958969877981, 0.01644958969877981, 0.29609261457803654, 0.058586369262028426, 0.17575910778608528, 0.25387426680212316, 0.1562303180320758, 0.0781151590160379, 0.019528789754009474, 0.21481668729410422, 0.03905757950801895, 0.019528789754009474, 0.5825949112230975, 0.33291137784177, 0.92373640280235, 0.10184757662974774, 0.05092378831487387, 0.1527713649446216, 0.6620092480933603, 0.7719520214645635, 0.07820722722571281, 0.07820722722571281, 0.07820722722571281, 0.07820722722571281, 0.07820722722571281, 0.6256578178057025, 0.7339233149579514, 0.9237405605374489, 0.1551157631814209, 0.1551157631814209, 0.6204630527256836, 0.8650345272332096, 0.28993578673790854, 0.126846906697835, 0.16308888004007355, 0.07248394668447714, 0.09060493335559641, 0.2174518400534314, 0.8650341664579944, 0.18509779463839862, 0.31466625088527767, 0.018509779463839863, 0.09254889731919931, 0.09254889731919931, 0.11105867678303918, 0.11105867678303918, 0.11105867678303918, 0.022377980747033198, 0.35804769195253117, 0.022377980747033198, 0.08951192298813279, 0.49231557643473034, 0.022377980747033198, 0.8044786585925645, 0.12194698751312534, 0.12194698751312534, 0.12194698751312534, 0.48778795005250136, 0.7035803240916542, 0.5331503317487738, 0.13328758293719345, 0.05215601071455396, 0.011590224603234214, 0.03477067380970264, 0.06374623531778817, 0.06374623531778817, 0.023180449206468428, 0.09272179682587371, 0.09732245074060845, 0.3406285775921296, 0.04866122537030423, 0.04866122537030423, 0.04866122537030423, 0.3892898029624338, 0.8024784524324349, 0.27259523268369423, 0.5451904653673885, 0.0022868942895845684, 0.14178744595424322, 0.12806608021673582, 0.2309763232480414, 0.10977092590005927, 0.04802478008127593, 0.12577918592715126, 0.12120539734798212, 0.08690198300421359, 0.004573788579169137, 0.9309223201197965, 0.13746865228226848, 0.013092252598311285, 0.2585719888166479, 0.11455721023522374, 0.022911442047044747, 0.2323874836200253, 0.10146495763691245, 0.09164576818817899, 0.003273063149577821, 0.022911442047044747, 0.8044841491569522, 0.4135910879706402, 0.10883975999227374, 0.32651927997682123, 0.1306077119907285, 0.6955583390308647, 0.23185277967695492, 0.09212912998851633, 0.47907147594028493, 0.15661952098047777, 0.0829162169896647, 0.10134204298736797, 0.036851651995406534, 0.046064564994258164, 0.27116866376482457, 0.11939515792630336, 0.12141880467081698, 0.008094586978054465, 0.0991586904811672, 0.08094586978054465, 0.04047293489027232, 0.14570256560498038, 0.03844928814575871, 0.0748749295470038, 0.04125626578180641, 0.20628132890903206, 0.010314066445451603, 0.11001670875148377, 0.13064484164238696, 0.0068760442969677356, 0.20628132890903206, 0.13408286379087084, 0.07907450941512896, 0.07563648726664508, 0.8650346880102551, 0.8924128463141633, 0.32088107253886794, 0.588281966321258, 0.892414503711367, 0.023845622998523813, 0.07153686899557143, 0.023845622998523813, 0.33383872197933334, 0.07153686899557143, 0.2384562299852381, 0.023845622998523813, 0.16691936098966667, 0.047691245997047625, 0.18312489646526198, 0.020347210718362443, 0.04069442143672489, 0.1017360535918122, 0.06104163215508732, 0.18312489646526198, 0.08138884287344977, 0.2034721071836244, 0.12208326431017465, 0.8004892543986385, 0.7089810033737002, 0.6070882249633578, 0.36425293497801464, 0.8924144308589917, 0.8981267846871172, 0.5694203660391235, 0.8924134639467495, 0.41442101015467797, 0.4973052121856136, 0.49883448886151743, 0.9309254552701132, 0.8650337590157269, 0.771236584033275, 0.6367433234451911, 0.2829970326423072, 0.0707492581605768, 0.039002478806514855, 0.013000826268838285, 0.039002478806514855, 0.11700743641954456, 0.013000826268838285, 0.013000826268838285, 0.013000826268838285, 0.7150454447861057, 0.05200330507535314, 0.029657682113904738, 0.029657682113904738, 0.2965768211390474, 0.029657682113904738, 0.059315364227809475, 0.029657682113904738, 0.17794609268342843, 0.029657682113904738, 0.2372614569112379, 0.08897304634171421, 0.653915800592255, 0.3269579002961275, 0.9237439813493039, 0.7952469224515919, 0.024708895915437724, 0.04941779183087545, 0.024708895915437724, 0.024708895915437724, 0.4694690223933168, 0.14825337549262635, 0.24708895915437726, 0.12564961170467506, 0.14659121365545424, 0.02094160195077918, 0.02094160195077918, 0.1047080097538959, 0.12564961170467506, 0.1047080097538959, 0.3769488351140252, 0.15379726490158502, 0.7689863245079251, 0.06589507206001319, 0.30173006680111303, 0.031213455186322035, 0.180344407743194, 0.05895874868527495, 0.04161794024842938, 0.090172203871597, 0.10404485062107345, 0.11098117399581169, 0.01387264674947646, 0.2972713864110584, 0.12386307767127432, 0.1486356932055292, 0.024772615534254864, 0.24772615534254863, 0.12386307767127432, 0.07704351561029764, 0.1284058593504961, 0.15408703122059528, 0.15408703122059528, 0.07704351561029764, 0.025681171870099214, 0.025681171870099214, 0.2054493749607937, 0.1797682030906945, 0.43395002146008965, 0.09382703166704641, 0.1641973054173312, 0.011728378958380801, 0.05864189479190401, 0.05864189479190401, 0.11728378958380802, 0.0703702737502848, 0.18613263091419996, 0.2978122094627199, 0.3350387356455599, 0.14890610473135996, 0.8044812028026233, 0.8650344687115747, 0.4988354886475849, 0.7764280847068872, 0.7461972930675175, 0.923733735568459, 0.8024774246549945, 0.8866388434624137, 0.038674120649548456, 0.09668530162387115, 0.019337060324774228, 0.019337060324774228, 0.11602236194864537, 0.038674120649548456, 0.15469648259819382, 0.2707188445468392, 0.23204472389729075, 0.7960420426363227, 0.5856581327559723, 0.09760968879266205, 0.09760968879266205, 0.09760968879266205, 0.02995648754132681, 0.08986946262398043, 0.11982595016530724, 0.02995648754132681, 0.7189557009918435, 0.19969292001651268, 0.08951751586947121, 0.08263155311028111, 0.15837714346137213, 0.08263155311028111, 0.08263155311028111, 0.06885962759190092, 0.06885962759190092, 0.061973664832710836, 0.08951751586947121, 0.7347192284702061, 0.12245320474503435, 0.30290488429685786, 0.10096829476561928, 0.05048414738280964, 0.15145244214842893, 0.05048414738280964, 0.3533890316796675, 0.1165901076140324, 0.34977032284209725, 0.07772673840935494, 0.03886336920467747, 0.42749706125145215, 0.5570375463900493, 0.865033915474963, 0.8924134413417066, 0.820960873700163, 0.117280124814309, 0.3652390139678319, 0.5113346195549646, 0.0395802598238, 0.395802598238, 0.47496311788560003, 0.6873309848473521, 0.11455516414122535, 0.11455516414122535, 0.804471781529432, 0.15948956048713536, 0.1275916483897083, 0.031897912097427074, 0.15948956048713536, 0.5103665935588332, 0.06610630967994562, 0.06610630967994562, 0.7932757161593473, 0.4290432246743203, 0.15728542868712184, 0.06291417147484873, 0.020971390491616244, 0.1887425144245462, 0.04194278098323249, 0.010485695245808122, 0.4194278098323249, 0.07339986672065686, 0.6419663984603982, 0.0458547427471713, 0.0458547427471713, 0.0458547427471713, 0.0917094854943426, 0.0458547427471713, 0.0917094854943426, 0.8546312304053094, 0.8004899399107211, 0.027086950213315836, 0.040630425319973754, 0.24378255191984252, 0.013543475106657918, 0.5146520540530009, 0.09480432574660543, 0.013543475106657918, 0.027086950213315836, 0.7406431411566996, 0.865030481802981, 0.07015313275739131, 0.028061253102956527, 0.23852065137513045, 0.3086737841325218, 0.014030626551478263, 0.028061253102956527, 0.04209187965443479, 0.2525512779266087, 0.014030626551478263, 0.014030626551478263, 0.008934850581444621, 0.04467425290722311, 0.026804551744333865, 0.07147880465155697, 0.008934850581444621, 0.5628955866310111, 0.26804551744333865, 0.008934850581444621, 0.8801419794797583, 0.8332306371873881, 0.08056481922271998, 0.6445185537817598, 0.08056481922271998, 0.08056481922271998, 0.5570377583313099, 0.8851164379854549, 0.8332354288553769, 0.8924132919712251, 0.699608387075366, 0.11660139784589434, 0.11660139784589434, 0.7461949140989369, 0.7055258941632134, 0.7305003822908084, 0.7461933600178295, 0.7445377006445942, 0.12408961677409903, 0.8044760445453512, 0.7461968855975565, 0.013854426012195567, 0.013854426012195567, 0.2078163901829335, 0.013854426012195567, 0.6234491705488006, 0.013854426012195567, 0.11083540809756454, 0.013854426012195567, 0.7346476412681442, 0.14692952825362884, 0.8173208825647084, 0.11676012608067263, 0.08144722115068981, 0.08144722115068981, 0.7330249903562083, 0.01836283154053063, 0.11017698924318378, 0.07345132616212252, 0.2938053046484901, 0.09181415770265315, 0.3305309677295514, 0.07345132616212252, 0.036580840564231214, 0.07316168112846243, 0.054871260846346824, 0.018290420282115607, 0.2377754636675029, 0.018290420282115607, 0.036580840564231214, 0.12803294197480924, 0.40238924620654337, 0.7536981272725903, 0.8024751339342926, 0.9237372896516225, 0.7589035752853052, 0.10841479646932932, 0.340010432625264, 0.510015648937896, 0.085002608156316, 0.8742518536123237, 0.09429575739831098, 0.4714787869915548, 0.3771830295932439, 0.04714787869915549, 0.04714787869915549, 0.8582258146171156, 0.017767965152321104, 0.017767965152321104, 0.3198233727417799, 0.24875151213249547, 0.10660779091392664, 0.12437575606624773, 0.08883982576160553, 0.08883982576160553, 0.6905131418869827, 0.09864473455528323, 0.09864473455528323, 0.8044718141834201, 0.3273392663360427, 0.4255410462368555, 0.03273392663360427, 0.13093570653441708, 0.06546785326720854, 0.08813592799006181, 0.08813592799006181, 0.7050874239204945, 0.08813592799006181, 0.8281513621546728, 0.2135945281496533, 0.2135945281496533, 0.6407835844489599, 0.5170748624403105, 0.08617914374005176, 0.344716574960207, 0.028726381246683915, 0.8674966341866266, 0.09886668501086379, 0.6722934580738738, 0.019773337002172757, 0.019773337002172757, 0.039546674004345514, 0.15818669601738206, 0.1463193949991064, 0.1755832739989277, 0.2926387899982128, 0.02926387899982128, 0.3219026689980341, 0.8044743368734103, 0.8855113752197656, 0.08855113752197658, 0.9237355939554954, 0.8044825684907904, 0.33276595883010457, 0.16638297941505228, 0.33276595883010457, 0.11092198627670152, 0.09092918414880426, 0.1363937762232064, 0.09092918414880426, 0.363716736595217, 0.2727875524464128, 0.04546459207440213, 0.17929753171983873, 0.28687605075174194, 0.03585950634396774, 0.07171901268793549, 0.07171901268793549, 0.28687605075174194, 0.03585950634396774, 0.03585950634396774, 0.48882776699419905, 0.06983253814202844, 0.05586603051362275, 0.013966507628405688, 0.027933015256811376, 0.06983253814202844, 0.027933015256811376, 0.19553110679767963, 0.04189952288521706, 0.013966507628405688, 0.6714417626156945, 0.805985913861213, 0.15728669233687081, 0.15728669233687081, 0.07864334616843541, 0.5505034231790479, 0.18053689489558514, 0.09026844744779257, 0.09026844744779257, 0.5416106846867554, 0.8332343606058885, 0.5601252354754328, 0.04481001883803462, 0.02240500941901731, 0.04481001883803462, 0.15683506593312116, 0.15683506593312116, 0.02240500941901731, 0.11020473904033203, 0.11020473904033203, 0.5510236952016602, 0.11020473904033203, 0.04147296875704253, 0.020736484378521266, 0.020736484378521266, 0.26957429692077645, 0.4147296875704253, 0.14515539064964886, 0.04147296875704253, 0.020736484378521266, 0.8650335360585572, 0.8019756985191939, 0.13366261641986565, 0.1852271160703853, 0.24696948809384706, 0.10804915104105808, 0.2932762671114434, 0.030871186011730882, 0.061742372023461764, 0.015435593005865441, 0.046306779017596326, 0.2695194126143721, 0.03170816618992613, 0.06341633237985227, 0.09512449856977839, 0.19024899713955679, 0.12683266475970453, 0.07927041547481534, 0.03170816618992613, 0.07927041547481534, 0.047562249284889196, 0.49834879877295835, 0.16611626625765277, 0.16611626625765277, 0.08437819839342206, 0.9281601823276426, 0.6645361444214193, 0.28480120475203685, 0.09701141891697782, 0.030635184921150888, 0.010211728307050296, 0.1276466038381287, 0.11743487553107841, 0.010211728307050296, 0.2910342567509334, 0.010211728307050296, 0.10211728307050297, 0.19912870198748078, 0.7249545293423061, 0.8024760270589508, 0.7960527143322877, 0.8024768642619553, 0.06672143945446424, 0.46705007618124966, 0.06672143945446424, 0.4003286367267854, 0.8024755629007411, 0.5761175214510533, 0.05359232757684217, 0.14737890083631597, 0.013398081894210543, 0.013398081894210543, 0.14737890083631597, 0.013398081894210543, 0.04019424568263163, 0.8024762273574353, 0.800490433671825, 0.8240238628063099, 0.020792026072506686, 0.020792026072506686, 0.04158405214501337, 0.04158405214501337, 0.18712823465256018, 0.1455441825075468, 0.5613847039576806, 0.9742583963488456, 0.06538890689652507, 0.7192779758617758, 0.13077781379305015, 0.06538890689652507, 0.804480541927903, 0.18829937840628888, 0.46447180006884586, 0.025106583787505184, 0.06276645946876296, 0.10042633515002074, 0.07531975136251555, 0.08787304325626814, 0.031863525880697394, 0.031863525880697394, 0.031863525880697394, 0.35049878468767137, 0.031863525880697394, 0.5098164140911583, 0.8044770456226163, 0.8001373719739179, 0.8044792767048348, 0.923732747464678, 0.13105310410269347, 0.13105310410269347, 0.6552655205134673, 0.045545381721653226, 0.045545381721653226, 0.045545381721653226, 0.045545381721653226, 0.8198168709897581, 0.045545381721653226, 0.8518992551515111, 0.7679946929665371, 0.15359893859330742, 0.8332329966320836, 0.5305810646700064, 0.07579729495285807, 0.3031891798114323, 0.8650320602490178, 0.34179767219698687, 0.2734381377575895, 0.20507860331819214, 0.03417976721969869, 0.13671906887879476, 0.6540555144659024, 0.7035798383414337, 0.6839763308293563, 0.11399605513822605, 0.8044766683169919, 0.15915858078588374, 0.7957929039294186, 0.02445076391016031, 0.04890152782032062, 0.04890152782032062, 0.24450763910160309, 0.24450763910160309, 0.3667614586524046, 0.04890152782032062, 0.8004898370746653, 0.1161418351280788, 0.8129928458965516, 0.7339183773161361, 0.8650337401881752, 0.8004891527115553, 0.8851086973616338, 0.515790154824519, 0.4126321238596151, 0.8287965499243045, 0.3775224237568446, 0.20592132204918795, 0.03432022034153132, 0.06864044068306265, 0.20592132204918795, 0.06864044068306265, 0.03432022034153132, 0.8004888993802876, 0.8332308003198634, 0.15248968907239685, 0.15248968907239685, 0.6099587562895874, 0.8508366916103833, 0.8004880422723568, 0.5639242659945324, 0.42294319949589926, 0.833233225893142, 0.821012389638331, 0.8004989918724265, 0.7461952922014328, 0.6533962023048179, 0.05297774794004102, 0.15893324382012305, 0.15893324382012305, 0.05297774794004102, 0.05297774794004102, 0.4238219835203282, 0.05297774794004102, 0.05297774794004102, 0.13899730425219828, 0.6949865212609914, 0.10700284998408247, 0.21400569996816493, 0.23183950829884534, 0.03566761666136082, 0.05350142499204123, 0.19617189163748452, 0.10700284998408247, 0.01783380833068041, 0.03566761666136082, 0.8332325628654609, 0.8190248522537021, 0.923738037871908, 0.18656233390808358, 0.6529681686782925, 0.09328116695404179, 0.5480098606271911, 0.2740049303135956, 0.0685012325783989, 0.8332276001333859, 0.8650341529476164, 0.7617297043226212, 0.15234594086452424, 0.5142220644019811, 0.8044826522691239, 0.5572957000236805, 0.03980683571597718, 0.1990341785798859, 0.1990341785798859, 0.6117365145546556, 0.1529341286386639, 0.8024765098503989, 0.5307432913293952, 0.0758204701899136, 0.3032818807596544, 0.8650334883808258, 0.08785029457243952, 0.7906526511519557, 0.0966597268531215, 0.0966597268531215, 0.008787247895738318, 0.1845322058105047, 0.5184476258485607, 0.07908523106164486, 0.008787247895738318, 0.04100172371916093, 0.12300517115748279, 0.6150258557874139, 0.08200344743832186, 0.04100172371916093, 0.08200344743832186, 0.04100172371916093, 0.5570376899571168, 0.9237341987141167, 0.8004892583519484, 0.19067706250190936, 0.21791664285932497, 0.05447916071483124, 0.16343748214449372, 0.21791664285932497, 0.10895832142966248, 0.02723958035741562, 0.8650332960439328, 0.07306858915369097, 0.5845487132295277, 0.07306858915369097, 0.07306858915369097, 0.14613717830738193, 0.04443253485671004, 0.5331904182805204, 0.3998928137103903, 0.8044730422990102, 0.5204122624723697, 0.28911792359576094, 0.057823584719152187, 0.057823584719152187, 0.804478635776882, 0.5960699902563614, 0.016557499729343374, 0.11590249810540361, 0.08278749864671686, 0.0662299989173735, 0.11590249810540361, 0.892412899234581, 0.09304469671715063, 0.031014898905716876, 0.06202979781143375, 0.06202979781143375, 0.1240595956228675, 0.09304469671715063, 0.06202979781143375, 0.031014898905716876, 0.43420858468003626, 0.031014898905716876, 0.2825639094878644, 0.5651278189757288, 0.12580712880063843, 0.12580712880063843, 0.6290356440031922, 0.033155577470502906, 0.09946673241150872, 0.8288894367625725, 0.033155577470502906, 0.15014410199136619, 0.7206916895585577, 0.03002882039827324, 0.03002882039827324, 0.03002882039827324, 0.7267576429418852, 0.8332340174040117, 0.7627307740540149, 0.8173615340573389, 0.2959117399279393, 0.4438676098919089, 0.14795586996396964, 0.02378017958257927, 0.28536215499095124, 0.6658450283122196, 0.3716848911573956, 0.49557985487652745, 0.09231552252195473, 0.7385241801756378, 0.09231552252195473, 0.09231552252195473, 0.8044763959248936, 0.6711542695239708, 0.185146005385923, 0.10414462802958167, 0.011571625336620187, 0.011571625336620187, 0.011571625336620187, 0.14665288459264794, 0.14665288459264794, 0.5866115383705918, 0.8511258216117356, 0.1402479621073489, 0.42074388632204673, 0.1402479621073489, 0.04674932070244964, 0.04674932070244964, 0.09349864140489927, 0.7416001145843126, 0.8044745518793365, 0.8650333620289095, 0.49883481027416327, 0.917469251056689, 0.1293042134146657, 0.7758252804879942, 0.6441287493900834, 0.25765149975603335, 0.8650335281621468, 0.3898621523455438, 0.04331801692728265, 0.5198162031273917, 0.04331801692728265, 0.22209509383263354, 0.39977116889874037, 0.35535215013221366, 0.32166220577878146, 0.10722073525959382, 0.03574024508653127, 0.03574024508653127, 0.32166220577878146, 0.03574024508653127, 0.10722073525959382, 0.8332299948325533, 0.9309234404013486, 0.3178797269711178, 0.07946993174277946, 0.5562895221994562, 0.16726427647911424, 0.5017928294373427, 0.08363213823955712, 0.08363213823955712, 0.06937777193402583, 0.10722019298894903, 0.11352726316476956, 0.23336159650535965, 0.0819919122856669, 0.23966866668118017, 0.037842421054923185, 0.0819919122856669, 0.025228280703282122, 0.012614140351641061, 0.11204166469158078, 0.06722499881494846, 0.33612499407474233, 0.022408332938316157, 0.42575832582800693, 0.022408332938316157, 0.028328071056725787, 0.16996842634035472, 0.5948894921912415, 0.056656142113451574, 0.028328071056725787, 0.056656142113451574, 0.028328071056725787, 0.028328071056725787, 0.36032090906601166, 0.5404813635990174, 0.40691274150230367, 0.27127516100153576, 0.18085010733435716, 0.04521252683358929, 0.04521252683358929, 0.04521252683358929, 0.2790403538637156, 0.09301345128790521, 0.5580807077274312, 0.022696749979543487, 0.04539349995908697, 0.1361804998772609, 0.1361804998772609, 0.2723609997545218, 0.22696749979543487, 0.022696749979543487, 0.11348374989771744, 0.04539349995908697, 0.888221271223711, 0.8090018900592829, 0.14160700735057008, 0.28321401470114016, 0.49562452572699534, 0.8342212602102526, 0.8332330436668065, 0.7461959362390824, 0.8332307393784053, 0.5790365619418982, 0.04039789967036499, 0.1346596655678833, 0.01346596655678833, 0.01346596655678833, 0.16159159868145995, 0.01346596655678833, 0.04039789967036499, 0.108582938621476, 0.33744236310058695, 0.05011520244068123, 0.033410134960454155, 0.1102534453694987, 0.048444695692658524, 0.09688939138531705, 0.12361749935368037, 0.0651497631728856, 0.023387094472317908, 0.6366036720108258, 0.3183018360054129, 0.5570004490254817, 0.2387144781537779, 0.1989287317948149, 0.3573006019370165, 0.5359509029055248, 0.9309261776989383, 0.8650344107082192, 0.24947685613401813, 0.07484305684020544, 0.012473842806700906, 0.06236921403350453, 0.11226458526030816, 0.29937222736082175, 0.049895371226803625, 0.09979074245360725, 0.03742152842010272, 0.012473842806700906, 0.8044711207752256, 0.657032208580532, 0.164258052145133, 0.0984990656153305, 0.0984990656153305, 0.6894934593073135, 0.18378668724253022, 0.7351467489701209, 0.031457802578095696, 0.09437340773428708, 0.031457802578095696, 0.031457802578095696, 0.031457802578095696, 0.5033248412495311, 0.18874681546857416, 0.031457802578095696, 0.031457802578095696, 0.1666883140705731, 0.06667532562822924, 0.02222510854274308, 0.20002597688468773, 0.01111255427137154, 0.44450217085486166, 0.07778787989960079, 0.620328568465614, 0.8332245885710514, 0.07812116916780279, 0.15624233833560558, 0.039060584583901395, 0.039060584583901395, 0.390605845839014, 0.039060584583901395, 0.2343635075034084, 0.28256426218181013, 0.5651285243636203, 0.12478099158972028, 0.7486859495383217, 0.17740460544713216, 0.7096184217885286, 0.418775927488122, 0.07823520879192157, 0.3129408351676863, 0.15647041758384314, 0.026078402930640524, 0.15647041758384314, 0.23470562637576473, 0.32670621973244285, 0.19057862817725832, 0.272255183110369, 0.0272255183110369, 0.0272255183110369, 0.16335310986622142, 0.5027750290931281, 0.40222002327450246, 0.1294950508763882, 0.7769703052583293, 0.11767626581283223, 0.3530287974384967, 0.11767626581283223, 0.3530287974384967, 0.06766954264048604, 0.06766954264048604, 0.06766954264048604, 0.3383477132024302, 0.40601725584291626, 0.39403845132618254, 0.5253846017682433, 0.2755641831348184, 0.08266925494044552, 0.02755641831348184, 0.1377820915674092, 0.11022567325392736, 0.2755641831348184, 0.02755641831348184, 0.02755641831348184, 0.9406229503508404, 0.8650337219044211, 0.8332256232165248, 0.04127547016486459, 0.8667848734621563, 0.04127547016486459, 0.865033577003413, 0.9309226970312301, 0.7461968724212626, 0.8044740480973497, 0.8532077486650641, 0.8332337353077212, 0.49883487311082764, 0.8332303695769504, 0.4688402696027702, 0.15628008986759007, 0.18753610784110808, 0.15628008986759007, 0.5787490194333068, 0.048229084952775565, 0.048229084952775565, 0.048229084952775565, 0.24114542476387782, 0.11015369912866635, 0.018358949854777727, 0.4406147965146654, 0.036717899709555454, 0.07343579941911091, 0.11015369912866635, 0.018358949854777727, 0.07343579941911091, 0.11015369912866635, 0.9309332257385243, 0.6449792012777071, 0.32248960063885357, 0.8650338272526853, 0.8332289099246273, 0.012116994049060211, 0.07270196429436127, 0.15752092263778275, 0.09693595239248169, 0.07270196429436127, 0.29080785717744506, 0.2181058928830838, 0.012116994049060211, 0.012116994049060211, 0.07270196429436127, 0.8024772129993585, 0.865034316712869, 0.7226201083216043, 0.12043668472026738, 0.7161263063454733, 0.02963199049692989, 0.29631990496929894, 0.014815995248464945, 0.014815995248464945, 0.34076789071469377, 0.1926079382300443, 0.014815995248464945, 0.08889597149078968, 0.42148110413979495, 0.084296220827959, 0.505777324967754, 0.12323670696892891, 0.12323670696892891, 0.7394202418135735, 0.13248441416226747, 0.13248441416226747, 0.7949064849736048, 0.833230319165074, 0.027872064878317348, 0.16723238926990408, 0.11148825951326939, 0.027872064878317348, 0.055744129756634696, 0.2787206487831735, 0.13936032439158674, 0.19510445414822145, 0.7461934955427602, 0.1974485549351796, 0.28661887006719616, 0.14330943503359808, 0.02547723289486188, 0.003184654111857735, 0.01273861644743094, 0.08280100690830111, 0.03821584934229282, 0.06687773634901244, 0.14012478092174036, 0.3384290504596051, 0.6091722908272892, 0.804477330028836, 0.9237606385128186, 0.028898184051197193, 0.24563456443517614, 0.014449092025598596, 0.21673638038397894, 0.10114364417919018, 0.24563456443517614, 0.11559273620478877, 0.04334727607679579, 0.8332347868961559, 0.4041041155177255, 0.4849249386212706, 0.11705933521550857, 0.15607911362067808, 0.03901977840516952, 0.15607911362067808, 0.23411867043101714, 0.27313844883618665, 0.7234476578925517, 0.12057460964875862, 0.12057460964875862, 0.0718384912874177, 0.05587438211243599, 0.39910272937454283, 0.08780260046239942, 0.039910272937454284, 0.015964109174981714, 0.1835872555122897, 0.06385643669992686, 0.06385643669992686, 0.023946163762472567, 0.8924141963591241, 0.8332326805200057, 0.12520964274810306, 0.06260482137405153, 0.0782560267175644, 0.2973729015267447, 0.046953616030538645, 0.015651205343512883, 0.1721632587786417, 0.10955843740459018, 0.046953616030538645, 0.046953616030538645, 0.37879938748277814, 0.1126160341165016, 0.16380514053309325, 0.15356731924977493, 0.010237821283318328, 0.05118910641659164, 0.020475642566636656, 0.06142692769990997, 0.04095128513327331, 0.8004933198528525, 0.06695707062310027, 0.20087121186930082, 0.06695707062310027, 0.6026136356079024, 0.06695707062310027, 0.8044849469839987, 0.8004883867609548], \"Term\": [\"abap\", \"accounting\", \"accounting\", \"accounting\", \"accounting\", \"accounting\", \"accounting\", \"acf\", \"active\", \"ad\", \"ad\", \"ad\", \"ad\", \"addicted\", \"administration\", \"administration\", \"administration\", \"administration\", \"administration\", \"administrative\", \"adobe\", \"adobe\", \"adobe\", \"adobe\", \"adobe\", \"adobe\", \"adobe\", \"affiliate\", \"africa\", \"ai\", \"ai\", \"ai\", \"airtable\", \"allocation\", \"almost\", \"amazon\", \"amazon\", \"amazon\", \"amazon\", \"amazon\", \"amazon\", \"amazon\", \"analyser\", \"analyst\", \"analyst\", \"analyst\", \"analyst\", \"analyst\", \"analyst\", \"analyst\", \"analyst\", \"analyst\", \"analytics\", \"analytics\", \"analytics\", \"analytics\", \"analytics\", \"analytics\", \"android\", \"android\", \"android\", \"android\", \"android\", \"android\", \"android\", \"angular\", \"animation\", \"animation\", \"animation\", \"animation\", \"animation\", \"animation\", \"animation\", \"animation\", \"animation\", \"antispam\", \"antivirus\", \"api\", \"api\", \"api\", \"app\", \"app\", \"app\", \"app\", \"app\", \"app\", \"app\", \"app\", \"appilication\", \"application\", \"application\", \"application\", \"application\", \"application\", \"application\", \"application\", \"application\", \"application\", \"applications\", \"applications\", \"applications\", \"applications\", \"applications\", \"apps\", \"apps\", \"apps\", \"apps\", \"apps\", \"architect\", \"architect\", \"architect\", \"architect\", \"architect\", \"architecture\", \"architecture\", \"arduino\", \"art\", \"art\", \"art\", \"art\", \"art\", \"art\", \"article\", \"article\", \"article\", \"article\", \"article\", \"article\", \"article\", \"articles\", \"artwork\", \"artwork\", \"artwork\", \"artwork\", \"ask\", \"asp\", \"asp\", \"assessments\", \"assist\", \"associate\", \"associate\", \"associate\", \"associate\", \"associate\", \"associate\", \"associate\", \"asterisk\", \"authority\", \"authority\", \"automation\", \"automation\", \"automation\", \"automation\", \"automation\", \"azure\", \"based\", \"based\", \"based\", \"based\", \"based\", \"based\", \"basketball\", \"beauty\", \"best\", \"bi\", \"bi\", \"bigcommerce\", \"bigcommerce\", \"bitcoin\", \"blockchain\", \"blogging\", \"book\", \"book\", \"book\", \"bookkeeper\", \"bookkeeper\", \"bot\", \"bpo\", \"brand\", \"brand\", \"brand\", \"brand\", \"brand\", \"brand\", \"brand\", \"brand\", \"brand\", \"brand\", \"brands\", \"broadband\", \"brochure\", \"brochure\", \"brochure\", \"brochure\", \"brochure\", \"brochure\", \"bsn\", \"bubble\", \"budget\", \"building\", \"building\", \"building\", \"building\", \"building\", \"building\", \"building\", \"bulk\", \"business\", \"business\", \"business\", \"business\", \"business\", \"business\", \"business\", \"business\", \"business\", \"buyer\", \"call\", \"call\", \"caller\", \"cartoon\", \"cartoon\", \"cartoon\", \"cartoon\", \"cartoon\", \"center\", \"center\", \"center\", \"central\", \"childrens\", \"civil\", \"coach\", \"coach\", \"coder\", \"coder\", \"coding\", \"color\", \"color\", \"color\", \"color\", \"color\", \"color\", \"comics\", \"comics\", \"comics\", \"comics\", \"commerce\", \"commerce\", \"commerce\", \"commerce\", \"commerce\", \"commerce\", \"communication\", \"communication\", \"communication\", \"communication\", \"community\", \"community\", \"community\", \"community\", \"community\", \"community\", \"complete\", \"complete\", \"complete\", \"computer\", \"computer\", \"computer\", \"computer\", \"console\", \"consultancy\", \"consultant\", \"consultant\", \"consultant\", \"consultant\", \"consultant\", \"consultant\", \"consultant\", \"consultant\", \"consultant\", \"consultant\", \"content\", \"content\", \"content\", \"content\", \"content\", \"content\", \"content\", \"content\", \"content\", \"contract\", \"contract\", \"convert\", \"copywriting\", \"copywriting\", \"copywriting\", \"copywriting\", \"core\", \"correction\", \"correction\", \"correction\", \"correction\", \"correction\", \"correction\", \"cpso\", \"creativity\", \"credit\", \"credit\", \"credit\", \"criativos\", \"crm\", \"crm\", \"crm\", \"crm\", \"crm\", \"crm\", \"csr\", \"custom\", \"custom\", \"custom\", \"custom\", \"custom\", \"custom\", \"custom\", \"custom\", \"customer\", \"customer\", \"customer\", \"customer\", \"customer\", \"customer\", \"customize\", \"dart\", \"dart\", \"dart\", \"dart\", \"dashboard\", \"data\", \"data\", \"data\", \"data\", \"data\", \"data\", \"data\", \"data\", \"data\", \"database\", \"database\", \"database\", \"database\", \"database\", \"database\", \"deal\", \"description\", \"description\", \"design\", \"design\", \"design\", \"design\", \"design\", \"design\", \"design\", \"design\", \"design\", \"design\", \"designed\", \"designer\", \"designer\", \"designer\", \"designer\", \"designer\", \"designer\", \"designer\", \"designer\", \"designer\", \"designer\", \"desk\", \"desktop\", \"desktop\", \"desktop\", \"desktop\", \"dev\", \"dev\", \"develop\", \"develop\", \"develop\", \"develop\", \"develop\", \"develop\", \"develop\", \"developer\", \"developer\", \"developer\", \"developer\", \"developer\", \"developer\", \"developer\", \"developer\", \"developer\", \"developer\", \"development\", \"development\", \"development\", \"development\", \"development\", \"development\", \"development\", \"development\", \"development\", \"development\", \"devlopment\", \"devolpment\", \"devops\", \"devops\", \"diagram\", \"digital\", \"digital\", \"digital\", \"digital\", \"digital\", \"digital\", \"digital\", \"digital\", \"digital\", \"director\", \"director\", \"director\", \"director\", \"director\", \"director\", \"director\", \"director\", \"director\", \"diseno\", \"distinguished\", \"django\", \"django\", \"documentation\", \"drafting\", \"dutch\", \"dw\", \"dynamics\", \"dynamics\", \"ea\", \"earning\", \"easily\", \"ebook\", \"ec\", \"ec\", \"ec\", \"editing\", \"editing\", \"editing\", \"editing\", \"editing\", \"editing\", \"editing\", \"editing\", \"editing\", \"editor\", \"editor\", \"editor\", \"editor\", \"editor\", \"editor\", \"editor\", \"editor\", \"editor\", \"editor\", \"effects\", \"effects\", \"elearning\", \"elements\", \"email\", \"email\", \"email\", \"email\", \"email\", \"email\", \"email\", \"end\", \"end\", \"end\", \"end\", \"end\", \"end\", \"end\", \"end\", \"engine\", \"engine\", \"engineer\", \"engineer\", \"engineer\", \"engineer\", \"engineer\", \"engineer\", \"engineer\", \"engineer\", \"engineer\", \"engineer\", \"engineering\", \"engineering\", \"engineering\", \"engineering\", \"engineering\", \"engineering\", \"english\", \"english\", \"english\", \"english\", \"english\", \"english\", \"english\", \"english\", \"english\", \"entry\", \"entry\", \"entry\", \"entry\", \"entry\", \"entry\", \"entry\", \"entry\", \"erp\", \"erp\", \"erp\", \"erp\", \"erpnext\", \"escrita\", \"esignal\", \"evening\", \"every\", \"everyday\", \"everything\", \"ex\", \"excel\", \"excel\", \"excel\", \"excel\", \"excel\", \"excel\", \"excel\", \"excel\", \"excel\", \"expect\", \"experience\", \"experience\", \"experience\", \"experience\", \"experienced\", \"experienced\", \"experienced\", \"experienced\", \"experienced\", \"expert\", \"expert\", \"expert\", \"expert\", \"expert\", \"expert\", \"expert\", \"expert\", \"expert\", \"expert\", \"experts\", \"experts\", \"facebook\", \"facebook\", \"facebook\", \"facebook\", \"facebook\", \"facebook\", \"finance\", \"finance\", \"finance\", \"finance\", \"finance\", \"fixes\", \"flash\", \"flask\", \"flow\", \"flow\", \"flyer\", \"flyer\", \"freelance\", \"freelance\", \"freelance\", \"freelancer\", \"freelancer\", \"freelancer\", \"fresh\", \"front\", \"front\", \"front\", \"front\", \"front\", \"frontend\", \"frontend\", \"frontend\", \"fuel\", \"full\", \"full\", \"full\", \"full\", \"full\", \"full\", \"full\", \"full\", \"generation\", \"generation\", \"generation\", \"generation\", \"generation\", \"generation\", \"generation\", \"genius\", \"gideon\", \"google\", \"google\", \"google\", \"google\", \"google\", \"google\", \"google\", \"google\", \"graduate\", \"grant\", \"graphic\", \"graphic\", \"graphic\", \"graphic\", \"graphic\", \"graphic\", \"graphic\", \"graphic\", \"graphic\", \"graphic\", \"graphics\", \"graphics\", \"graphics\", \"graphics\", \"graphics\", \"graphics\", \"graphics\", \"graphics\", \"great\", \"gts\", \"guest\", \"guest\", \"guest\", \"guest\", \"gurus\", \"hands\", \"healthcare\", \"heavy\", \"high\", \"high\", \"high\", \"highly\", \"hire\", \"home\", \"house\", \"hr\", \"hr\", \"hrm\", \"hrs\", \"html\", \"html\", \"html\", \"html\", \"html\", \"html\", \"html\", \"html\", \"human\", \"human\", \"icon\", \"icon\", \"illustration\", \"illustration\", \"illustration\", \"illustrator\", \"illustrator\", \"illustrator\", \"illustrator\", \"illustrator\", \"illustrator\", \"illustrator\", \"image\", \"image\", \"image\", \"image\", \"image\", \"image\", \"image\", \"image\", \"image\", \"implementation\", \"ind\", \"independent\", \"information\", \"information\", \"interior\", \"interior\", \"interior\", \"intern\", \"internet\", \"internet\", \"internet\", \"internet\", \"internet\", \"io\", \"ios\", \"ios\", \"ios\", \"ios\", \"ios\", \"ios\", \"ios\", \"ios\", \"japanese\", \"japanese\", \"japanese\", \"jasper\", \"java\", \"java\", \"java\", \"java\", \"java\", \"javascript\", \"javascript\", \"javascript\", \"javascript\", \"jobs\", \"joomla\", \"joomla\", \"joomla\", \"jquery\", \"jquery\", \"jquery\", \"jquery\", \"jr\", \"js\", \"js\", \"js\", \"js\", \"js\", \"js\", \"junior\", \"junior\", \"junior\", \"junior\", \"junior\", \"key\", \"keyword\", \"keyword\", \"kind\", \"lahore\", \"landing\", \"landing\", \"landing\", \"landing\", \"language\", \"language\", \"language\", \"language\", \"language\", \"language\", \"laravel\", \"laravel\", \"laravel\", \"laravel\", \"laravel\", \"laravel\", \"laravel\", \"laravel\", \"lead\", \"lead\", \"lead\", \"lead\", \"lead\", \"lead\", \"lead\", \"lead\", \"lead\", \"lead\", \"leader\", \"leaflet\", \"learning\", \"learning\", \"learning\", \"learning\", \"legal\", \"legal\", \"legal\", \"legal\", \"licensed\", \"link\", \"link\", \"link\", \"link\", \"link\", \"link\", \"link\", \"linkedin\", \"linkedin\", \"linkedin\", \"linkedin\", \"logo\", \"logo\", \"logo\", \"logo\", \"logo\", \"logo\", \"logo\", \"logo\", \"maintainable\", \"making\", \"making\", \"management\", \"management\", \"management\", \"management\", \"management\", \"management\", \"management\", \"management\", \"manager\", \"manager\", \"manager\", \"manager\", \"manager\", \"manager\", \"manager\", \"manager\", \"manager\", \"manager\", \"manipulation\", \"manipulation\", \"manipulation\", \"manual\", \"manual\", \"market\", \"market\", \"marketing\", \"marketing\", \"marketing\", \"marketing\", \"marketing\", \"marketing\", \"marketing\", \"marketing\", \"marketing\", \"marketing\", \"markets\", \"matlab\", \"mba\", \"mckinsey\", \"mechanical\", \"mechanical\", \"mechanical\", \"mechanical\", \"mechatronics\", \"media\", \"media\", \"media\", \"media\", \"media\", \"media\", \"media\", \"media\", \"meng\", \"mensah\", \"mern\", \"microsoft\", \"microsoft\", \"microsoft\", \"microsoft\", \"microsoft\", \"microsoft\", \"microsoft\", \"miner\", \"mining\", \"mining\", \"mining\", \"mining\", \"ml\", \"mobile\", \"mobile\", \"mobile\", \"mobile\", \"mobile\", \"mobile\", \"mobile\", \"modeling\", \"modeling\", \"modeling\", \"modeling\", \"modeling\", \"modeling\", \"modeller\", \"modelling\", \"modern\", \"money\", \"moodle\", \"moodle\", \"moodle\", \"motion\", \"motion\", \"motion\", \"motion\", \"motion\", \"motion\", \"mql\", \"mvc\", \"mvc\", \"mvvm\", \"mysql\", \"mysql\", \"mysql\", \"mystic\", \"net\", \"net\", \"net\", \"net\", \"net\", \"next\", \"nft\", \"node\", \"node\", \"offering\", \"one\", \"one\", \"online\", \"online\", \"online\", \"online\", \"online\", \"online\", \"online\", \"operation\", \"oracle\", \"oracle\", \"orchestration\", \"ou\", \"outsourcing\", \"outstanding\", \"owner\", \"owner\", \"package\", \"page\", \"page\", \"page\", \"page\", \"page\", \"page\", \"page\", \"paginas\", \"panda\", \"partnership\", \"partnership\", \"partnership\", \"passionate\", \"pc\", \"pdf\", \"pdf\", \"penguin\", \"perfect\", \"perfection\", \"perfectly\", \"ph\", \"photo\", \"photo\", \"photo\", \"photo\", \"photo\", \"photo\", \"photo\", \"photo\", \"photography\", \"photography\", \"php\", \"php\", \"php\", \"php\", \"php\", \"php\", \"php\", \"php\", \"php\", \"pinescript\", \"pixel\", \"plains\", \"planning\", \"planning\", \"planning\", \"platform\", \"platform\", \"platform\", \"please\", \"plsql\", \"plus\", \"plus\", \"podcast\", \"portal\", \"pos\", \"pos\", \"pos\", \"pos\", \"posting\", \"posting\", \"posts\", \"power\", \"power\", \"power\", \"powerapps\", \"print\", \"print\", \"product\", \"product\", \"product\", \"product\", \"product\", \"product\", \"product\", \"professional\", \"professional\", \"professional\", \"professional\", \"professional\", \"professional\", \"professional\", \"professionals\", \"profitable\", \"programacion\", \"programming\", \"programming\", \"programming\", \"programming\", \"programming\", \"programming\", \"programming\", \"promotor\", \"proofreader\", \"proofreader\", \"proofreader\", \"proofreader\", \"proofreader\", \"proofreading\", \"proofreading\", \"proofreading\", \"properly\", \"psd\", \"psd\", \"psd\", \"psd\", \"pucit\", \"python\", \"python\", \"python\", \"python\", \"python\", \"python\", \"qlikview\", \"quality\", \"quality\", \"quality\", \"quality\", \"quality\", \"quality\", \"quality\", \"quality\", \"quality\", \"quality\", \"query\", \"query\", \"rails\", \"rails\", \"rails\", \"ranking\", \"ranking\", \"ranking\", \"ranking\", \"react\", \"react\", \"react\", \"react\", \"react\", \"ready\", \"recovery\", \"recruiter\", \"relationship\", \"release\", \"release\", \"release\", \"rendering\", \"rendering\", \"rendering\", \"repair\", \"repair\", \"representative\", \"representative\", \"representative\", \"representative\", \"requirement\", \"research\", \"research\", \"research\", \"research\", \"research\", \"research\", \"resizing\", \"resizing\", \"resizing\", \"resource\", \"responsive\", \"responsive\", \"responsive\", \"responsive\", \"responsive\", \"responsive\", \"reviewer\", \"rf\", \"riva\", \"robot\", \"robotics\", \"russian\", \"russian\", \"saas\", \"saas\", \"sage\", \"sales\", \"sales\", \"sales\", \"sales\", \"sap\", \"sap\", \"sap\", \"scraping\", \"scraping\", \"scraping\", \"scraping\", \"scraping\", \"scraping\", \"scraping\", \"sd\", \"sdlc\", \"search\", \"search\", \"search\", \"security\", \"security\", \"security\", \"security\", \"senior\", \"senior\", \"senior\", \"senior\", \"senior\", \"senior\", \"senior\", \"senior\", \"senior\", \"senior\", \"service\", \"service\", \"service\", \"service\", \"service\", \"service\", \"services\", \"services\", \"services\", \"services\", \"services\", \"services\", \"services\", \"services\", \"sheets\", \"sheets\", \"shift\", \"shift\", \"shift\", \"shift\", \"shift\", \"shift\", \"shop\", \"shop\", \"shop\", \"shopify\", \"shopify\", \"shopify\", \"shopify\", \"shopify\", \"shopify\", \"shopify\", \"shopify\", \"shopify\", \"simplified\", \"site\", \"sketchup\", \"sketchup\", \"sketchup\", \"skills\", \"skip\", \"smaller\", \"sme\", \"social\", \"social\", \"social\", \"social\", \"social\", \"social\", \"social\", \"social\", \"software\", \"software\", \"software\", \"software\", \"software\", \"software\", \"software\", \"software\", \"software\", \"software\", \"solidworks\", \"solidworks\", \"solution\", \"solution\", \"solution\", \"solutions\", \"solutions\", \"south\", \"specialis\", \"specialist\", \"specialist\", \"specialist\", \"specialist\", \"specialist\", \"specialist\", \"specialist\", \"specialist\", \"specialist\", \"specialist\", \"specification\", \"spreadsheets\", \"spreadsheets\", \"sql\", \"sql\", \"sql\", \"sqlserver\", \"sqlserver\", \"sr\", \"sr\", \"sr\", \"sr\", \"sr\", \"sr\", \"sr\", \"sr\", \"sr\", \"stack\", \"stack\", \"stack\", \"stack\", \"stack\", \"stack\", \"stack\", \"stat\", \"storage\", \"strategy\", \"strategy\", \"strategy\", \"strategy\", \"strategy\", \"strategy\", \"strategy\", \"structured\", \"structured\", \"studio\", \"studio\", \"suite\", \"suite\", \"supplies\", \"support\", \"support\", \"support\", \"support\", \"support\", \"support\", \"system\", \"system\", \"system\", \"system\", \"system\", \"system\", \"tableau\", \"tableau\", \"talent\", \"talent\", \"tasks\", \"tasks\", \"tasks\", \"tasks\", \"team\", \"team\", \"team\", \"team\", \"team\", \"tech\", \"tech\", \"technical\", \"technical\", \"technical\", \"technical\", \"technical\", \"technical\", \"technical\", \"technical\", \"telemarketing\", \"tematicos\", \"tender\", \"testing\", \"testing\", \"testing\", \"textos\", \"themes\", \"thing\", \"three\", \"today\", \"tracer\", \"trader\", \"tradingview\", \"trainee\", \"trainee\", \"trainee\", \"trainee\", \"transcription\", \"transcription\", \"transcription\", \"transcription\", \"transcription\", \"translator\", \"translator\", \"translator\", \"translator\", \"translator\", \"translator\", \"translator\", \"translator\", \"translator\", \"troubleshooting\", \"turkish\", \"turkish\", \"tvos\", \"twilio\", \"ui\", \"ui\", \"ui\", \"ui\", \"ui\", \"ui\", \"ui\", \"ui\", \"ui\", \"ui\", \"unqiue\", \"ur\", \"us\", \"us\", \"usability\", \"ux\", \"ux\", \"ux\", \"ux\", \"ux\", \"ux\", \"ux\", \"ux\", \"valuation\", \"valuation\", \"valuation\", \"vba\", \"vba\", \"vba\", \"vfx\", \"vfx\", \"vfx\", \"vicidial\", \"video\", \"video\", \"video\", \"video\", \"video\", \"video\", \"video\", \"video\", \"vision\", \"web\", \"web\", \"web\", \"web\", \"web\", \"web\", \"web\", \"web\", \"web\", \"web\", \"webflow\", \"webflow\", \"webgl\", \"webs\", \"website\", \"website\", \"website\", \"website\", \"website\", \"website\", \"website\", \"website\", \"win\", \"woo\", \"woo\", \"woocommerce\", \"woocommerce\", \"woocommerce\", \"woocommerce\", \"woocommerce\", \"woocommerce\", \"word\", \"word\", \"word\", \"wordpress\", \"wordpress\", \"wordpress\", \"wordpress\", \"wordpress\", \"wordpress\", \"wordpress\", \"wordpress\", \"wordpress\", \"wordpress\", \"workflow\", \"wpf\", \"writer\", \"writer\", \"writer\", \"writer\", \"writer\", \"writer\", \"writer\", \"writer\", \"writer\", \"writer\", \"writing\", \"writing\", \"writing\", \"writing\", \"writing\", \"writing\", \"writing\", \"writing\", \"writing\", \"writter\", \"years\", \"years\", \"years\", \"years\", \"years\", \"yii\", \"zapier\"]}, \"R\": 30, \"lambda.step\": 0.01, \"plot.opts\": {\"xlab\": \"PC1\", \"ylab\": \"PC2\"}, \"topic.order\": [8, 4, 3, 9, 7, 1, 5, 10, 2, 6]};\n",
              "\n",
              "function LDAvis_load_lib(url, callback){\n",
              "  var s = document.createElement('script');\n",
              "  s.src = url;\n",
              "  s.async = true;\n",
              "  s.onreadystatechange = s.onload = callback;\n",
              "  s.onerror = function(){console.warn(\"failed to load library \" + url);};\n",
              "  document.getElementsByTagName(\"head\")[0].appendChild(s);\n",
              "}\n",
              "\n",
              "if(typeof(LDAvis) !== \"undefined\"){\n",
              "   // already loaded: just create the visualization\n",
              "   !function(LDAvis){\n",
              "       new LDAvis(\"#\" + \"ldavis_el135140200518200336335960933\", ldavis_el135140200518200336335960933_data);\n",
              "   }(LDAvis);\n",
              "}else if(typeof define === \"function\" && define.amd){\n",
              "   // require.js is available: use it to load d3/LDAvis\n",
              "   require.config({paths: {d3: \"https://d3js.org/d3.v5\"}});\n",
              "   require([\"d3\"], function(d3){\n",
              "      window.d3 = d3;\n",
              "      LDAvis_load_lib(\"https://cdn.jsdelivr.net/gh/bmabey/pyLDAvis@3.4.0/pyLDAvis/js/ldavis.v3.0.0.js\", function(){\n",
              "        new LDAvis(\"#\" + \"ldavis_el135140200518200336335960933\", ldavis_el135140200518200336335960933_data);\n",
              "      });\n",
              "    });\n",
              "}else{\n",
              "    // require.js not available: dynamically load d3 & LDAvis\n",
              "    LDAvis_load_lib(\"https://d3js.org/d3.v5.js\", function(){\n",
              "         LDAvis_load_lib(\"https://cdn.jsdelivr.net/gh/bmabey/pyLDAvis@3.4.0/pyLDAvis/js/ldavis.v3.0.0.js\", function(){\n",
              "                 new LDAvis(\"#\" + \"ldavis_el135140200518200336335960933\", ldavis_el135140200518200336335960933_data);\n",
              "            })\n",
              "         });\n",
              "}\n",
              "</script>"
            ]
          },
          "metadata": {},
          "execution_count": 49
        }
      ]
    },
    {
      "cell_type": "code",
      "source": [],
      "metadata": {
        "id": "dlmkR0AXwBEb"
      },
      "execution_count": null,
      "outputs": []
    }
  ]
}